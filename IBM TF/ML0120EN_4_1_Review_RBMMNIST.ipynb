{
  "cells": [
    {
      "cell_type": "markdown",
      "metadata": {
        "id": "fe1c6d2d-0bf8-4946-baf4-67db1fb6e512"
      },
      "source": [
        "<img src=\"https://cf-courses-data.s3.us.cloud-object-storage.appdomain.cloud/IBMDeveloperSkillsNetwork-DL0120EN-SkillsNetwork/images/IDSN-logo.png\" width=\"300\" alt=\"cognitiveclass.ai logo\">\n",
        "\n",
        "<h1 align=\"center\"><font size=\"5\">RESTRICTED BOLTZMANN MACHINES</font></h1>\n"
      ]
    },
    {
      "cell_type": "markdown",
      "metadata": {
        "id": "d52b5ec0-3f53-47d2-8045-c736beb23245"
      },
      "source": [
        "Estimated time needed: **25** minutes\n"
      ]
    },
    {
      "cell_type": "markdown",
      "metadata": {
        "id": "cdb605b0-b4ee-4cdb-a0f2-5afc262e93c8"
      },
      "source": [
        "<h3>Introduction</h3>\n",
        "<b>Restricted Boltzmann Machine (RBM):</b>  RBMs are shallow neural nets that learn to reconstruct data by themselves in an unsupervised fashion.  \n",
        "\n",
        "\n",
        "<h4>Why are RBMs important?</h4>\n",
        "An RBM are a basic form of autoencoder.  It can automatically extract <b>meaningful</b> features from a given input.\n",
        "\n",
        "\n",
        "<h4>How does it work?</h4>\n",
        "RBM is a 2 layer neural network. Simply, RBM takes the inputs and translates those into a set of binary values that represents them in the hidden layer. Then, these numbers can be translated back to reconstruct the inputs. Through several forward and backward passes, the RBM will be trained, and a trained RBM can reveal which features are the most important ones when detecting patterns.   \n",
        "\n",
        "\n",
        "<h4>What are the applications of an RBM?</h4>\n",
        "RBM is useful for <a href='http://www.cs.utoronto.ca/~hinton/absps/netflixICML.pdf?utm_medium=Exinfluencer&utm_source=Exinfluencer&utm_content=000026UJ&utm_term=10006555&utm_id=NA-SkillsNetwork-Channel-SkillsNetworkCoursesIBMDeveloperSkillsNetworkDL0120ENSkillsNetwork954-2023-01-01'>  Collaborative Filtering</a>, dimensionality reduction, classification, regression, feature learning, topic modeling and even <b>Deep Belief Networks</b>.\n",
        "\n",
        "<h4>Is RBM a generative or Discriminative model?</h4>\n",
        "RBM is a generative model. Let me explain it by first, see what is different between discriminative and generative models:\n",
        "\n",
        "<b>Discriminative:</b> Consider a classification problem where we want to learn to distinguish between Sedan cars (y = 1) and SUV cars (y = 0), based on some features of cars. Given a training set, an algorithm like logistic regression tries to find a straight line, or <i>decision boundary</i>, that separates the suv and sedan.  \n",
        "\n",
        "<b>Generative:</b> looking at cars, we can build a model of what Sedan cars look like. Then, looking at SUVs, we can build a separate model of what SUV cars look like. Finally, to classify a new car, we can match the new car against the Sedan model, and match it against the SUV model, to see whether the new car looks more like the SUV or Sedan.\n",
        "\n",
        "Generative Models specify a probability distribution over a dataset of input vectors. We can carry out both supervised and unsupervised tasks with generative models:\n",
        "<ul>\n",
        "    <li>In an unsupervised task, we try to form a model for $P(x)$, where $P$ is the probability given $x$ as an input vector.</li>\n",
        "    <li>In the supervised task, we first form a model for $P(x|y)$, where $P$ is the probability of $x$ given $y$(the label for $x$). For example, if $y = 0$ indicates that a car is an SUV, and $y = 1$ indicates that a car is a sedan, then $p(x|y = 0)$ models the distribution of SUV features, and $p(x|y = 1)$ models the distribution of sedan features. If we manage to find $P(x|y)$ and $P(y)$, then we can use <b>Bayes rule</b> to estimate $P(y|x)$, because:   \n",
        "        $$p(y|x) = \\frac{p(x|y)p(y)}{p(x)}$$</li>\n",
        "</ul>\n",
        "Now the question is, can we build a generative model, and then use it to create synthetic data by directly sampling from the modeled probability distributions? Lets see.\n"
      ]
    },
    {
      "cell_type": "markdown",
      "metadata": {
        "id": "267871b6-1fb3-43bc-abb2-76f7de374490"
      },
      "source": [
        "<h2>Table of Contents</h2>\n",
        "<ol>\n",
        "    <li><a href=\"#ref1\">Initialization</a></li>\n",
        "    <li><a href=\"#ref2\">RBM layers</a></li>\n",
        "    <li><a href=\"#ref3\">What RBM can do after training?</a></li>\n",
        "    <li><a href=\"#ref4\">How to train the model?</a></li>\n",
        "    <li><a href=\"#ref5\">Learned features</a></li>\n",
        "</ol>\n",
        "<p></p>\n",
        "</div>\n",
        "<br>\n",
        "\n",
        "<hr>\n"
      ]
    },
    {
      "cell_type": "markdown",
      "metadata": {
        "id": "eeab3e3c-2267-4d9d-ae3e-7c678d0c2c89"
      },
      "source": [
        "<a id=\"ref1\"></a>\n",
        "<h3>Initialization</h3>\n",
        "\n",
        "First, we have to load the utility file which contains different utility functions that are not connected\n",
        "in any way to the networks presented in the tutorials, but rather help in\n",
        "processing the outputs into a more understandable way.\n"
      ]
    },
    {
      "cell_type": "code",
      "metadata": {
        "id": "48765d73-89aa-41bf-bc31-9922da4f3df5"
      },
      "outputs": [],
      "source": [
        "import urllib.request\n",
        "with urllib.request.urlopen(\"https://cf-courses-data.s3.us.cloud-object-storage.appdomain.cloud/IBMDeveloperSkillsNetwork-DL0120EN-SkillsNetwork/labs/Week4/data/utils.py\") as url:\n",
        "    response = url.read()\n",
        "target = open('utils.py', 'w')\n",
        "target.write(response.decode('utf-8'))\n",
        "target.close()"
      ],
      "execution_count": 1
    },
    {
      "cell_type": "markdown",
      "metadata": {
        "id": "abc2e254-e8a3-4963-a703-d2d756b1c88e"
      },
      "source": [
        "<h2>Installing TensorFlow </h2>\n",
        "\n",
        "We will installing TensorFlow version 2.9.0 and its required prerequistes.  Also installing pillow...\n"
      ]
    },
    {
      "cell_type": "code",
      "metadata": {
        "id": "7f319a08-6876-47ad-b15a-02c68f176114"
      },
      "outputs": [],
      "source": [
        "#!pip install grpcio==1.24.3\n",
        "#!pip install tensorflow==2.9.0\n",
        "#!pip install pillow==8.1.0"
      ],
      "execution_count": 2
    },
    {
      "cell_type": "markdown",
      "metadata": {
        "id": "681a4e4f-ef2e-416a-a70c-946547b8aa12"
      },
      "source": [
        "<b>Notice:</b> This notebook has been created with TensorFlow version 2.9.0, and might not work with other versions. Therefore we check:\n"
      ]
    },
    {
      "cell_type": "code",
      "metadata": {
        "colab": {
          "base_uri": "https://localhost:8080/",
          "height": 109
        },
        "id": "b8801866-525d-4dc6-9970-624ac5f698e0",
        "outputId": "1a71f956-25b2-4fc4-e711-02569621b541"
      },
      "outputs": [
        {
          "output_type": "display_data",
          "data": {
            "text/plain": [
              "<IPython.core.display.Markdown object>"
            ],
            "text/markdown": "# <span style=\"color:red\"><<<<<!!!!! ERROR !!!! please upgrade to TensorFlow 2.9.0, or restart your Kernel (Kernel->Restart & Clear Output)>>>>></span>"
          },
          "metadata": {}
        }
      ],
      "source": [
        "import tensorflow as tf\n",
        "from IPython.display import Markdown, display\n",
        "\n",
        "def printmd(string):\n",
        "    display(Markdown('# <span style=\"color:red\">'+string+'</span>'))\n",
        "\n",
        "\n",
        "if not tf.__version__ == '2.9.0':\n",
        "    printmd('<<<<<!!!!! ERROR !!!! please upgrade to TensorFlow 2.9.0, or restart your Kernel (Kernel->Restart & Clear Output)>>>>>')"
      ],
      "execution_count": 3
    },
    {
      "cell_type": "markdown",
      "metadata": {
        "id": "e45094f2-4d4a-4fed-a2dd-4929a34fe5ea"
      },
      "source": [
        "Now, we load in all the packages that we use to create the net including the TensorFlow package:\n"
      ]
    },
    {
      "cell_type": "code",
      "metadata": {
        "id": "50bdebfb-45a5-4ca1-a27b-0f0418cf8f5d"
      },
      "outputs": [],
      "source": [
        "import tensorflow as tf\n",
        "import numpy as np\n",
        "\n",
        "from PIL import Image\n",
        "from utils import tile_raster_images\n",
        "import matplotlib.pyplot as plt\n",
        "%matplotlib inline"
      ],
      "execution_count": 4
    },
    {
      "cell_type": "markdown",
      "metadata": {
        "id": "1221efcd-a883-473d-bb86-a34ee68c8ea9"
      },
      "source": [
        "<hr>\n"
      ]
    },
    {
      "cell_type": "markdown",
      "metadata": {
        "id": "77b0892d-d47e-4590-b2c5-dc8c0e3d7752"
      },
      "source": [
        "<a id=\"ref2\"></a>\n",
        "<h3>RBM layers</h3>\n",
        "\n",
        "An RBM has two layers. The first layer of the RBM is called the <b>visible</b> (or input layer). Imagine that our toy example, has only vectors with 7 values, so the visible layer must have $V=7$ input nodes.\n",
        "The second layer is the <b>hidden</b> layer, which has $H$ neurons in our case. Each hidden node takes on values of either 0 or 1 (i.e., $h_i = 1$ or $h_i$ = 0), with a probability that is a logistic function of the inputs it receives from the other $V$ visible units, called for example, $p(h_i = 1)$. For our toy sample, we'll use 2 nodes in the hidden layer, so $H = 2$.\n",
        "\n",
        "<center><img src=\"https://ibm.box.com/shared/static/eu26opvcefgls6vnwuo29uwp0nudmokh.png\" alt=\"RBM Model\" style=\"width: 400px;\"></center>\n"
      ]
    },
    {
      "cell_type": "markdown",
      "metadata": {
        "id": "349468b7-0ffd-4e8f-8d68-d9443be849a8"
      },
      "source": [
        "     \n",
        "\n",
        "Each node in the first layer also has a <b>bias</b>. We will denote the bias as $v_{bias}$, and this single value is shared among the $V$ visible units.\n",
        "\n",
        "The <b>bias</b> of the second is defined similarly as $h_{bias}$, and this single value among the $H$ hidden units.\n"
      ]
    },
    {
      "cell_type": "code",
      "metadata": {
        "id": "2faea12d-bdae-421e-b61f-e9a70103e7bb"
      },
      "outputs": [],
      "source": [
        "v_bias = tf.Variable(tf.zeros([7]), tf.float32)\n",
        "h_bias = tf.Variable(tf.zeros([2]), tf.float32)"
      ],
      "execution_count": 5
    },
    {
      "cell_type": "markdown",
      "metadata": {
        "id": "48d08e21-a12d-4c41-a2f2-35c000783b8a"
      },
      "source": [
        "We have to define weights among the input layer and hidden layer nodes. In the weight matrix, the number of rows are equal to the input nodes, and the number of columns are equal to the output nodes. We define a tensor $\\mathbf{W}$ of shape = (7,2), where the number of visible neurons = 7, and the number of hidden neurons = 2.\n"
      ]
    },
    {
      "cell_type": "code",
      "metadata": {
        "id": "e47a9ee0-0eb2-4184-8b46-5815eddc060b"
      },
      "outputs": [],
      "source": [
        "W = tf.constant(np.random.normal(loc=0.0, scale=1.0, size=(7, 2)).astype(np.float32))"
      ],
      "execution_count": 6
    },
    {
      "cell_type": "markdown",
      "metadata": {
        "id": "74b48a8e-be39-4b5a-a310-0be1f4c6381a"
      },
      "source": [
        "<hr>\n"
      ]
    },
    {
      "cell_type": "markdown",
      "metadata": {
        "id": "218458dc-8d87-4c24-b9aa-db6117cdc8f8"
      },
      "source": [
        "<a id=\"ref3\"></a>\n",
        "<h3>What RBM can do after training?</h3>\n",
        "Think of RBM as a model that has been trained based on images of a dataset of many SUV and sedan cars. Also, imagine that the RBM network has only two hidden nodes, where one node encodes the weight and, and the other encodes the size.  \n",
        "In a sense, the different configurations represent different cars, where one is an SUV and the other is Sedan.  In a training process, through many forward and backward passes, the RBM adjust its weights to send a stronger signal to either the SUV node (0, 1) or the sedan node (1, 0) in the hidden layer, given the pixels of images. Now, given an SUV in hidden layer, which distribution of pixels should we expect? RBM can give you 2 things. First, it encodes your images in hidden layer. Second, it gives you the probability of observing a case, given some hidden values.\n",
        "\n",
        "\n",
        "<h3>The Inference Process</h3>\n",
        "\n",
        "RBM has two phases:\n",
        "<ul>\n",
        "    <li>Forward Pass</li>  \n",
        "    <li>Backward Pass or Reconstruction</li>\n",
        "</ul>\n",
        "\n",
        "<b>Phase 1) Forward pass:</b>  \n",
        "\n",
        "Input one training sample (one image) $\\mathbf{x}$ through all visible nodes, and pass it to all hidden nodes. Processing happens in each node in the hidden layer. This computation begins by making stochastic decisions about whether to transmit that input or not (i.e. to determine the state of each hidden layer).  First, the probability vector is computed using the input feature vector $\\mathbf{x}$, the weight matrix $\\mathbf{W}$, and the bias term $h_{bias}$, as\n",
        "\n",
        "\n",
        "$$p({h_j}|\\mathbf x)= \\sigma( \\sum_{i=1}^V W_{ij} x_i + h_{bias} )$$,\n",
        "\n",
        "where $\\sigma(z) = (1+e^{-z})^{-1}$ is the logistic function.\n",
        "\n",
        "\n",
        "So, what does $p({h_j})$ represent? It is the <b>probability distribution</b> of the hidden units. That is, RBM uses inputs $x_i$ to make predictions about hidden node activations. For example, imagine that the hidden node activation values are [0.51 0.84] for the first training item. It tells you that the conditional probability for each hidden neuron for Phase 1 is:\n",
        "\n",
        "$$p(h_{1} = 1|\\mathbf{v}) = 0.51$$\n",
        "$$p(h_{2} = 1|\\mathbf{v}) = 0.84$$\n",
        "\n",
        "As a result, for each row in the training set, vector of probabilities is generated.  In TensorFlow, this is referred to as a `tensor` with a shape of (1,2).\n",
        "\n",
        "We then turn unit $j$ with probability $p(h_{j}|\\mathbf{v})$, and turn it off with probability $1 - p(h_{j}|\\mathbf{v})$ by generating a uniform random number vector $\\mathbf{\\xi}$, and comparing it to the activation probability as\n",
        "\n",
        "<center>If $\\xi_j>p(h_{j}|\\mathbf{v})$, then $h_j=1$, else $h_j=0$.</center>\n",
        "\n",
        "\n",
        "Therefore, the conditional probability of a configuration of $\\mathbf{h}$ given $\\mathbf{v}$ (for a training sample) is:\n",
        "\n",
        "$$p(\\mathbf{h} \\mid \\mathbf{v}) = \\prod_{j=1}^H p(h_j \\mid \\mathbf{v})$$\n",
        "\n",
        "\n",
        "where $H$ is the number of hidden units.\n",
        "\n"
      ]
    },
    {
      "cell_type": "markdown",
      "metadata": {
        "id": "8d88de99-9eac-4b72-9ef4-d050160fcb2a"
      },
      "source": [
        "Before we go further, let's look at a toy example for one case out of all input. Assume that we have a trained RBM, and a very simple input vector, such as [1.0, 0.0, 0.0, 1.0, 0.0, 0.0, 0.0].   \n",
        "Let's see what the output of forward pass would look like:\n"
      ]
    },
    {
      "cell_type": "code",
      "metadata": {
        "colab": {
          "base_uri": "https://localhost:8080/"
        },
        "id": "64856f2f-4991-487c-9de4-bd090c9e8aa7",
        "outputId": "70dab32e-2a0b-4936-cea8-349f97646698"
      },
      "outputs": [
        {
          "output_type": "stream",
          "name": "stdout",
          "text": [
            "Input:  tf.Tensor([[1. 0. 0. 1. 0. 0. 0.]], shape=(1, 7), dtype=float32)\n",
            "hb:  tf.Tensor([0.1 0.1], shape=(2,), dtype=float32)\n",
            "w:  tf.Tensor(\n",
            "[[ 2.210673    1.8386191 ]\n",
            " [ 0.11930099 -1.3218019 ]\n",
            " [-0.2628739  -0.9897734 ]\n",
            " [ 0.26951835  0.5861676 ]\n",
            " [-0.05039998  0.5100201 ]\n",
            " [ 0.7688798  -0.95575446]\n",
            " [-0.35912082  2.1555738 ]], shape=(7, 2), dtype=float32)\n",
            "p(h|v):  tf.Tensor([[0.9295758 0.9258613]], shape=(1, 2), dtype=float32)\n",
            "h0 states: tf.Tensor([[1. 1.]], shape=(1, 2), dtype=float32)\n"
          ]
        }
      ],
      "source": [
        "X = tf.constant([[1.0, 0.0, 0.0, 1.0, 0.0, 0.0, 0.0]], tf.float32)\n",
        "\n",
        "v_state = X\n",
        "print (\"Input: \", v_state)\n",
        "\n",
        "h_bias = tf.constant([0.1, 0.1])\n",
        "print (\"hb: \", h_bias)\n",
        "print (\"w: \", W)\n",
        "\n",
        "# Calculate the probabilities of turning the hidden units on:\n",
        "h_prob = tf.nn.sigmoid(tf.matmul(v_state, W) + h_bias)  #probabilities of the hidden units\n",
        "print (\"p(h|v): \", h_prob)\n",
        "\n",
        "# Draw samples from the distribution:\n",
        "h_state = tf.nn.relu(tf.sign(h_prob - tf.random.uniform(tf.shape(h_prob)))) #states\n",
        "print (\"h0 states:\", h_state)"
      ],
      "execution_count": 7
    },
    {
      "cell_type": "markdown",
      "metadata": {
        "id": "5e5f1913-71e8-40ce-b266-5eb1f49ea46b"
      },
      "source": [
        "<b>Phase 2) Backward Pass (Reconstruction):</b>\n",
        "The RBM reconstructs data by making several forward and backward passes between the visible and hidden layers.\n",
        "\n",
        "So, in the second phase (i.e. reconstruction phase), the samples from the hidden layer (i.e. $\\mathbf h$) becomes the input in the backward pass. The same weight matrix and visible layer biases are used to passed to the sigmoid function. The reproduced output is a reconstruction which is an approximation of the original input.\n"
      ]
    },
    {
      "cell_type": "code",
      "metadata": {
        "colab": {
          "base_uri": "https://localhost:8080/"
        },
        "id": "35f26183-0036-4af6-b019-7c61780a2faa",
        "outputId": "4aa8ab33-4e1e-4cf8-9b21-dc3ca2ccca55"
      },
      "outputs": [
        {
          "output_type": "stream",
          "name": "stdout",
          "text": [
            "b:  tf.Tensor([0.1 0.2 0.1 0.1 0.1 0.2 0.1], shape=(7,), dtype=float32)\n",
            "p(vi∣h):  tf.Tensor(\n",
            "[[0.9844695  0.26845    0.24000587 0.72225726 0.6363646  0.5032813\n",
            "  0.86948955]], shape=(1, 7), dtype=float32)\n",
            "v probability states:  tf.Tensor([[1. 0. 0. 1. 1. 0. 1.]], shape=(1, 7), dtype=float32)\n"
          ]
        }
      ],
      "source": [
        "vb = tf.constant([0.1, 0.2, 0.1, 0.1, 0.1, 0.2, 0.1])\n",
        "print (\"b: \", vb)\n",
        "v_prob = tf.nn.sigmoid(tf.matmul(h_state, tf.transpose(W)) + vb)\n",
        "print (\"p(vi∣h): \", v_prob)\n",
        "v_state = tf.nn.relu(tf.sign(v_prob - tf.random.uniform(tf.shape(v_prob))))\n",
        "print (\"v probability states: \", v_state)"
      ],
      "execution_count": 8
    },
    {
      "cell_type": "markdown",
      "metadata": {
        "id": "c0622071-a2aa-4f6e-bbe6-9a58d9ca792c"
      },
      "source": [
        "RBM learns a probability distribution over the input, and then, after being trained, the RBM can generate new samples from the learned probability distribution. As you know, <b>probability distribution</b>, is a mathematical function that provides the probabilities of occurrence of different possible outcomes in an experiment.\n",
        "\n",
        "The (conditional) probability distribution over the visible units v is given by\n",
        "\n",
        "$$p(\\mathbf{v} \\mid \\mathbf{h}) = \\prod_{i=1}^V p(v_i \\mid \\mathbf{h}),$$\n",
        "\n",
        "\n",
        "where,\n",
        "\n",
        "$$p(v_i \\mid \\mathbf{h}) = \\sigma\\left(\\sum_{j=1}^H W_{ji} h_j + v_{bias} \\right)$$\n",
        "\n",
        "so, given current state of hidden units and weights, what is the probability of generating [1. 0. 0. 1. 0. 0. 0.] in reconstruction phase, based on the above <b>probability distribution</b> function?\n"
      ]
    },
    {
      "cell_type": "code",
      "metadata": {
        "colab": {
          "base_uri": "https://localhost:8080/"
        },
        "id": "992ccc3d-91de-40fd-9d28-1323bfb7b24c",
        "outputId": "56d2ff6d-320d-47a5-8427-b8b8aef6c8f3"
      },
      "outputs": [
        {
          "output_type": "stream",
          "name": "stdout",
          "text": [
            "input X: [[1. 0. 0. 1. 0. 0. 0.]]\n",
            "probablity vector: [0.9844695  0.26845    0.24000587 0.72225726 0.6363646  0.5032813\n",
            " 0.86948955]\n",
            "probability of generating X:  0.009319023\n"
          ]
        }
      ],
      "source": [
        "inp = X\n",
        "print(\"input X:\" , inp.numpy())\n",
        "\n",
        "print(\"probablity vector:\" , v_prob[0].numpy())\n",
        "v_probability = 1\n",
        "\n",
        "for elm, p in zip(inp[0],v_prob[0]) :\n",
        "    if elm ==1:\n",
        "        v_probability *= p\n",
        "    else:\n",
        "        v_probability *= (1-p)\n",
        "\n",
        "print(\"probability of generating X: \" , v_probability.numpy())"
      ],
      "execution_count": 9
    },
    {
      "cell_type": "markdown",
      "metadata": {
        "id": "04ff95c7-8dee-4837-ac2e-b2549675baec"
      },
      "source": [
        "How similar are vectors $\\mathbf{x}$ and $\\mathbf{v}$? Of course, the reconstructed values most likely will not look anything like the input vector, because our network has not been trained yet. Our objective is to train the model in such a way that the input vector and reconstructed vector to be same. Therefore, based on how different the input values look to the ones that we just reconstructed, the weights are adjusted.\n"
      ]
    },
    {
      "cell_type": "markdown",
      "metadata": {
        "id": "c8c5b30a-e8b1-4f5c-a330-35afa2fd9bbc"
      },
      "source": [
        "<hr>\n"
      ]
    },
    {
      "cell_type": "markdown",
      "metadata": {
        "id": "6df2fdeb-258e-419a-bd8f-d355160dfa15"
      },
      "source": [
        "\n",
        "<h2>MNIST</h2>\n"
      ]
    },
    {
      "cell_type": "markdown",
      "metadata": {
        "id": "3779926d-23c1-4d66-914f-7f078d9f6595"
      },
      "source": [
        "We will be using the MNIST dataset to practice the usage of RBMs. The following cell loads the MNIST dataset.\n"
      ]
    },
    {
      "cell_type": "code",
      "metadata": {
        "colab": {
          "base_uri": "https://localhost:8080/"
        },
        "id": "5d78f144-b7cb-4666-9804-9534cbf9cad8",
        "outputId": "e8d1af7d-5adc-4e0c-af95-da5a7bfc25a2"
      },
      "outputs": [
        {
          "output_type": "stream",
          "name": "stdout",
          "text": [
            "Downloading data from https://storage.googleapis.com/tensorflow/tf-keras-datasets/mnist.npz\n",
            "11490434/11490434 [==============================] - 0s 0us/step\n"
          ]
        }
      ],
      "source": [
        "#loading training and test data\n",
        "mnist = tf.keras.datasets.mnist\n",
        "(trX, trY), (teX, teY) = mnist.load_data()\n",
        "\n",
        "# showing an example of the Flatten class and operation\n",
        "from tensorflow.keras.layers import Flatten\n",
        "flatten = Flatten(dtype='float32')\n",
        "trX = flatten(trX/255.0)\n",
        "trY = flatten(trY/255.0)"
      ],
      "execution_count": 10
    },
    {
      "cell_type": "markdown",
      "metadata": {
        "id": "75a2621a-f73c-4b61-8e8a-a22eb6a3af12"
      },
      "source": [
        "Lets look at the dimension of the images.\n"
      ]
    },
    {
      "cell_type": "markdown",
      "metadata": {
        "id": "00b23490-c951-4b35-a900-2431a5095a70"
      },
      "source": [
        "MNIST images have 784 pixels, so the visible layer must have 784 input nodes.  For our case, we'll use 50 nodes in the hidden layer, so i = 50.\n"
      ]
    },
    {
      "cell_type": "code",
      "metadata": {
        "id": "bb7cc0bc-5aa1-4676-bcfb-f6ae3dd1bab1"
      },
      "outputs": [],
      "source": [
        "vb = tf.Variable(tf.zeros([784]), tf.float32)\n",
        "hb = tf.Variable(tf.zeros([50]), tf.float32)"
      ],
      "execution_count": 11
    },
    {
      "cell_type": "markdown",
      "metadata": {
        "id": "92f25b3c-44a4-4342-9923-dddc9a2739e6"
      },
      "source": [
        "Let $\\mathbf W$ be the Tensor of 784x50 (784 - number of visible neurons, 50 - number of hidden neurons) that represents weights between the neurons.\n"
      ]
    },
    {
      "cell_type": "code",
      "metadata": {
        "id": "cac85183-49e0-4225-abb3-54b0093a3f45"
      },
      "outputs": [],
      "source": [
        "W = tf.Variable(tf.zeros([784,50]), tf.float32)"
      ],
      "execution_count": 12
    },
    {
      "cell_type": "markdown",
      "metadata": {
        "id": "067c4e92-2a6c-4e0b-8b3f-19e7cad60c4d"
      },
      "source": [
        "Lets define the visible layer:\n"
      ]
    },
    {
      "cell_type": "code",
      "metadata": {
        "colab": {
          "base_uri": "https://localhost:8080/"
        },
        "id": "72f731e1-0533-4cd4-b5a2-d6b916e23d02",
        "outputId": "e6aa19d7-3780-49c4-88cb-fe5534f85592"
      },
      "outputs": [
        {
          "output_type": "execute_result",
          "data": {
            "text/plain": [
              "<tf.Tensor: shape=(1, 50), dtype=float32, numpy=\n",
              "array([[0., 0., 0., 0., 0., 0., 0., 0., 0., 0., 0., 0., 0., 0., 0., 0.,\n",
              "        0., 0., 0., 0., 0., 0., 0., 0., 0., 0., 0., 0., 0., 0., 0., 0.,\n",
              "        0., 0., 0., 0., 0., 0., 0., 0., 0., 0., 0., 0., 0., 0., 0., 0.,\n",
              "        0., 0.]], dtype=float32)>"
            ]
          },
          "metadata": {},
          "execution_count": 13
        }
      ],
      "source": [
        "v0_state = tf.Variable(tf.zeros([784]), tf.float32)\n",
        "\n",
        "#testing to see if the matrix product works\n",
        "tf.matmul( [v0_state], W)"
      ],
      "execution_count": 13
    },
    {
      "cell_type": "markdown",
      "metadata": {
        "id": "7a4347f8-e9f7-4bcb-9350-c9d132b84545"
      },
      "source": [
        "Now, we can define hidden layer:\n"
      ]
    },
    {
      "cell_type": "code",
      "metadata": {
        "colab": {
          "base_uri": "https://localhost:8080/"
        },
        "id": "abba6ab2-2950-4954-b08d-4a04defd8b93",
        "outputId": "d493751f-edd4-4c91-de00-b62d35b1ed60"
      },
      "outputs": [
        {
          "output_type": "stream",
          "name": "stdout",
          "text": [
            "h0_state shape:  tf.Tensor([ 1 50], shape=(2,), dtype=int32)\n",
            "first 15 hidden states:  tf.Tensor([0. 0. 0. 1. 1. 1. 0. 0. 1. 0. 0. 1. 0. 1. 1.], shape=(15,), dtype=float32)\n"
          ]
        }
      ],
      "source": [
        "#computing the hidden nodes probability vector and checking shape\n",
        "h0_prob = tf.nn.sigmoid(tf.matmul([v0_state], W) + hb)  #probabilities of the hidden units\n",
        "print(\"h0_state shape: \" , tf.shape(h0_prob))\n",
        "\n",
        "#defining a function to return only the generated hidden states\n",
        "def hidden_layer(v0_state, W, hb):\n",
        "    h0_prob = tf.nn.sigmoid(tf.matmul([v0_state], W) + hb)  #probabilities of the hidden units\n",
        "    h0_state = tf.nn.relu(tf.sign(h0_prob - tf.random.uniform(tf.shape(h0_prob)))) #sample_h_given_X\n",
        "    return h0_state\n",
        "\n",
        "\n",
        "h0_state = hidden_layer(v0_state, W, hb)\n",
        "print(\"first 15 hidden states: \", h0_state[0][0:15])"
      ],
      "execution_count": 14
    },
    {
      "cell_type": "markdown",
      "metadata": {
        "id": "76405c42-562c-4a41-ab0b-2d956368750c"
      },
      "source": [
        "Now, we define reconstruction part:\n"
      ]
    },
    {
      "cell_type": "code",
      "metadata": {
        "colab": {
          "base_uri": "https://localhost:8080/"
        },
        "id": "d069fab9-d9bd-4bf6-915f-9944cee81d88",
        "outputId": "fd2da434-7f12-4036-f719-5b8605b3cdc7"
      },
      "outputs": [
        {
          "output_type": "stream",
          "name": "stdout",
          "text": [
            "hidden state shape:  (1, 50)\n",
            "v0 state shape:   (784,)\n",
            "v1 state shape:   (784,)\n"
          ]
        }
      ],
      "source": [
        "def reconstructed_output(h0_state, W, vb):\n",
        "    v1_prob = tf.nn.sigmoid(tf.matmul(h0_state, tf.transpose(W)) + vb)\n",
        "    v1_state = tf.nn.relu(tf.sign(v1_prob - tf.random.uniform(tf.shape(v1_prob)))) #sample_v_given_h\n",
        "    return v1_state[0]\n",
        "\n",
        "v1_state = reconstructed_output(h0_state, W, vb)\n",
        "print(\"hidden state shape: \", h0_state.shape)\n",
        "print(\"v0 state shape:  \", v0_state.shape)\n",
        "print(\"v1 state shape:  \", v1_state.shape)"
      ],
      "execution_count": 15
    },
    {
      "cell_type": "markdown",
      "metadata": {
        "id": "1ada2348-7da0-42bd-b392-08af72dda252"
      },
      "source": [
        "<h3>What is the objective function?</h3>\n",
        "\n",
        "<b>Goal</b>: Maximize the likelihood of our data being drawn from that distribution\n",
        "\n",
        "<b>Calculate error:</b>  \n",
        "In each epoch, we compute the \"error\" as a sum of the squared difference between step 1 and step n,\n",
        "e.g the error shows the difference between the data and its reconstruction.\n",
        "\n",
        "<b>Note:</b> tf.reduce_mean computes the mean of elements across dimensions of a tensor.\n"
      ]
    },
    {
      "cell_type": "code",
      "metadata": {
        "colab": {
          "base_uri": "https://localhost:8080/"
        },
        "id": "c04edd06-e384-4bd1-800c-8b202e954523",
        "outputId": "ae535490-e9ae-4b25-e0de-83729b8212c3"
      },
      "outputs": [
        {
          "output_type": "stream",
          "name": "stdout",
          "text": [
            "error 0.4859694\n"
          ]
        }
      ],
      "source": [
        "def error(v0_state, v1_state):\n",
        "    return tf.reduce_mean(tf.square(v0_state - v1_state))\n",
        "\n",
        "err = tf.reduce_mean(tf.square(v0_state - v1_state))\n",
        "print(\"error\" , err.numpy())"
      ],
      "execution_count": 16
    },
    {
      "cell_type": "markdown",
      "metadata": {
        "id": "0a5650f7-3608-4e20-993d-404e38955b0a"
      },
      "source": [
        "<a id=\"ref4\"></a>\n",
        "<h3>Training the Model</h3>\n",
        "<b>Warning...</b> The following part is math-heavy, but you can skip it if you just want to run the cells in the next section.\n",
        "\n",
        "As mentioned, we want to give a high probability to the input data we train on. So, in order to train an RBM, we have to maximize the product of probabilities assigned to all rows $\\mathbf{v}$ (images) in the training set $\\mathbf{V}$ (a matrix, where each row of it is treated as a visible vector $\\mathbf{v}$)\n",
        "\n",
        "$$\\arg \\max_W \\prod_{\\mathbf{v}\\in\\mathbf{V}_T} p(\\mathbf{v})$$\n",
        "\n",
        "\n",
        "which is equivalent to maximizing the expectation of the log probability, given as\n",
        "\n",
        "$$\\arg\\max_W\\left[ \\mathbb{E} \\left(\\prod_{\\mathbf v\\in \\mathbf V}\\text{log} \\left(p(\\mathbf v)\\right) \\right) \\right].$$\n",
        "\n",
        "\n",
        "So, we have to update the weights $W_{ij}$  to increase $p(\\mathbf{v})$ for all $\\mathbf{v}$ in our training data during training. So we have to calculate the derivative:\n",
        "\n",
        "\n",
        "$$\\frac{\\partial \\log p(\\mathbf v)}{\\partial W_{ij}}$$\n",
        "\n",
        "This cannot be easily done by typical <b>gradient descent (SGD)</b>, so we can use another approach, which has 2 steps:\n",
        "<ol>\n",
        "    <li>Gibbs Sampling</li>\n",
        "    <li>Contrastive Divergence</li>\n",
        "</ol>    \n",
        "    \n",
        "<h3>Gibbs Sampling</h3>   \n",
        "\n",
        "<h4>Gibbs Sampling Step 1</h4>\n",
        "Given an input vector $\\mathbf{v}$, we are using $p(\\mathbf{h}|\\mathbf{v})$ to predict the hidden values $\\mathbf{h}$.\n",
        "  $$p({h_j}|\\mathbf v)= \\sigma\\left(\\sum_{i=1}^V W_{ij} v_i + h_{bias} \\right)$$\n",
        "The samples are generated from this distribution by generating the uniform random variate vector $\\mathbf{\\xi} \\sim U[0,1]$ of length $H$ and comparing to the computed probabilities as\n",
        "\n",
        "\n",
        "<center>If $\\xi_j>p(h_{j}|\\mathbf{v})$, then $h_j=1$, else $h_j=0$.</center>\n",
        "\n",
        "\n",
        "<h4>Gibbs Sampling Step 2</h4>\n",
        "Then, knowing the hidden values, we use $p(\\mathbf v| \\mathbf h)$ for reconstructing of new input values v.\n",
        "\n",
        "   $$p({v_i}|\\mathbf h)= \\sigma\\left(\\sum_{j=1}^H W^{T}_{ij} h_j + v_{bias} \\right)$$\n",
        "\n",
        "\n",
        "The samples are generated from this distribution by generating a uniform random variate vector $\\mathbf{\\xi} \\sim U[0,1]$ of length $V$ and comparing to the computed probabilities as\n",
        "\n",
        "<center>If $\\xi_i>p(v_{i}|\\mathbf{h})$, then $v_i=1$, else $v_i=0$.</center>\n",
        "\n",
        "Let vectors $\\mathbf v_k$ and $\\mathbf h_k$ be for the $k$th iteration.  In general, the $kth$ state is generrated as:\n",
        "\n",
        "\n",
        "    \n",
        "<b>Iteration</b> $k$:\n",
        "\n",
        "$$\\mathbf v_{k-1} \\Rightarrow p(\\mathbf h_{k-1}|\\mathbf v_{k-1})\\Rightarrow \\mathbf h_{k-1}\\Rightarrow p(\\mathbf v_{k}|\\mathbf h_{k-1})\\Rightarrow \\mathbf v_k$$       \n",
        "    \n",
        "<h3>Contrastive Divergence (CD-k)</h3>\n",
        "The update of the weight matrix is done during the Contrastive Divergence step.\n",
        "\n",
        "Vectors v0 and vk are used to calculate the activation probabilities for hidden values h0 and hk. The difference between the outer products of those probabilities with input vectors v0 and vk results in the update matrix:\n",
        "\n",
        "\n",
        "$$\\Delta \\mathbf W_k =\\mathbf v_k \\otimes \\mathbf h_k - \\mathbf v_{k-1} \\otimes \\mathbf h_{k-1}$$\n",
        "\n",
        "Contrastive Divergence is actually matrix of values that is computed and used to adjust values of the $\\mathbf W$ matrix. Changing $\\mathbf W$ incrementally leads to training of the  $\\mathbf W$ values. Then, on each step (epoch), $\\mathbf W$ is updated using the following:\n",
        "\n",
        "$$\\mathbf W_k = \\mathbf W_{k-1} + \\alpha * \\Delta \\mathbf W_k$$\n",
        "\n",
        "\n",
        "\n",
        "Reconstruction steps:\n",
        "<ul>\n",
        "    <li> Get one data point from data set, like <i>x</i>, and pass it through the following steps:</li>\n",
        "    \n",
        "<b>Iteration</b> $k=1$:\n",
        "    \n",
        "Sampling (starting with input image)\n",
        "    $$\\mathbf x = \\mathbf v_0 \\Rightarrow p(\\mathbf h_0|\\mathbf v_0)\\Rightarrow \\mathbf h_0 \\Rightarrow p(\\mathbf v_1|\\mathbf h_0)\\Rightarrow \\mathbf v_1$$   \n",
        "    followed by the CD-k step\n",
        "$$\\Delta \\mathbf W_1 =\\mathbf v_1 \\otimes \\mathbf h_1 - \\mathbf v_{0} \\otimes \\mathbf h_{0}$$     \n",
        "$$\\mathbf W_1 = \\mathbf W_{0} + \\alpha * \\Delta \\mathbf W_1$$\n",
        "\n",
        "<li> $\\mathbf v_1$ is the reconstruction of $\\mathbf x$ sent to the next iteration).</li>\n",
        "\n",
        "<b>Iteration</b> $k=2$:\n",
        "\n",
        "Sampling (starting with $\\mathbf v_1$)\n",
        "\n",
        "$$\\mathbf v_1 \\Rightarrow p(\\mathbf h_1|\\mathbf v_1)\\Rightarrow \\mathbf h_1\\Rightarrow p(\\mathbf v_2|\\mathbf h_1)\\Rightarrow \\mathbf v_2$$   \n",
        "\n",
        "followed by the CD-k step\n",
        "$$\\Delta \\mathbf W_2 =\\mathbf v_2 \\otimes \\mathbf h_2 - \\mathbf v_{1} \\otimes \\mathbf h_{1}$$     \n",
        "$$\\mathbf W_2 = \\mathbf W_{1} + \\alpha * \\Delta \\mathbf W_2$$\n",
        "\n",
        "<li> $\\mathbf v_2$ is the reconstruction of $\\mathbf v_1$ sent to the next iteration).</li>    \n",
        "      \n",
        "<b>Iteration</b> $k=K$:\n",
        "    \n",
        "Sampling (starting with $\\mathbf v_{K-1}$)\n",
        "\n",
        "$$\\mathbf v_{K-1} \\Rightarrow p(\\mathbf h_{K-1}|\\mathbf v_{K-1})\\Rightarrow \\mathbf h_{K-1}\\Rightarrow p(\\mathbf v_K|\\mathbf h_{K-1})\\Rightarrow \\mathbf v_K$$   \n",
        "\n",
        "followed by the CD-k step\n",
        "$$\\Delta \\mathbf W_K =\\mathbf v_K \\otimes \\mathbf h_K - \\mathbf v_{K-1} \\otimes \\mathbf h_{K-1}$$     \n",
        "$$\\mathbf W_K = \\mathbf W_{K-1} + \\alpha * \\Delta \\mathbf W_K$$\n",
        "    \n",
        "<b>What is $\\alpha$?</b>  \n",
        "Here, alpha is some small step size, and is also known as the \"learning rate\".\n"
      ]
    },
    {
      "cell_type": "markdown",
      "metadata": {
        "id": "2f60b14f-bf2d-45c4-8d0f-67b966c6fc01"
      },
      "source": [
        "$K$ is adjustable, and good performance can be achieved with $K=1$, so that we just take one set of sampling steps per image.\n"
      ]
    },
    {
      "cell_type": "code",
      "metadata": {
        "id": "413c50ad-dcdb-422e-a95c-ba37840142d3"
      },
      "outputs": [],
      "source": [
        "h1_prob = tf.nn.sigmoid(tf.matmul([v1_state], W) + hb)\n",
        "h1_state = tf.nn.relu(tf.sign(h1_prob - tf.random.uniform(tf.shape(h1_prob)))) #sample_h_given_X"
      ],
      "execution_count": 17
    },
    {
      "cell_type": "markdown",
      "metadata": {
        "id": "f38794be-3ed5-4ec5-ac1f-b8ad51bc3333"
      },
      "source": [
        "Lets look at the error of the first run:\n"
      ]
    },
    {
      "cell_type": "code",
      "metadata": {
        "colab": {
          "base_uri": "https://localhost:8080/"
        },
        "id": "dc6cde30-4a2a-46b0-83aa-3c6043d3ff27",
        "outputId": "6a426a0b-91bf-49cb-f5d1-bba8817eac94"
      },
      "outputs": [
        {
          "output_type": "stream",
          "name": "stdout",
          "text": [
            "error:  tf.Tensor(0.4859694, shape=(), dtype=float32)\n"
          ]
        }
      ],
      "source": [
        "print(\"error: \", error(v0_state, v1_state))"
      ],
      "execution_count": 18
    },
    {
      "cell_type": "code",
      "metadata": {
        "colab": {
          "base_uri": "https://localhost:8080/"
        },
        "id": "4365ca66-201b-4020-a14a-554ef5fc0ba7",
        "outputId": "9954e5e1-a2ad-456d-dec9-5095cd218c23"
      },
      "outputs": [
        {
          "output_type": "stream",
          "name": "stdout",
          "text": [
            "Epoch: 0 batch #: 1  of 300 sample #: 199 reconstruction error: 0.159376\n",
            "Epoch: 0 batch #: 2  of 300 sample #: 199 reconstruction error: 0.218405\n",
            "Epoch: 0 batch #: 3  of 300 sample #: 199 reconstruction error: 0.106174\n",
            "Epoch: 0 batch #: 4  of 300 sample #: 199 reconstruction error: 0.120279\n",
            "Epoch: 0 batch #: 5  of 300 sample #: 199 reconstruction error: 0.110222\n",
            "Epoch: 0 batch #: 6  of 300 sample #: 199 reconstruction error: 0.199379\n",
            "Epoch: 0 batch #: 7  of 300 sample #: 199 reconstruction error: 0.097017\n",
            "Epoch: 0 batch #: 8  of 300 sample #: 199 reconstruction error: 0.136045\n",
            "Epoch: 0 batch #: 9  of 300 sample #: 199 reconstruction error: 0.089653\n",
            "Epoch: 0 batch #: 10  of 300 sample #: 199 reconstruction error: 0.176276\n",
            "Epoch: 0 batch #: 11  of 300 sample #: 199 reconstruction error: 0.089410\n",
            "Epoch: 0 batch #: 12  of 300 sample #: 199 reconstruction error: 0.135245\n",
            "Epoch: 0 batch #: 13  of 300 sample #: 199 reconstruction error: 0.062603\n",
            "Epoch: 0 batch #: 14  of 300 sample #: 199 reconstruction error: 0.110706\n",
            "Epoch: 0 batch #: 15  of 300 sample #: 199 reconstruction error: 0.100146\n",
            "Epoch: 0 batch #: 16  of 300 sample #: 199 reconstruction error: 0.123949\n",
            "Epoch: 0 batch #: 17  of 300 sample #: 199 reconstruction error: 0.077308\n",
            "Epoch: 0 batch #: 18  of 300 sample #: 199 reconstruction error: 0.117759\n",
            "Epoch: 0 batch #: 19  of 300 sample #: 199 reconstruction error: 0.142692\n",
            "Epoch: 0 batch #: 20  of 300 sample #: 199 reconstruction error: 0.090532\n",
            "Epoch: 0 batch #: 21  of 300 sample #: 199 reconstruction error: 0.092460\n",
            "Epoch: 0 batch #: 22  of 300 sample #: 199 reconstruction error: 0.087303\n",
            "Epoch: 0 batch #: 23  of 300 sample #: 199 reconstruction error: 0.093203\n",
            "Epoch: 0 batch #: 24  of 300 sample #: 199 reconstruction error: 0.126440\n",
            "Epoch: 0 batch #: 25  of 300 sample #: 199 reconstruction error: 0.087105\n",
            "Epoch: 0 batch #: 26  of 300 sample #: 199 reconstruction error: 0.103648\n",
            "Epoch: 0 batch #: 27  of 300 sample #: 199 reconstruction error: 0.106912\n",
            "Epoch: 0 batch #: 28  of 300 sample #: 199 reconstruction error: 0.092364\n",
            "Epoch: 0 batch #: 29  of 300 sample #: 199 reconstruction error: 0.108329\n",
            "Epoch: 0 batch #: 30  of 300 sample #: 199 reconstruction error: 0.077168\n",
            "Epoch: 0 batch #: 31  of 300 sample #: 199 reconstruction error: 0.088742\n",
            "Epoch: 0 batch #: 32  of 300 sample #: 199 reconstruction error: 0.106699\n",
            "Epoch: 0 batch #: 33  of 300 sample #: 199 reconstruction error: 0.061133\n",
            "Epoch: 0 batch #: 34  of 300 sample #: 199 reconstruction error: 0.072934\n",
            "Epoch: 0 batch #: 35  of 300 sample #: 199 reconstruction error: 0.072479\n",
            "Epoch: 0 batch #: 36  of 300 sample #: 199 reconstruction error: 0.089411\n",
            "Epoch: 0 batch #: 37  of 300 sample #: 199 reconstruction error: 0.058207\n",
            "Epoch: 0 batch #: 38  of 300 sample #: 199 reconstruction error: 0.068087\n",
            "Epoch: 0 batch #: 39  of 300 sample #: 199 reconstruction error: 0.082953\n",
            "Epoch: 0 batch #: 40  of 300 sample #: 199 reconstruction error: 0.093817\n",
            "Epoch: 0 batch #: 41  of 300 sample #: 199 reconstruction error: 0.082460\n",
            "Epoch: 0 batch #: 42  of 300 sample #: 199 reconstruction error: 0.068946\n",
            "Epoch: 0 batch #: 43  of 300 sample #: 199 reconstruction error: 0.108757\n",
            "Epoch: 0 batch #: 44  of 300 sample #: 199 reconstruction error: 0.077843\n",
            "Epoch: 0 batch #: 45  of 300 sample #: 199 reconstruction error: 0.064779\n",
            "Epoch: 0 batch #: 46  of 300 sample #: 199 reconstruction error: 0.048603\n",
            "Epoch: 0 batch #: 47  of 300 sample #: 199 reconstruction error: 0.041851\n",
            "Epoch: 0 batch #: 48  of 300 sample #: 199 reconstruction error: 0.046604\n",
            "Epoch: 0 batch #: 49  of 300 sample #: 199 reconstruction error: 0.144381\n",
            "Epoch: 0 batch #: 50  of 300 sample #: 199 reconstruction error: 0.054109\n",
            "Epoch: 0 batch #: 51  of 300 sample #: 199 reconstruction error: 0.083594\n",
            "Epoch: 0 batch #: 52  of 300 sample #: 199 reconstruction error: 0.039407\n",
            "Epoch: 0 batch #: 53  of 300 sample #: 199 reconstruction error: 0.104206\n",
            "Epoch: 0 batch #: 54  of 300 sample #: 199 reconstruction error: 0.057066\n",
            "Epoch: 0 batch #: 55  of 300 sample #: 199 reconstruction error: 0.103287\n",
            "Epoch: 0 batch #: 56  of 300 sample #: 199 reconstruction error: 0.058992\n",
            "Epoch: 0 batch #: 57  of 300 sample #: 199 reconstruction error: 0.048189\n",
            "Epoch: 0 batch #: 58  of 300 sample #: 199 reconstruction error: 0.079419\n",
            "Epoch: 0 batch #: 59  of 300 sample #: 199 reconstruction error: 0.065525\n",
            "Epoch: 0 batch #: 60  of 300 sample #: 199 reconstruction error: 0.083895\n",
            "Epoch: 0 batch #: 61  of 300 sample #: 199 reconstruction error: 0.077416\n",
            "Epoch: 0 batch #: 62  of 300 sample #: 199 reconstruction error: 0.072315\n",
            "Epoch: 0 batch #: 63  of 300 sample #: 199 reconstruction error: 0.064965\n",
            "Epoch: 0 batch #: 64  of 300 sample #: 199 reconstruction error: 0.101524\n",
            "Epoch: 0 batch #: 65  of 300 sample #: 199 reconstruction error: 0.106293\n",
            "Epoch: 0 batch #: 66  of 300 sample #: 199 reconstruction error: 0.063817\n",
            "Epoch: 0 batch #: 67  of 300 sample #: 199 reconstruction error: 0.053486\n",
            "Epoch: 0 batch #: 68  of 300 sample #: 199 reconstruction error: 0.061508\n",
            "Epoch: 0 batch #: 69  of 300 sample #: 199 reconstruction error: 0.093186\n",
            "Epoch: 0 batch #: 70  of 300 sample #: 199 reconstruction error: 0.105192\n",
            "Epoch: 0 batch #: 71  of 300 sample #: 199 reconstruction error: 0.083803\n",
            "Epoch: 0 batch #: 72  of 300 sample #: 199 reconstruction error: 0.091422\n",
            "Epoch: 0 batch #: 73  of 300 sample #: 199 reconstruction error: 0.085838\n",
            "Epoch: 0 batch #: 74  of 300 sample #: 199 reconstruction error: 0.098776\n",
            "Epoch: 0 batch #: 75  of 300 sample #: 199 reconstruction error: 0.047798\n",
            "Epoch: 0 batch #: 76  of 300 sample #: 199 reconstruction error: 0.084058\n",
            "Epoch: 0 batch #: 77  of 300 sample #: 199 reconstruction error: 0.106571\n",
            "Epoch: 0 batch #: 78  of 300 sample #: 199 reconstruction error: 0.111767\n",
            "Epoch: 0 batch #: 79  of 300 sample #: 199 reconstruction error: 0.120001\n",
            "Epoch: 0 batch #: 80  of 300 sample #: 199 reconstruction error: 0.033777\n",
            "Epoch: 0 batch #: 81  of 300 sample #: 199 reconstruction error: 0.055626\n",
            "Epoch: 0 batch #: 82  of 300 sample #: 199 reconstruction error: 0.056092\n",
            "Epoch: 0 batch #: 83  of 300 sample #: 199 reconstruction error: 0.075319\n",
            "Epoch: 0 batch #: 84  of 300 sample #: 199 reconstruction error: 0.090098\n",
            "Epoch: 0 batch #: 85  of 300 sample #: 199 reconstruction error: 0.051490\n",
            "Epoch: 0 batch #: 86  of 300 sample #: 199 reconstruction error: 0.089335\n",
            "Epoch: 0 batch #: 87  of 300 sample #: 199 reconstruction error: 0.076211\n",
            "Epoch: 0 batch #: 88  of 300 sample #: 199 reconstruction error: 0.024640\n",
            "Epoch: 0 batch #: 89  of 300 sample #: 199 reconstruction error: 0.068332\n",
            "Epoch: 0 batch #: 90  of 300 sample #: 199 reconstruction error: 0.079106\n",
            "Epoch: 0 batch #: 91  of 300 sample #: 199 reconstruction error: 0.066668\n",
            "Epoch: 0 batch #: 92  of 300 sample #: 199 reconstruction error: 0.055154\n",
            "Epoch: 0 batch #: 93  of 300 sample #: 199 reconstruction error: 0.107945\n",
            "Epoch: 0 batch #: 94  of 300 sample #: 199 reconstruction error: 0.110198\n",
            "Epoch: 0 batch #: 95  of 300 sample #: 199 reconstruction error: 0.067326\n",
            "Epoch: 0 batch #: 96  of 300 sample #: 199 reconstruction error: 0.060403\n",
            "Epoch: 0 batch #: 97  of 300 sample #: 199 reconstruction error: 0.110287\n",
            "Epoch: 0 batch #: 98  of 300 sample #: 199 reconstruction error: 0.086703\n",
            "Epoch: 0 batch #: 99  of 300 sample #: 199 reconstruction error: 0.054545\n",
            "Epoch: 0 batch #: 100  of 300 sample #: 199 reconstruction error: 0.099274\n",
            "Epoch: 0 batch #: 101  of 300 sample #: 199 reconstruction error: 0.071321\n",
            "Epoch: 0 batch #: 102  of 300 sample #: 199 reconstruction error: 0.088154\n",
            "Epoch: 0 batch #: 103  of 300 sample #: 199 reconstruction error: 0.084022\n",
            "Epoch: 0 batch #: 104  of 300 sample #: 199 reconstruction error: 0.070657\n",
            "Epoch: 0 batch #: 105  of 300 sample #: 199 reconstruction error: 0.051267\n",
            "Epoch: 0 batch #: 106  of 300 sample #: 199 reconstruction error: 0.110539\n",
            "Epoch: 0 batch #: 107  of 300 sample #: 199 reconstruction error: 0.128884\n",
            "Epoch: 0 batch #: 108  of 300 sample #: 199 reconstruction error: 0.057272\n",
            "Epoch: 0 batch #: 109  of 300 sample #: 199 reconstruction error: 0.110030\n",
            "Epoch: 0 batch #: 110  of 300 sample #: 199 reconstruction error: 0.043205\n",
            "Epoch: 0 batch #: 111  of 300 sample #: 199 reconstruction error: 0.105739\n",
            "Epoch: 0 batch #: 112  of 300 sample #: 199 reconstruction error: 0.038180\n",
            "Epoch: 0 batch #: 113  of 300 sample #: 199 reconstruction error: 0.075284\n",
            "Epoch: 0 batch #: 114  of 300 sample #: 199 reconstruction error: 0.069462\n",
            "Epoch: 0 batch #: 115  of 300 sample #: 199 reconstruction error: 0.062907\n",
            "Epoch: 0 batch #: 116  of 300 sample #: 199 reconstruction error: 0.045108\n",
            "Epoch: 0 batch #: 117  of 300 sample #: 199 reconstruction error: 0.045534\n",
            "Epoch: 0 batch #: 118  of 300 sample #: 199 reconstruction error: 0.079043\n",
            "Epoch: 0 batch #: 119  of 300 sample #: 199 reconstruction error: 0.126564\n",
            "Epoch: 0 batch #: 120  of 300 sample #: 199 reconstruction error: 0.073170\n",
            "Epoch: 0 batch #: 121  of 300 sample #: 199 reconstruction error: 0.053422\n",
            "Epoch: 0 batch #: 122  of 300 sample #: 199 reconstruction error: 0.088292\n",
            "Epoch: 0 batch #: 123  of 300 sample #: 199 reconstruction error: 0.055339\n",
            "Epoch: 0 batch #: 124  of 300 sample #: 199 reconstruction error: 0.066131\n",
            "Epoch: 0 batch #: 125  of 300 sample #: 199 reconstruction error: 0.049823\n",
            "Epoch: 0 batch #: 126  of 300 sample #: 199 reconstruction error: 0.095566\n",
            "Epoch: 0 batch #: 127  of 300 sample #: 199 reconstruction error: 0.078060\n",
            "Epoch: 0 batch #: 128  of 300 sample #: 199 reconstruction error: 0.071393\n",
            "Epoch: 0 batch #: 129  of 300 sample #: 199 reconstruction error: 0.053361\n",
            "Epoch: 0 batch #: 130  of 300 sample #: 199 reconstruction error: 0.075004\n",
            "Epoch: 0 batch #: 131  of 300 sample #: 199 reconstruction error: 0.062622\n",
            "Epoch: 0 batch #: 132  of 300 sample #: 199 reconstruction error: 0.042289\n",
            "Epoch: 0 batch #: 133  of 300 sample #: 199 reconstruction error: 0.058371\n",
            "Epoch: 0 batch #: 134  of 300 sample #: 199 reconstruction error: 0.095277\n",
            "Epoch: 0 batch #: 135  of 300 sample #: 199 reconstruction error: 0.097840\n",
            "Epoch: 0 batch #: 136  of 300 sample #: 199 reconstruction error: 0.118271\n",
            "Epoch: 0 batch #: 137  of 300 sample #: 199 reconstruction error: 0.059087\n",
            "Epoch: 0 batch #: 138  of 300 sample #: 199 reconstruction error: 0.083572\n",
            "Epoch: 0 batch #: 139  of 300 sample #: 199 reconstruction error: 0.106869\n",
            "Epoch: 0 batch #: 140  of 300 sample #: 199 reconstruction error: 0.087195\n",
            "Epoch: 0 batch #: 141  of 300 sample #: 199 reconstruction error: 0.075337\n",
            "Epoch: 0 batch #: 142  of 300 sample #: 199 reconstruction error: 0.078768\n",
            "Epoch: 0 batch #: 143  of 300 sample #: 199 reconstruction error: 0.065195\n",
            "Epoch: 0 batch #: 144  of 300 sample #: 199 reconstruction error: 0.058669\n",
            "Epoch: 0 batch #: 145  of 300 sample #: 199 reconstruction error: 0.086319\n",
            "Epoch: 0 batch #: 146  of 300 sample #: 199 reconstruction error: 0.106071\n",
            "Epoch: 0 batch #: 147  of 300 sample #: 199 reconstruction error: 0.067249\n",
            "Epoch: 0 batch #: 148  of 300 sample #: 199 reconstruction error: 0.086204\n",
            "Epoch: 0 batch #: 149  of 300 sample #: 199 reconstruction error: 0.043902\n",
            "Epoch: 0 batch #: 150  of 300 sample #: 199 reconstruction error: 0.050432\n",
            "Epoch: 0 batch #: 151  of 300 sample #: 199 reconstruction error: 0.094702\n",
            "Epoch: 0 batch #: 152  of 300 sample #: 199 reconstruction error: 0.083404\n",
            "Epoch: 0 batch #: 153  of 300 sample #: 199 reconstruction error: 0.059847\n",
            "Epoch: 0 batch #: 154  of 300 sample #: 199 reconstruction error: 0.073077\n",
            "Epoch: 0 batch #: 155  of 300 sample #: 199 reconstruction error: 0.067885\n",
            "Epoch: 0 batch #: 156  of 300 sample #: 199 reconstruction error: 0.067384\n",
            "Epoch: 0 batch #: 157  of 300 sample #: 199 reconstruction error: 0.084951\n",
            "Epoch: 0 batch #: 158  of 300 sample #: 199 reconstruction error: 0.070845\n",
            "Epoch: 0 batch #: 159  of 300 sample #: 199 reconstruction error: 0.057401\n",
            "Epoch: 0 batch #: 160  of 300 sample #: 199 reconstruction error: 0.076135\n",
            "Epoch: 0 batch #: 161  of 300 sample #: 199 reconstruction error: 0.087307\n",
            "Epoch: 0 batch #: 162  of 300 sample #: 199 reconstruction error: 0.107966\n",
            "Epoch: 0 batch #: 163  of 300 sample #: 199 reconstruction error: 0.041863\n",
            "Epoch: 0 batch #: 164  of 300 sample #: 199 reconstruction error: 0.063840\n",
            "Epoch: 0 batch #: 165  of 300 sample #: 199 reconstruction error: 0.076403\n",
            "Epoch: 0 batch #: 166  of 300 sample #: 199 reconstruction error: 0.058350\n",
            "Epoch: 0 batch #: 167  of 300 sample #: 199 reconstruction error: 0.087785\n",
            "Epoch: 0 batch #: 168  of 300 sample #: 199 reconstruction error: 0.055714\n",
            "Epoch: 0 batch #: 169  of 300 sample #: 199 reconstruction error: 0.035135\n",
            "Epoch: 0 batch #: 170  of 300 sample #: 199 reconstruction error: 0.049575\n",
            "Epoch: 0 batch #: 171  of 300 sample #: 199 reconstruction error: 0.032586\n",
            "Epoch: 0 batch #: 172  of 300 sample #: 199 reconstruction error: 0.045175\n",
            "Epoch: 0 batch #: 173  of 300 sample #: 199 reconstruction error: 0.093732\n",
            "Epoch: 0 batch #: 174  of 300 sample #: 199 reconstruction error: 0.103301\n",
            "Epoch: 0 batch #: 175  of 300 sample #: 199 reconstruction error: 0.065025\n",
            "Epoch: 0 batch #: 176  of 300 sample #: 199 reconstruction error: 0.040524\n",
            "Epoch: 0 batch #: 177  of 300 sample #: 199 reconstruction error: 0.034076\n",
            "Epoch: 0 batch #: 178  of 300 sample #: 199 reconstruction error: 0.101674\n",
            "Epoch: 0 batch #: 179  of 300 sample #: 199 reconstruction error: 0.071593\n",
            "Epoch: 0 batch #: 180  of 300 sample #: 199 reconstruction error: 0.095331\n",
            "Epoch: 0 batch #: 181  of 300 sample #: 199 reconstruction error: 0.089335\n",
            "Epoch: 0 batch #: 182  of 300 sample #: 199 reconstruction error: 0.074615\n",
            "Epoch: 0 batch #: 183  of 300 sample #: 199 reconstruction error: 0.094078\n",
            "Epoch: 0 batch #: 184  of 300 sample #: 199 reconstruction error: 0.051298\n",
            "Epoch: 0 batch #: 185  of 300 sample #: 199 reconstruction error: 0.075194\n",
            "Epoch: 0 batch #: 186  of 300 sample #: 199 reconstruction error: 0.105155\n",
            "Epoch: 0 batch #: 187  of 300 sample #: 199 reconstruction error: 0.052886\n",
            "Epoch: 0 batch #: 188  of 300 sample #: 199 reconstruction error: 0.107263\n",
            "Epoch: 0 batch #: 189  of 300 sample #: 199 reconstruction error: 0.062945\n",
            "Epoch: 0 batch #: 190  of 300 sample #: 199 reconstruction error: 0.057566\n",
            "Epoch: 0 batch #: 191  of 300 sample #: 199 reconstruction error: 0.105663\n",
            "Epoch: 0 batch #: 192  of 300 sample #: 199 reconstruction error: 0.109020\n",
            "Epoch: 0 batch #: 193  of 300 sample #: 199 reconstruction error: 0.079164\n",
            "Epoch: 0 batch #: 194  of 300 sample #: 199 reconstruction error: 0.079124\n",
            "Epoch: 0 batch #: 195  of 300 sample #: 199 reconstruction error: 0.044428\n",
            "Epoch: 0 batch #: 196  of 300 sample #: 199 reconstruction error: 0.052350\n",
            "Epoch: 0 batch #: 197  of 300 sample #: 199 reconstruction error: 0.054210\n",
            "Epoch: 0 batch #: 198  of 300 sample #: 199 reconstruction error: 0.087433\n",
            "Epoch: 0 batch #: 199  of 300 sample #: 199 reconstruction error: 0.075027\n",
            "Epoch: 0 batch #: 200  of 300 sample #: 199 reconstruction error: 0.092482\n",
            "Epoch: 0 batch #: 201  of 300 sample #: 199 reconstruction error: 0.090022\n",
            "Epoch: 0 batch #: 202  of 300 sample #: 199 reconstruction error: 0.028668\n",
            "Epoch: 0 batch #: 203  of 300 sample #: 199 reconstruction error: 0.094408\n",
            "Epoch: 0 batch #: 204  of 300 sample #: 199 reconstruction error: 0.060473\n",
            "Epoch: 0 batch #: 205  of 300 sample #: 199 reconstruction error: 0.020405\n",
            "Epoch: 0 batch #: 206  of 300 sample #: 199 reconstruction error: 0.060906\n",
            "Epoch: 0 batch #: 207  of 300 sample #: 199 reconstruction error: 0.068608\n",
            "Epoch: 0 batch #: 208  of 300 sample #: 199 reconstruction error: 0.058632\n",
            "Epoch: 0 batch #: 209  of 300 sample #: 199 reconstruction error: 0.031141\n",
            "Epoch: 0 batch #: 210  of 300 sample #: 199 reconstruction error: 0.106350\n",
            "Epoch: 0 batch #: 211  of 300 sample #: 199 reconstruction error: 0.095566\n",
            "Epoch: 0 batch #: 212  of 300 sample #: 199 reconstruction error: 0.079345\n",
            "Epoch: 0 batch #: 213  of 300 sample #: 199 reconstruction error: 0.108856\n",
            "Epoch: 0 batch #: 214  of 300 sample #: 199 reconstruction error: 0.105850\n",
            "Epoch: 0 batch #: 215  of 300 sample #: 199 reconstruction error: 0.026246\n",
            "Epoch: 0 batch #: 216  of 300 sample #: 199 reconstruction error: 0.104749\n",
            "Epoch: 0 batch #: 217  of 300 sample #: 199 reconstruction error: 0.070407\n",
            "Epoch: 0 batch #: 218  of 300 sample #: 199 reconstruction error: 0.081662\n",
            "Epoch: 0 batch #: 219  of 300 sample #: 199 reconstruction error: 0.079864\n",
            "Epoch: 0 batch #: 220  of 300 sample #: 199 reconstruction error: 0.049582\n",
            "Epoch: 0 batch #: 221  of 300 sample #: 199 reconstruction error: 0.083336\n",
            "Epoch: 0 batch #: 222  of 300 sample #: 199 reconstruction error: 0.078698\n",
            "Epoch: 0 batch #: 223  of 300 sample #: 199 reconstruction error: 0.074299\n",
            "Epoch: 0 batch #: 224  of 300 sample #: 199 reconstruction error: 0.063066\n",
            "Epoch: 0 batch #: 225  of 300 sample #: 199 reconstruction error: 0.066612\n",
            "Epoch: 0 batch #: 226  of 300 sample #: 199 reconstruction error: 0.137536\n",
            "Epoch: 0 batch #: 227  of 300 sample #: 199 reconstruction error: 0.066047\n",
            "Epoch: 0 batch #: 228  of 300 sample #: 199 reconstruction error: 0.049864\n",
            "Epoch: 0 batch #: 229  of 300 sample #: 199 reconstruction error: 0.082437\n",
            "Epoch: 0 batch #: 230  of 300 sample #: 199 reconstruction error: 0.033123\n",
            "Epoch: 0 batch #: 231  of 300 sample #: 199 reconstruction error: 0.030911\n",
            "Epoch: 0 batch #: 232  of 300 sample #: 199 reconstruction error: 0.073845\n",
            "Epoch: 0 batch #: 233  of 300 sample #: 199 reconstruction error: 0.084111\n",
            "Epoch: 0 batch #: 234  of 300 sample #: 199 reconstruction error: 0.066383\n",
            "Epoch: 0 batch #: 235  of 300 sample #: 199 reconstruction error: 0.062282\n",
            "Epoch: 0 batch #: 236  of 300 sample #: 199 reconstruction error: 0.090878\n",
            "Epoch: 0 batch #: 237  of 300 sample #: 199 reconstruction error: 0.072817\n",
            "Epoch: 0 batch #: 238  of 300 sample #: 199 reconstruction error: 0.102390\n",
            "Epoch: 0 batch #: 239  of 300 sample #: 199 reconstruction error: 0.030951\n",
            "Epoch: 0 batch #: 240  of 300 sample #: 199 reconstruction error: 0.079214\n",
            "Epoch: 0 batch #: 241  of 300 sample #: 199 reconstruction error: 0.078844\n",
            "Epoch: 0 batch #: 242  of 300 sample #: 199 reconstruction error: 0.069895\n",
            "Epoch: 0 batch #: 243  of 300 sample #: 199 reconstruction error: 0.065293\n",
            "Epoch: 0 batch #: 244  of 300 sample #: 199 reconstruction error: 0.064497\n",
            "Epoch: 0 batch #: 245  of 300 sample #: 199 reconstruction error: 0.078024\n",
            "Epoch: 0 batch #: 246  of 300 sample #: 199 reconstruction error: 0.084048\n",
            "Epoch: 0 batch #: 247  of 300 sample #: 199 reconstruction error: 0.056194\n",
            "Epoch: 0 batch #: 248  of 300 sample #: 199 reconstruction error: 0.073024\n",
            "Epoch: 0 batch #: 249  of 300 sample #: 199 reconstruction error: 0.045731\n",
            "Epoch: 0 batch #: 250  of 300 sample #: 199 reconstruction error: 0.090898\n",
            "Epoch: 0 batch #: 251  of 300 sample #: 199 reconstruction error: 0.044280\n",
            "Epoch: 0 batch #: 252  of 300 sample #: 199 reconstruction error: 0.065580\n",
            "Epoch: 0 batch #: 253  of 300 sample #: 199 reconstruction error: 0.055600\n",
            "Epoch: 0 batch #: 254  of 300 sample #: 199 reconstruction error: 0.036140\n",
            "Epoch: 0 batch #: 255  of 300 sample #: 199 reconstruction error: 0.041807\n",
            "Epoch: 0 batch #: 256  of 300 sample #: 199 reconstruction error: 0.065990\n",
            "Epoch: 0 batch #: 257  of 300 sample #: 199 reconstruction error: 0.084146\n",
            "Epoch: 0 batch #: 258  of 300 sample #: 199 reconstruction error: 0.090584\n",
            "Epoch: 0 batch #: 259  of 300 sample #: 199 reconstruction error: 0.075763\n",
            "Epoch: 0 batch #: 260  of 300 sample #: 199 reconstruction error: 0.097003\n",
            "Epoch: 0 batch #: 261  of 300 sample #: 199 reconstruction error: 0.029920\n",
            "Epoch: 0 batch #: 262  of 300 sample #: 199 reconstruction error: 0.050622\n",
            "Epoch: 0 batch #: 263  of 300 sample #: 199 reconstruction error: 0.089656\n",
            "Epoch: 0 batch #: 264  of 300 sample #: 199 reconstruction error: 0.083173\n",
            "Epoch: 0 batch #: 265  of 300 sample #: 199 reconstruction error: 0.063371\n",
            "Epoch: 0 batch #: 266  of 300 sample #: 199 reconstruction error: 0.030627\n",
            "Epoch: 0 batch #: 267  of 300 sample #: 199 reconstruction error: 0.052635\n",
            "Epoch: 0 batch #: 268  of 300 sample #: 199 reconstruction error: 0.024325\n",
            "Epoch: 0 batch #: 269  of 300 sample #: 199 reconstruction error: 0.093665\n",
            "Epoch: 0 batch #: 270  of 300 sample #: 199 reconstruction error: 0.082747\n",
            "Epoch: 0 batch #: 271  of 300 sample #: 199 reconstruction error: 0.045608\n",
            "Epoch: 0 batch #: 272  of 300 sample #: 199 reconstruction error: 0.050176\n",
            "Epoch: 0 batch #: 273  of 300 sample #: 199 reconstruction error: 0.046509\n",
            "Epoch: 0 batch #: 274  of 300 sample #: 199 reconstruction error: 0.052191\n",
            "Epoch: 0 batch #: 275  of 300 sample #: 199 reconstruction error: 0.094699\n",
            "Epoch: 0 batch #: 276  of 300 sample #: 199 reconstruction error: 0.073491\n",
            "Epoch: 0 batch #: 277  of 300 sample #: 199 reconstruction error: 0.076420\n",
            "Epoch: 0 batch #: 278  of 300 sample #: 199 reconstruction error: 0.065262\n",
            "Epoch: 0 batch #: 279  of 300 sample #: 199 reconstruction error: 0.036995\n",
            "Epoch: 0 batch #: 280  of 300 sample #: 199 reconstruction error: 0.086903\n",
            "Epoch: 0 batch #: 281  of 300 sample #: 199 reconstruction error: 0.067046\n",
            "Epoch: 0 batch #: 282  of 300 sample #: 199 reconstruction error: 0.111513\n",
            "Epoch: 0 batch #: 283  of 300 sample #: 199 reconstruction error: 0.051388\n",
            "Epoch: 0 batch #: 284  of 300 sample #: 199 reconstruction error: 0.045911\n",
            "Epoch: 0 batch #: 285  of 300 sample #: 199 reconstruction error: 0.062805\n",
            "Epoch: 0 batch #: 286  of 300 sample #: 199 reconstruction error: 0.066192\n",
            "Epoch: 0 batch #: 287  of 300 sample #: 199 reconstruction error: 0.075866\n",
            "Epoch: 0 batch #: 288  of 300 sample #: 199 reconstruction error: 0.027402\n",
            "Epoch: 0 batch #: 289  of 300 sample #: 199 reconstruction error: 0.088878\n",
            "Epoch: 0 batch #: 290  of 300 sample #: 199 reconstruction error: 0.086834\n",
            "Epoch: 0 batch #: 291  of 300 sample #: 199 reconstruction error: 0.118627\n",
            "Epoch: 0 batch #: 292  of 300 sample #: 199 reconstruction error: 0.081557\n",
            "Epoch: 0 batch #: 293  of 300 sample #: 199 reconstruction error: 0.056875\n",
            "Epoch: 0 batch #: 294  of 300 sample #: 199 reconstruction error: 0.076289\n",
            "Epoch: 0 batch #: 295  of 300 sample #: 199 reconstruction error: 0.069370\n",
            "Epoch: 0 batch #: 296  of 300 sample #: 199 reconstruction error: 0.029505\n",
            "Epoch: 0 batch #: 297  of 300 sample #: 199 reconstruction error: 0.107433\n",
            "Epoch: 0 batch #: 298  of 300 sample #: 199 reconstruction error: 0.049056\n",
            "Epoch: 0 batch #: 299  of 300 sample #: 199 reconstruction error: 0.042767\n",
            "Epoch: 0 batch #: 300  of 300 sample #: 199 reconstruction error: 0.085821\n"
          ]
        }
      ],
      "source": [
        "#Parameters\n",
        "alpha = 0.01\n",
        "epochs = 1\n",
        "batchsize = 200\n",
        "weights = []\n",
        "errors = []\n",
        "batch_number = 0\n",
        "K = 1\n",
        "\n",
        "#creating datasets\n",
        "train_ds = \\\n",
        "    tf.data.Dataset.from_tensor_slices((trX, trY)).batch(batchsize)\n",
        "\n",
        "for epoch in range(epochs):\n",
        "    for batch_x, batch_y in train_ds:\n",
        "        batch_number += 1\n",
        "        for i_sample in range(batchsize):\n",
        "            for k in range(K):\n",
        "                v0_state = batch_x[i_sample]\n",
        "                h0_state = hidden_layer(v0_state, W, hb)\n",
        "                v1_state = reconstructed_output(h0_state, W, vb)\n",
        "                h1_state = hidden_layer(v1_state, W, hb)\n",
        "\n",
        "                delta_W = tf.matmul(tf.transpose([v0_state]), h0_state) - tf.matmul(tf.transpose([v1_state]), h1_state)\n",
        "                W = W + alpha * delta_W\n",
        "\n",
        "                vb = vb + alpha * tf.reduce_mean(v0_state - v1_state, 0)\n",
        "                hb = hb + alpha * tf.reduce_mean(h0_state - h1_state, 0)\n",
        "\n",
        "                v0_state = v1_state\n",
        "\n",
        "            if i_sample == batchsize-1:\n",
        "                err = error(batch_x[i_sample], v1_state)\n",
        "                errors.append(err)\n",
        "                weights.append(W)\n",
        "                print ( 'Epoch: %d' % epoch,\n",
        "                       \"batch #: %i \" % batch_number, \"of %i\" % int(60e3/batchsize),\n",
        "                       \"sample #: %i\" % i_sample,\n",
        "                       'reconstruction error: %f' % err)\n",
        "\n"
      ],
      "execution_count": 19
    },
    {
      "cell_type": "markdown",
      "metadata": {
        "id": "bc4acc4f-7bd0-4972-b04e-0d62935c3912"
      },
      "source": [
        "Let's take a look at the errors at the end of each batch:\n"
      ]
    },
    {
      "cell_type": "code",
      "metadata": {
        "colab": {
          "base_uri": "https://localhost:8080/",
          "height": 449
        },
        "id": "483655aa-c404-4825-8268-642de0e98ff7",
        "outputId": "78e7b606-27fc-4810-d509-913df018b89e"
      },
      "outputs": [
        {
          "output_type": "display_data",
          "data": {
            "text/plain": [
              "<Figure size 640x480 with 1 Axes>"
            ],
            "image/png": "[encoded data removed]"
          },
          "metadata": {}
        }
      ],
      "source": [
        "plt.plot(errors)\n",
        "plt.xlabel(\"Batch Number\")\n",
        "plt.ylabel(\"Error\")\n",
        "plt.show()"
      ],
      "execution_count": 20
    },
    {
      "cell_type": "markdown",
      "metadata": {
        "id": "34683bd4-aa3f-40ff-95f3-6d2e408059c4"
      },
      "source": [
        "What is the final weight matrix $W$ after training?\n"
      ]
    },
    {
      "cell_type": "code",
      "metadata": {
        "colab": {
          "base_uri": "https://localhost:8080/"
        },
        "id": "8378b12e-7580-498f-9742-9a7ec889d021",
        "outputId": "c806d4ac-6247-4355-dd84-1a21f4b10e0c"
      },
      "outputs": [
        {
          "output_type": "stream",
          "name": "stdout",
          "text": [
            "[[-0.29       -0.24000004 -0.40999988 ... -0.29999998 -0.42999986\n",
            "  -0.3899999 ]\n",
            " [-0.25000003 -0.26000002 -0.3799999  ... -0.27       -0.34999993\n",
            "  -0.29      ]\n",
            " [-0.29999998 -0.25000003 -0.40999988 ... -0.28       -0.4799998\n",
            "  -0.27      ]\n",
            " ...\n",
            " [-0.24000004 -0.29999998 -0.40999988 ... -0.33999994 -0.29\n",
            "  -0.29999998]\n",
            " [-0.29999998 -0.27       -0.3899999  ... -0.36999992 -0.40999988\n",
            "  -0.3999999 ]\n",
            " [-0.29999998 -0.22000003 -0.44999984 ... -0.29       -0.36999992\n",
            "  -0.29      ]]\n"
          ]
        }
      ],
      "source": [
        "print(W.numpy()) # a weight matrix of shape (50,784)"
      ],
      "execution_count": 21
    },
    {
      "cell_type": "markdown",
      "metadata": {
        "id": "00d2cf5f-b6f0-48df-b799-e029311d7e65"
      },
      "source": [
        "<a id=\"ref5\"></a>\n",
        "<h3>Learned features</h3>\n"
      ]
    },
    {
      "cell_type": "markdown",
      "metadata": {
        "id": "fcf78092-01c7-414e-9d42-215995366fd8"
      },
      "source": [
        "We can take each hidden unit and visualize the connections between that hidden unit and each element in the input vector. In our case, we have 50 hidden units. Lets visualize those.\n"
      ]
    },
    {
      "cell_type": "markdown",
      "metadata": {
        "id": "1fbde916-840a-4760-8a50-e89a73a71e14"
      },
      "source": [
        "Let's plot the current weights:\n",
        "<b>tile_raster_images</b> helps in generating an easy to grasp image from a set of samples or weights. It transforms the <b>uw</b> (with one flattened image per row of size 784), into an array (of size $28\\times28$) in which images are reshaped and laid out like tiles on a floor.\n"
      ]
    },
    {
      "cell_type": "code",
      "metadata": {
        "colab": {
          "base_uri": "https://localhost:8080/",
          "height": 758
        },
        "id": "6bc391b5-aa79-4ad2-9ea5-09490314b7c1",
        "outputId": "58f6ec0c-dc2c-42fc-fd95-efc2b328b5c1"
      },
      "outputs": [
        {
          "output_type": "display_data",
          "data": {
            "text/plain": [
              "<Figure size 1800x1800 with 1 Axes>"
            ],
            "image/png": "[encoded data removed]"
          },
          "metadata": {}
        }
      ],
      "source": [
        "tile_raster_images(X=W.numpy().T, img_shape=(28, 28), tile_shape=(5, 10), tile_spacing=(1, 1))\n",
        "import matplotlib.pyplot as plt\n",
        "from PIL import Image\n",
        "%matplotlib inline\n",
        "image = Image.fromarray(tile_raster_images(X=W.numpy().T, img_shape=(28, 28) ,tile_shape=(5, 10), tile_spacing=(1, 1)))\n",
        "### Plot image\n",
        "plt.rcParams['figure.figsize'] = (18.0, 18.0)\n",
        "imgplot = plt.imshow(image)\n",
        "imgplot.set_cmap('gray')"
      ],
      "execution_count": 22
    },
    {
      "cell_type": "markdown",
      "metadata": {
        "id": "05262757-095a-41e2-b8ae-dd609f30bd1a"
      },
      "source": [
        "Each tile in the above visualization corresponds to a vector of connections between a hidden unit and visible layer's units.\n"
      ]
    },
    {
      "cell_type": "markdown",
      "metadata": {
        "id": "0caf7520-bc05-4402-a65a-9fd51381da6f"
      },
      "source": [
        "Let's look at one of the learned weights corresponding to one of hidden units for example. In this particular square, the gray color represents weight = 0, and the whiter it is, the more positive the weights are (closer to 1). Conversely, the darker pixels are, the more negative the weights. The positive pixels will increase the probability of activation in hidden units (after multiplying by input/visible pixels), and negative pixels will decrease the probability of a unit hidden to be 1 (activated). So, why is this important?  So we can see that this specific square (hidden unit) can detect a feature (e.g. a \"/\" shape) and if it exists in the input.\n"
      ]
    },
    {
      "cell_type": "code",
      "metadata": {
        "colab": {
          "base_uri": "https://localhost:8080/",
          "height": 368
        },
        "id": "272c0395-4a26-4d3d-bff8-343e90710002",
        "outputId": "a3c943fd-0761-47ac-b69a-22a263e1e670"
      },
      "outputs": [
        {
          "output_type": "display_data",
          "data": {
            "text/plain": [
              "<Figure size 400x400 with 1 Axes>"
            ],
            "image/png": "[encoded data removed]"
          },
          "metadata": {}
        }
      ],
      "source": [
        "from PIL import Image\n",
        "image = Image.fromarray(tile_raster_images(X =W.numpy().T[10:11], img_shape=(28, 28),tile_shape=(1, 1), tile_spacing=(1, 1)))\n",
        "### Plot image\n",
        "plt.rcParams['figure.figsize'] = (4.0, 4.0)\n",
        "imgplot = plt.imshow(image)\n",
        "imgplot.set_cmap('gray')"
      ],
      "execution_count": 23
    },
    {
      "cell_type": "markdown",
      "metadata": {
        "id": "9aed6c7f-8407-447f-8de2-7e9d77924135"
      },
      "source": [
        "Let's look at the reconstruction of an image now. Imagine that we have a destructed image of figure 3. Lets see if our trained network can fix it:\n",
        "\n",
        "First we plot the image:\n"
      ]
    },
    {
      "cell_type": "code",
      "metadata": {
        "colab": {
          "base_uri": "https://localhost:8080/",
          "height": 652
        },
        "id": "e01dd16a-ba6d-427c-9556-c8f069a93038",
        "outputId": "41c26769-7643-4e61-a4ab-90d26f05a835"
      },
      "outputs": [
        {
          "output_type": "stream",
          "name": "stdout",
          "text": [
            "--2023-09-16 07:05:16--  https://ibm.box.com/shared/static/vvm1b63uvuxq88vbw9znpwu5ol380mco.jpg\n",
            "Resolving ibm.box.com (ibm.box.com)... 74.112.186.144\n",
            "Connecting to ibm.box.com (ibm.box.com)|74.112.186.144|:443... connected.\n",
            "HTTP request sent, awaiting response... 301 Moved Permanently\n",
            "Location: /public/static/vvm1b63uvuxq88vbw9znpwu5ol380mco.jpg [following]\n",
            "--2023-09-16 07:05:16--  https://ibm.box.com/public/static/vvm1b63uvuxq88vbw9znpwu5ol380mco.jpg\n",
            "Reusing existing connection to ibm.box.com:443.\n",
            "HTTP request sent, awaiting response... 301 Moved Permanently\n",
            "Location: https://ibm.ent.box.com/public/static/vvm1b63uvuxq88vbw9znpwu5ol380mco.jpg [following]\n",
            "--2023-09-16 07:05:16--  https://ibm.ent.box.com/public/static/vvm1b63uvuxq88vbw9znpwu5ol380mco.jpg\n",
            "Resolving ibm.ent.box.com (ibm.ent.box.com)... 74.112.186.144\n",
            "Connecting to ibm.ent.box.com (ibm.ent.box.com)|74.112.186.144|:443... connected.\n",
            "HTTP request sent, awaiting response... 302 Found\n",
            "Location: https://public.boxcloud.com/d/1/b1!eXvN6UBk5vFnbBE9flyxNF_a_Ut3OMWEeX-gWIgA8lxNCVcnrZLvR8WxiDfc5GbqKuW_SqIzVzjqZzBnK3C80kEUeFQVScsWl4eMPOSt61-38dzRArurN5L_9JmtNiKo_WELmPC0H4NTuChek2q3TQqw2NJVOrUS_IhvVqG9hw948ypNYb7WbSyTKAEynVzXDqP9UKghCdOMI7MrDLzMusHoJw34NfLzOBj27aS30WWnesUlrN49XXuvOPj1h4m_Lx_ClUEcoA4KjLzbg0IPI1SKfSuYyBzLBv1ng6kwW8mCtdyAackpHrErIQg-LB3KzshfPpWdy4QVUNmgdsXmoPXF0ieW8kgbTEDsloXXSgx4Df97WXK3XvVJMalMSb1ncbvT4N1au1GxAMB-IAUr9dFaDv1OCHe_PsSBXFDt2CzmyBPcdd5RYgCib6i4wPaUtnw8OZE4IUXSeuQS-uQUWt8g041A1cNSvWLRmn8CV1utLYUA9b4vx1Cg9oqn-nraQ3IrSp6-SozTx_FXlGt9tQtKa4IJoGhu6w23sF85-RDjI6tFBIVqEHYNaEWqzLXOY66DtI0W8JeZFK_T16aG7XeZsBw1_RxvbMv_7BoWiUVCLubBd6lWklDxj4oXam3WPrZJqIWidhyQpAn4CAygHdjL-hOKfJLEqGSnZH5UUnfPJiJLETbVkRkDg86QSCaffODk1F8eAYr_-zyN9j8iBAnXIKSr-4yJIiHptUFKIA9G4hQlnu-88MDGTmu3FyDe1sIDSdBC1avK5o3ePFrSijSGlq6Tl7U0uRMmWVhz5L4nx3WokjBPTZF6It47CWW2p-CEMUg9u5EigSUU3rtw1Fk5KQe6rsGSaWHvUXNiW0RH5zoOl3xY3Q_n6CxPrDbbeHOhWSFkHBFEIa5r4OL0ImyEy4fdqX6jxwTrS_aLBlcz2gUDzIkGC79BcFiZ4iowBP5RCWmGwwa8Xidc3XDI-qqxMQ3n19xVwOyZ6VsXEOE5s2tOsBP5i-78P_q0EHfYTU8dGK0fpowdi-kRtEe5Vy2NwxiBk4PqleGCPtxobnKlY-pQVvVAnBeMDuo3T3ExTMkHr7Gw_j7VaJe58BJkMFejwS4WNZEtaiE9iZamy1iq0JtpYHZGyKACdTfzsrj13LKEMYoxd2uutHKrmkaSnoGEAaoIOFIvnLy5dBhDL2CbuNk5pM3VIO9zoEAWr9daVfBA8QaGPjKNl4u9sxC0kWeFsDxV0NQnKJzX07k-TqFJ2ltTv6jXEowUxYdcdrEWbjGlAKA74jmmGaoM9Lq1Ky6OMphvZYnXbuHrNrVxA1ryKgRCK9SBQ24KmcJ8P-f1AQLoM79Ab-crqXvnOF58QZ8cOuIxCv36CXwTJ6SVyB4qdLaG5t7acFOqQ3vPf8XJLUiYL8CSgCPFGZQdSfc0opLl/download [following]\n",
            "--2023-09-16 07:05:17--  https://public.boxcloud.com/d/1/b1!eXvN6UBk5vFnbBE9flyxNF_a_Ut3OMWEeX-gWIgA8lxNCVcnrZLvR8WxiDfc5GbqKuW_SqIzVzjqZzBnK3C80kEUeFQVScsWl4eMPOSt61-38dzRArurN5L_9JmtNiKo_WELmPC0H4NTuChek2q3TQqw2NJVOrUS_IhvVqG9hw948ypNYb7WbSyTKAEynVzXDqP9UKghCdOMI7MrDLzMusHoJw34NfLzOBj27aS30WWnesUlrN49XXuvOPj1h4m_Lx_ClUEcoA4KjLzbg0IPI1SKfSuYyBzLBv1ng6kwW8mCtdyAackpHrErIQg-LB3KzshfPpWdy4QVUNmgdsXmoPXF0ieW8kgbTEDsloXXSgx4Df97WXK3XvVJMalMSb1ncbvT4N1au1GxAMB-IAUr9dFaDv1OCHe_PsSBXFDt2CzmyBPcdd5RYgCib6i4wPaUtnw8OZE4IUXSeuQS-uQUWt8g041A1cNSvWLRmn8CV1utLYUA9b4vx1Cg9oqn-nraQ3IrSp6-SozTx_FXlGt9tQtKa4IJoGhu6w23sF85-RDjI6tFBIVqEHYNaEWqzLXOY66DtI0W8JeZFK_T16aG7XeZsBw1_RxvbMv_7BoWiUVCLubBd6lWklDxj4oXam3WPrZJqIWidhyQpAn4CAygHdjL-hOKfJLEqGSnZH5UUnfPJiJLETbVkRkDg86QSCaffODk1F8eAYr_-zyN9j8iBAnXIKSr-4yJIiHptUFKIA9G4hQlnu-88MDGTmu3FyDe1sIDSdBC1avK5o3ePFrSijSGlq6Tl7U0uRMmWVhz5L4nx3WokjBPTZF6It47CWW2p-CEMUg9u5EigSUU3rtw1Fk5KQe6rsGSaWHvUXNiW0RH5zoOl3xY3Q_n6CxPrDbbeHOhWSFkHBFEIa5r4OL0ImyEy4fdqX6jxwTrS_aLBlcz2gUDzIkGC79BcFiZ4iowBP5RCWmGwwa8Xidc3XDI-qqxMQ3n19xVwOyZ6VsXEOE5s2tOsBP5i-78P_q0EHfYTU8dGK0fpowdi-kRtEe5Vy2NwxiBk4PqleGCPtxobnKlY-pQVvVAnBeMDuo3T3ExTMkHr7Gw_j7VaJe58BJkMFejwS4WNZEtaiE9iZamy1iq0JtpYHZGyKACdTfzsrj13LKEMYoxd2uutHKrmkaSnoGEAaoIOFIvnLy5dBhDL2CbuNk5pM3VIO9zoEAWr9daVfBA8QaGPjKNl4u9sxC0kWeFsDxV0NQnKJzX07k-TqFJ2ltTv6jXEowUxYdcdrEWbjGlAKA74jmmGaoM9Lq1Ky6OMphvZYnXbuHrNrVxA1ryKgRCK9SBQ24KmcJ8P-f1AQLoM79Ab-crqXvnOF58QZ8cOuIxCv36CXwTJ6SVyB4qdLaG5t7acFOqQ3vPf8XJLUiYL8CSgCPFGZQdSfc0opLl/download\n",
            "Resolving public.boxcloud.com (public.boxcloud.com)... 74.112.186.128\n",
            "Connecting to public.boxcloud.com (public.boxcloud.com)|74.112.186.128|:443... connected.\n",
            "HTTP request sent, awaiting response... 200 OK\n",
            "Length: 24383 (24K) [image/jpeg]\n",
            "Saving to: ‘destructed3.jpg’\n",
            "\n",
            "destructed3.jpg     100%[===================>]  23.81K  --.-KB/s    in 0s      \n",
            "\n",
            "2023-09-16 07:05:17 (84.7 MB/s) - ‘destructed3.jpg’ saved [24383/24383]\n",
            "\n"
          ]
        },
        {
          "output_type": "execute_result",
          "data": {
            "text/plain": [
              "<PIL.JpegImagePlugin.JpegImageFile image mode=RGB size=181x181>"
            ],
            "image/png": "[encoded data removed]"
          },
          "metadata": {},
          "execution_count": 24
        }
      ],
      "source": [
        "!wget -O destructed3.jpg  https://ibm.box.com/shared/static/vvm1b63uvuxq88vbw9znpwu5ol380mco.jpg\n",
        "img = Image.open('destructed3.jpg')\n",
        "img"
      ],
      "execution_count": 24
    },
    {
      "cell_type": "markdown",
      "metadata": {
        "id": "3395c842-a4f4-4323-80a4-0a94421905f6"
      },
      "source": [
        "Now let's pass this image through the neural net:\n"
      ]
    },
    {
      "cell_type": "code",
      "metadata": {
        "id": "70d90bc5-a19c-43d1-bfa6-69a7200a497e"
      },
      "outputs": [],
      "source": [
        "# convert the image to a 1d numpy array\n",
        "sample_case = np.array(img.convert('I').resize((28,28))).ravel().reshape((1, -1))/255.0\n",
        "\n",
        "sample_case = tf.cast(sample_case, dtype=tf.float32)"
      ],
      "execution_count": 25
    },
    {
      "cell_type": "markdown",
      "metadata": {
        "id": "7d0602f1-4de6-4084-9d09-0004c93cb9de"
      },
      "source": [
        "Feed the sample case into the network and reconstruct the output:\n"
      ]
    },
    {
      "cell_type": "code",
      "metadata": {
        "colab": {
          "base_uri": "https://localhost:8080/"
        },
        "id": "a195f7c4-7d60-42d2-a2e9-c49fc5ae82b8",
        "outputId": "43523235-0928-415c-c149-2e70c5f3a280"
      },
      "outputs": [
        {
          "output_type": "stream",
          "name": "stdout",
          "text": [
            "Probability nodes in hidden layer: tf.Tensor(\n",
            "[[4.1853645e-17 6.7099580e-07 7.0046141e-08 4.9783364e-01 1.3604843e-18\n",
            "  6.8302690e-11 4.7160643e-07 3.1121135e-01 6.0744587e-06 9.7002703e-01\n",
            "  7.1904331e-02 1.7631747e-07 4.7166797e-04 8.8002830e-04 7.7286849e-08\n",
            "  2.9695518e-06 5.4804526e-14 3.3252382e-01 9.9949610e-01 1.6549720e-05\n",
            "  9.1738904e-01 1.0000000e+00 1.2801834e-04 9.9825299e-01 9.9999410e-01\n",
            "  9.1617912e-01 9.9999142e-01 6.3693739e-07 8.2759023e-01 1.9358168e-09\n",
            "  9.9994189e-01 2.0927894e-13 9.9968314e-01 9.9999762e-01 1.0000000e+00\n",
            "  1.5435441e-13 3.6976971e-12 5.6370092e-10 9.8116970e-01 9.0969032e-01\n",
            "  1.1929456e-12 3.6009243e-01 2.0618446e-10 9.9999923e-01 9.9337697e-01\n",
            "  9.9999988e-01 1.8584199e-14 5.3317854e-03 4.0748026e-03 8.3056986e-03]], shape=(1, 50), dtype=float32)\n",
            "activated nodes in hidden layer: tf.Tensor(\n",
            "[[0. 0. 0. 0. 0. 0. 0. 0. 0. 1. 0. 0. 0. 0. 0. 0. 0. 0. 1. 0. 1. 1. 0. 1.\n",
            "  1. 1. 1. 0. 1. 0. 1. 0. 1. 1. 1. 0. 0. 0. 1. 1. 0. 0. 0. 1. 1. 1. 0. 0.\n",
            "  0. 0.]], shape=(1, 50), dtype=float32)\n",
            "tf.Tensor(\n",
            "[[1.44404781e-04 1.96874869e-04 2.40452966e-04 1.35996524e-04\n",
            "  2.65734765e-04 1.87274942e-04 1.15890944e-04 1.30664732e-04\n",
            "  2.06966797e-04 2.33348241e-04 9.68020686e-05 8.67195849e-05\n",
            "  2.61908252e-04 1.69303705e-04 1.67652266e-04 2.53403414e-04\n",
            "  1.87274942e-04 1.92977153e-04 1.72879052e-04 1.61193297e-04\n",
            "  1.98853348e-04 1.69456471e-04 1.91057319e-04 1.89156577e-04\n",
            "  9.77748787e-05 1.89156941e-04 1.17055446e-04 2.33348008e-04\n",
            "  1.69456471e-04 1.91057494e-04 2.42869035e-04 1.48802021e-04\n",
            "  1.95897039e-04 1.32730347e-04 1.59671035e-04 2.57944223e-04\n",
            "  1.96489287e-04 2.61272275e-04 2.30150297e-04 3.12906224e-04\n",
            "  3.22964130e-04 3.95680050e-04 3.15939222e-04 2.84618058e-04\n",
            "  2.89343967e-04 5.11483115e-04 4.95537592e-04 2.48582044e-04\n",
            "  2.14585554e-04 3.77645862e-04 1.24297760e-04 2.22144648e-04\n",
            "  1.62812925e-04 4.46892256e-04 1.17055555e-04 9.39414313e-05\n",
            "  1.38743388e-04 1.81741008e-04 1.46601320e-04 1.58865543e-04\n",
            "  2.14930769e-04 2.14863147e-04 3.59783968e-04 1.82985663e-04\n",
            "  1.96937210e-04 1.03645660e-04 9.72589696e-05 8.41738074e-05\n",
            "  9.07769427e-05 8.92520038e-05 7.00886594e-05 1.30261789e-04\n",
            "  3.39853752e-04 1.44106030e-04 1.86528589e-04 1.60973330e-04\n",
            "  2.29780853e-04 4.41964163e-04 7.35376962e-04 3.45939188e-04\n",
            "  1.67016115e-04 2.80695211e-04 1.67770602e-04 1.51807486e-04\n",
            "  1.98853159e-04 1.76370901e-04 2.78022751e-04 1.86220801e-04\n",
            "  2.62411893e-04 1.80718198e-04 3.73128627e-04 1.87466445e-04\n",
            "  1.19584329e-04 5.96912760e-05 5.88613075e-05 9.79483520e-05\n",
            "  9.26549765e-05 1.41820914e-04 3.83636914e-04 7.10777007e-04\n",
            "  8.48403666e-04 4.50059830e-04 7.84257485e-04 1.18632533e-03\n",
            "  6.61109400e-04 5.13653853e-04 7.99673493e-04 8.20879533e-04\n",
            "  7.01376528e-04 2.78962136e-04 2.06715573e-04 2.02869327e-04\n",
            "  3.37790814e-04 2.84818932e-04 2.08940066e-04 2.03100426e-04\n",
            "  2.27369615e-04 8.16742366e-04 4.75950073e-04 4.49459621e-04\n",
            "  2.27078228e-04 2.84855312e-04 3.60083679e-04 6.38565805e-04\n",
            "  8.36333318e-04 1.04822160e-03 2.55402736e-03 8.83557089e-03\n",
            "  8.30564741e-03 7.30335526e-03 5.06872497e-03 3.79383052e-03\n",
            "  2.16957321e-03 6.26216503e-03 9.71328188e-03 7.98828155e-03\n",
            "  3.38974618e-03 1.40946289e-03 3.27169197e-04 1.75556823e-04\n",
            "  2.31026876e-04 2.93674238e-04 2.24297444e-04 3.32992000e-04\n",
            "  8.03283707e-04 9.06215981e-04 6.35457051e-04 1.31052278e-03\n",
            "  2.07098620e-03 4.53081820e-03 1.66071728e-02 2.22342536e-02\n",
            "  7.14889318e-02 2.08233967e-01 5.51968038e-01 7.93247342e-01\n",
            "  7.11695492e-01 3.68205786e-01 2.69952267e-01 1.48204908e-01\n",
            "  8.61000791e-02 7.61296824e-02 6.74736276e-02 5.39078601e-02\n",
            "  1.49077997e-02 3.43643129e-03 8.96850484e-04 1.82297750e-04\n",
            "  2.24200587e-04 2.27816010e-04 3.03292181e-04 9.17104247e-04\n",
            "  1.77727453e-03 2.37964676e-03 2.23244447e-03 3.02288309e-03\n",
            "  5.22019248e-03 1.76735800e-02 4.30646092e-02 3.63113880e-01\n",
            "  7.96838701e-01 9.23174560e-01 9.15257394e-01 8.97844732e-01\n",
            "  8.87228787e-01 8.41799438e-01 5.62110007e-01 7.55943775e-01\n",
            "  5.31287193e-01 4.59243506e-01 2.42277354e-01 1.23543561e-01\n",
            "  1.99103225e-02 4.40816674e-03 1.45431911e-03 2.79816129e-04\n",
            "  1.97446920e-04 2.47027638e-04 4.68085316e-04 9.50282149e-04\n",
            "  2.48689018e-03 3.02780210e-03 3.72804375e-03 5.71683049e-03\n",
            "  1.05501460e-02 9.03745964e-02 5.04848421e-01 7.83275366e-01\n",
            "  9.58350599e-01 9.57188249e-01 9.74481463e-01 9.41260397e-01\n",
            "  8.79143298e-01 7.51488864e-01 6.31572962e-01 7.43908167e-01\n",
            "  7.01915264e-01 5.77482581e-01 3.87812346e-01 1.87998444e-01\n",
            "  2.18759086e-02 2.35860259e-03 1.82993384e-03 3.08074203e-04\n",
            "  1.47489278e-04 2.06440396e-04 6.37591234e-04 1.40670396e-03\n",
            "  1.33956422e-03 4.33993945e-03 5.71293989e-03 7.14924093e-03\n",
            "  3.97329740e-02 1.95918545e-01 5.65478146e-01 9.08245862e-01\n",
            "  9.38264847e-01 8.97131741e-01 7.93286860e-01 4.02404130e-01\n",
            "  1.73915938e-01 1.95574954e-01 2.96686590e-01 6.78807855e-01\n",
            "  6.57484353e-01 4.07721281e-01 2.09796458e-01 6.60791099e-02\n",
            "  7.59436050e-03 2.76963762e-03 1.54937920e-03 2.17320339e-04\n",
            "  1.43862475e-04 2.47347489e-04 4.00157471e-04 1.41565909e-03\n",
            "  2.40105484e-03 3.85977561e-03 1.16162999e-02 9.16308351e-03\n",
            "  5.05146980e-02 1.83058158e-01 6.32711232e-01 7.59596169e-01\n",
            "  4.63080943e-01 1.95381865e-01 6.24457449e-02 1.06950991e-01\n",
            "  4.29402553e-02 9.91067886e-02 2.66802311e-01 6.58613086e-01\n",
            "  4.64053005e-01 2.56352633e-01 1.02304451e-01 1.83011722e-02\n",
            "  4.00806963e-03 1.07055379e-03 6.48300338e-04 2.76468490e-04\n",
            "  2.31434955e-04 4.17084928e-04 7.83973141e-04 1.55521254e-03\n",
            "  2.34626234e-03 6.14910293e-03 1.73293930e-02 2.20293514e-02\n",
            "  2.41124909e-02 1.09010473e-01 2.26778969e-01 2.56706685e-01\n",
            "  1.19140536e-01 4.23632562e-02 4.09478098e-02 5.27029075e-02\n",
            "  6.94639310e-02 1.21727273e-01 4.05732185e-01 6.36656642e-01\n",
            "  5.25462985e-01 2.31079638e-01 3.10983378e-02 1.37574142e-02\n",
            "  1.71610329e-03 9.27840534e-04 9.15239158e-04 3.02532368e-04\n",
            "  1.98479422e-04 3.23191751e-04 5.99144551e-04 5.23552124e-04\n",
            "  1.68658048e-03 8.48240778e-03 8.29493534e-03 1.19960541e-02\n",
            "  1.70798097e-02 7.99816102e-02 1.30728707e-01 1.44853622e-01\n",
            "  2.04929203e-01 1.67868584e-01 2.55438149e-01 2.95029312e-01\n",
            "  3.39767128e-01 4.47261989e-01 6.70014441e-01 6.69112921e-01\n",
            "  4.41996843e-01 9.34322476e-02 8.84363428e-03 2.61430815e-03\n",
            "  7.28356827e-04 8.69311043e-04 5.60282788e-04 1.17289965e-04\n",
            "  2.10931932e-04 2.42222697e-04 4.30743268e-04 4.69042250e-04\n",
            "  1.91960379e-03 3.05120857e-03 3.61202098e-03 4.89858352e-03\n",
            "  2.39111017e-02 4.38009277e-02 1.34671018e-01 2.93021262e-01\n",
            "  7.60058105e-01 9.24727440e-01 9.03291345e-01 7.94916153e-01\n",
            "  7.71288753e-01 7.58679152e-01 7.16728091e-01 5.91566443e-01\n",
            "  1.94491833e-01 1.35792885e-02 4.63148532e-03 9.46644403e-04\n",
            "  7.49201921e-04 3.40744824e-04 3.84201237e-04 2.54468730e-04\n",
            "  2.36887849e-04 2.08342870e-04 3.31481453e-04 3.63698404e-04\n",
            "  1.35964563e-03 3.51455971e-03 4.70916601e-03 5.29749133e-03\n",
            "  2.63106972e-02 8.04309547e-02 3.46550584e-01 8.48823369e-01\n",
            "  9.71111715e-01 9.78313565e-01 9.68136370e-01 9.33143318e-01\n",
            "  8.37049246e-01 7.49551535e-01 7.91942894e-01 4.28557217e-01\n",
            "  1.01823546e-01 1.09482687e-02 1.25292037e-03 7.53224012e-04\n",
            "  1.87695739e-04 2.63072492e-04 2.21683396e-04 1.34844449e-04\n",
            "  3.07290116e-04 2.35563741e-04 3.05967318e-04 9.63742961e-04\n",
            "  1.02156017e-03 2.24365573e-03 2.51582963e-03 3.61258606e-03\n",
            "  1.90750714e-02 1.06100194e-01 5.14438748e-01 9.18750286e-01\n",
            "  9.73047614e-01 9.78043020e-01 9.68163073e-01 8.97563934e-01\n",
            "  8.99282396e-01 8.28082204e-01 9.08121824e-01 4.35589880e-01\n",
            "  1.01788394e-01 1.14386277e-02 1.75331195e-03 6.22291060e-04\n",
            "  1.71544729e-04 3.28958529e-04 1.63998629e-04 2.57257227e-04\n",
            "  1.92637235e-04 1.94260210e-04 2.48211873e-04 7.52195367e-04\n",
            "  3.31429951e-03 2.04309239e-03 1.90643955e-03 3.05606122e-03\n",
            "  1.05125373e-02 6.38653710e-02 2.15120986e-01 6.01551831e-01\n",
            "  8.13287735e-01 7.18344569e-01 4.89969254e-01 3.57396334e-01\n",
            "  3.76027435e-01 7.75974751e-01 8.47753763e-01 4.65818822e-01\n",
            "  9.88498926e-02 7.04723969e-03 2.77627003e-03 2.28571400e-04\n",
            "  2.13613646e-04 1.40204313e-04 3.51172843e-04 1.30127955e-04\n",
            "  2.52877275e-04 1.82062198e-04 3.09927796e-04 3.50148976e-03\n",
            "  3.47439665e-03 5.05424058e-03 3.52516654e-03 5.06524649e-03\n",
            "  1.51798297e-02 2.34914683e-02 5.40496856e-02 1.08773313e-01\n",
            "  9.83721390e-02 5.69552928e-02 1.88343581e-02 3.78511883e-02\n",
            "  1.51081547e-01 5.72456121e-01 8.66192877e-01 5.73338330e-01\n",
            "  3.28587964e-02 4.64914413e-03 1.19618711e-03 2.28383840e-04\n",
            "  1.41017488e-04 1.13757334e-04 2.17909386e-04 2.12043000e-04\n",
            "  2.31026876e-04 2.39193061e-04 9.52218135e-04 5.33687603e-03\n",
            "  6.34208508e-03 9.14029125e-03 9.05353203e-03 8.12487025e-03\n",
            "  1.05801933e-02 1.30875641e-02 2.27284413e-02 8.51820316e-03\n",
            "  1.00777531e-02 7.20103504e-03 7.52029801e-03 1.06814764e-02\n",
            "  7.66856521e-02 4.82868940e-01 8.17592978e-01 5.36774099e-01\n",
            "  3.75749804e-02 3.66592687e-03 1.35930371e-03 6.20910607e-04\n",
            "  3.81596677e-04 2.31263359e-04 3.70621681e-04 2.47609103e-04\n",
            "  2.62813264e-04 2.01608593e-04 1.10251771e-03 1.07868062e-02\n",
            "  3.69920656e-02 3.70882303e-02 4.54675369e-02 2.68007256e-02\n",
            "  1.49492482e-02 2.18339581e-02 9.64120775e-03 7.66352843e-03\n",
            "  4.50911187e-03 3.95926367e-03 1.26482649e-02 1.26467766e-02\n",
            "  2.22038344e-01 8.47204983e-01 9.33536351e-01 4.87639993e-01\n",
            "  2.60026716e-02 3.34059447e-03 2.23918539e-03 1.63095014e-03\n",
            "  4.94690670e-04 2.67891417e-04 3.63327796e-04 1.59602234e-04\n",
            "  1.48103572e-04 3.53381998e-04 2.14407151e-03 2.63716392e-02\n",
            "  8.95449966e-02 2.42601469e-01 1.11599125e-01 1.23660408e-01\n",
            "  4.82811444e-02 3.92235070e-02 1.41979977e-02 7.81857781e-03\n",
            "  9.89365857e-03 1.47373630e-02 2.62332093e-02 1.75949872e-01\n",
            "  7.49677360e-01 9.15089667e-01 8.57509315e-01 2.75593966e-01\n",
            "  1.10615715e-02 1.90488959e-03 1.50680146e-03 1.75538717e-03\n",
            "  1.19345332e-03 3.93100141e-04 5.59404842e-04 3.80454090e-04\n",
            "  2.28728590e-04 2.94862955e-04 5.84769482e-03 4.67468724e-02\n",
            "  3.34883511e-01 4.12168086e-01 4.26197141e-01 3.90276700e-01\n",
            "  3.36890101e-01 1.70759588e-01 1.25062123e-01 7.80897737e-02\n",
            "  5.82018122e-02 1.86364457e-01 1.49644107e-01 6.03278756e-01\n",
            "  9.30795908e-01 9.52490091e-01 5.45620918e-01 3.59012038e-02\n",
            "  6.81248214e-03 1.47254288e-03 1.18156220e-03 1.29298132e-03\n",
            "  8.39592307e-04 9.12055257e-04 3.64583655e-04 1.96404624e-04\n",
            "  2.71452853e-04 1.76807182e-04 2.77427747e-03 7.99652115e-02\n",
            "  3.73001784e-01 3.93618077e-01 6.18131220e-01 5.12775302e-01\n",
            "  5.50697148e-01 3.58364910e-01 2.71674335e-01 2.01307982e-01\n",
            "  2.58809716e-01 3.79363418e-01 5.96938789e-01 8.33856642e-01\n",
            "  8.63022208e-01 6.45312846e-01 1.23851106e-01 1.09716989e-02\n",
            "  2.57356931e-03 1.32954982e-03 6.54671981e-04 1.32366724e-03\n",
            "  5.89247560e-04 7.50487787e-04 2.71793659e-04 1.45171449e-04\n",
            "  1.38874166e-04 1.72567612e-04 2.65953643e-03 4.68797497e-02\n",
            "  1.86081812e-01 4.86955583e-01 6.06317699e-01 7.13409305e-01\n",
            "  6.53093159e-01 5.68500757e-01 6.09819770e-01 6.00013673e-01\n",
            "  7.69021928e-01 7.31378555e-01 7.68770695e-01 8.04711640e-01\n",
            "  5.64917982e-01 2.00622410e-01 1.59434266e-02 5.38261933e-03\n",
            "  1.75656239e-03 8.42019101e-04 5.71916404e-04 7.62166863e-04\n",
            "  4.90225968e-04 8.22007132e-04 1.54249792e-04 2.40029229e-04\n",
            "  1.71159132e-04 1.83567405e-04 6.78797660e-04 1.26813212e-02\n",
            "  9.64204445e-02 3.06657583e-01 4.24376965e-01 6.99895740e-01\n",
            "  7.30037034e-01 6.25294983e-01 8.39464247e-01 8.27252805e-01\n",
            "  7.15596318e-01 7.29232848e-01 5.60635805e-01 3.91943693e-01\n",
            "  7.04014972e-02 3.61415483e-02 4.52581421e-03 4.13789833e-03\n",
            "  2.22532474e-03 7.32508604e-04 5.84029243e-04 6.00578205e-04\n",
            "  7.21421500e-04 2.81654386e-04 2.34402745e-04 2.26453369e-04\n",
            "  2.42869035e-04 2.24200587e-04 2.35047075e-04 1.36470562e-03\n",
            "  9.86983255e-03 7.34258667e-02 2.18991935e-01 1.90126196e-01\n",
            "  4.26620066e-01 5.40188253e-01 5.64864337e-01 5.57553887e-01\n",
            "  3.72928500e-01 4.12187755e-01 8.10283422e-02 2.33515576e-02\n",
            "  9.69081931e-03 4.21999628e-03 4.06540884e-03 3.58743733e-03\n",
            "  1.70003204e-03 6.26986031e-04 4.74756351e-04 4.30626038e-04\n",
            "  3.58334859e-04 1.44983584e-04 2.01956849e-04 1.92977343e-04\n",
            "  1.76370901e-04 1.79933268e-04 1.86966980e-04 3.35402729e-04\n",
            "  4.81333263e-04 2.35406938e-03 5.42479707e-03 1.34793995e-02\n",
            "  2.34865025e-02 1.48829464e-02 1.08910361e-02 3.89424758e-03\n",
            "  2.96014664e-03 2.87008029e-03 1.24107196e-03 2.11889925e-03\n",
            "  3.19915451e-03 1.17426016e-03 1.71394390e-03 1.26610918e-03\n",
            "  6.41277642e-04 2.50204903e-04 4.11337824e-04 2.57621228e-04\n",
            "  2.71495577e-04 1.12908223e-04 2.93904741e-04 1.26803527e-04\n",
            "  1.48802021e-04 2.09046470e-04 1.19420009e-04 1.75736044e-04\n",
            "  1.62118769e-04 6.20362000e-04 1.09095825e-03 7.49222236e-04\n",
            "  9.58469405e-04 7.86905293e-04 6.66544773e-04 6.37422374e-04\n",
            "  3.05756461e-04 2.22079019e-04 4.16599709e-04 1.01569330e-03\n",
            "  6.94162911e-04 3.29643837e-04 5.06319513e-04 4.43457189e-04\n",
            "  3.02106957e-04 2.41985865e-04 1.60047231e-04 1.99610906e-04\n",
            "  1.12188733e-04 1.56559021e-04 2.06966797e-04 1.62813085e-04\n",
            "  1.79933093e-04 2.45309377e-04 1.79933093e-04 2.26453369e-04\n",
            "  2.30891223e-04 2.39080895e-04 3.14825826e-04 5.61666966e-04\n",
            "  3.95726645e-04 7.25445629e-04 8.52046418e-04 5.37356304e-04\n",
            "  3.49086826e-04 3.66848457e-04 2.24747200e-04 3.57955840e-04\n",
            "  3.21511325e-04 4.22615412e-04 1.78374350e-04 1.43423211e-04\n",
            "  1.86827790e-04 1.74445173e-04 2.24218340e-04 2.83159752e-04\n",
            "  1.85411991e-04 2.00851122e-04 1.72879052e-04 1.94916269e-04]], shape=(1, 784), dtype=float32)\n"
          ]
        }
      ],
      "source": [
        "hh0_p = tf.nn.sigmoid(tf.matmul(sample_case, W) + hb)\n",
        "hh0_s = tf.round(hh0_p)\n",
        "\n",
        "print(\"Probability nodes in hidden layer:\" ,hh0_p)\n",
        "print(\"activated nodes in hidden layer:\" ,hh0_s)\n",
        "\n",
        "# reconstruct\n",
        "vv1_p = tf.nn.sigmoid(tf.matmul(hh0_s, tf.transpose(W)) + vb)\n",
        "\n",
        "print(vv1_p)\n",
        "#rec_prob = sess.run(vv1_p, feed_dict={ hh0_s: hh0_s_val, W: prv_w, vb: prv_vb})"
      ],
      "execution_count": 26
    },
    {
      "cell_type": "markdown",
      "metadata": {
        "id": "64898dd9-dfdb-49fe-b401-fd5af185ee8f"
      },
      "source": [
        "Here we plot the reconstructed image:\n"
      ]
    },
    {
      "cell_type": "code",
      "metadata": {
        "colab": {
          "base_uri": "https://localhost:8080/",
          "height": 368
        },
        "id": "15f7f2da-4b1e-4a94-8e06-16151cd4d521",
        "outputId": "deb9661c-e2bb-45d5-c30a-8765e6ab5f71"
      },
      "outputs": [
        {
          "output_type": "display_data",
          "data": {
            "text/plain": [
              "<Figure size 400x400 with 1 Axes>"
            ],
            "image/png": "[encoded data removed]"
          },
          "metadata": {}
        }
      ],
      "source": [
        "img = Image.fromarray(tile_raster_images(X=vv1_p.numpy(), img_shape=(28, 28),tile_shape=(1, 1), tile_spacing=(1, 1)))\n",
        "plt.rcParams['figure.figsize'] = (4.0, 4.0)\n",
        "imgplot = plt.imshow(img)\n",
        "imgplot.set_cmap('gray')"
      ],
      "execution_count": 27
    },
    {
      "cell_type": "markdown",
      "metadata": {
        "id": "6baba190-9036-4b55-9167-9887860bb69a"
      },
      "source": [
        "<hr>\n",
        "\n",
        "## Want to learn more?\n",
        "\n",
        "Also, you can use __Watson Studio__ to run these notebooks faster with bigger datasets.__Watson Studio__ is IBM’s leading cloud solution for data scientists, built by data scientists. With Jupyter notebooks, RStudio, Apache Spark and popular libraries pre-packaged in the cloud, __Watson Studio__ enables data scientists to collaborate on their projects without having to install anything. Join the fast-growing community of __Watson Studio__ users today with a free account at [Watson Studio](https://cocl.us/ML0120EN_DSX).This is the end of this lesson. Thank you for reading this notebook, and good luck on your studies.\n"
      ]
    },
    {
      "cell_type": "markdown",
      "metadata": {
        "id": "deec31a2-c2a8-4ae5-b359-cd2daa2f0954"
      },
      "source": [
        "### Thanks for completing this lesson!\n",
        "\n",
        "Notebook created by: <a href = \"https://ca.linkedin.com/in/saeedaghabozorgi\">Saeed Aghabozorgi</a>\n",
        "\n",
        "Updated to TF 2.X by  <a href=\"https://ca.linkedin.com/in/nilmeier?utm_medium=Exinfluencer&utm_source=Exinfluencer&utm_content=000026UJ&utm_term=10006555&utm_id=NA-SkillsNetwork-Channel-SkillsNetworkCoursesIBMDeveloperSkillsNetworkDL0120ENSkillsNetwork954-2023-01-01\"> Jerome Nilmeier</a><br />\n"
      ]
    },
    {
      "cell_type": "markdown",
      "metadata": {
        "id": "583db76c-5616-4506-ae3d-b9c73f0c77f1"
      },
      "source": [
        "### References:\n",
        "https://en.wikipedia.org/wiki/Restricted_Boltzmann_machine  \n",
        "http://deeplearning.net/tutorial/rbm.html  \n",
        "http://www.cs.utoronto.ca/~hinton/absps/netflixICML.pdf<br>\n",
        "http://imonad.com/rbm/restricted-boltzmann-machine/  \n"
      ]
    },
    {
      "cell_type": "markdown",
      "metadata": {
        "id": "5c1e7bfe-510b-491d-82b4-24005643d95c"
      },
      "source": [
        "<hr>\n",
        "\n",
        "Copyright &copy; 2018 [Cognitive Class](https://cocl.us/DX0108EN_CC). This notebook and its source code are released under the terms of the [MIT License](https://bigdatauniversity.com/mit-license/?utm_medium=Exinfluencer&utm_source=Exinfluencer&utm_content=000026UJ&utm_term=10006555&utm_id=NA-SkillsNetwork-Channel-SkillsNetworkCoursesIBMDeveloperSkillsNetworkDL0120ENSkillsNetwork954-2023-01-01).\n"
      ]
    }
  ],
  "metadata": {
    "kernelspec": {
      "display_name": "Python",
      "language": "python",
      "name": "conda-env-python-py"
    },
    "language_info": {
      "name": ""
    },
    "colab": {
      "provenance": []
    }
  },
  "nbformat": 4,
  "nbformat_minor": 0
}