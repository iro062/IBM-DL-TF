{
  "cells": [
    {
      "cell_type": "markdown",
      "metadata": {
        "id": "07b23050-15e9-436a-ac72-6d084e50277f"
      },
      "source": [
        "<img src=\"https://cf-courses-data.s3.us.cloud-object-storage.appdomain.cloud/IBMDeveloperSkillsNetwork-DL0120EN-SkillsNetwork/images/IDSN-logo.png\" width=\"300\" alt=\"cognitiveclass.ai logo\">\n",
        "\n",
        "<h1 align=\"center\"><font size=\"5\">AUTOENCODERS</font></h1>\n"
      ]
    },
    {
      "cell_type": "markdown",
      "metadata": {
        "id": "9a4000c6-1808-42e3-81fc-239a0794f763"
      },
      "source": [
        "Estimated time needed: **25** minutes\n"
      ]
    },
    {
      "cell_type": "markdown",
      "metadata": {
        "id": "19420d1e-e1de-41e8-8a26-5626525d2d5a"
      },
      "source": [
        "<div class=\"alert alert-block alert-info\" style=\"margin-top: 20px\">\n",
        "Welcome to this notebook about autoencoders.\n",
        "<font size=\"3\"><strong>In this notebook you will learn the definition of an autoencoder, how it works, and see an implementation in TensorFlow.</strong></font>\n",
        "<br>\n",
        "<br>\n",
        "<h2>Table of Contents</h2>\n",
        "<ol>\n",
        " <li><a href=\"#ref1\">Introduction</a></li>\n",
        " <li><a href=\"#ref2\">Feature Extraction and Dimensionality Reduction</a></li>\n",
        " <li><a href=\"#ref3\">Autoencoder Structure</a></li>\n",
        " <li><a href=\"#ref4\">Performance</a></li>\n",
        " <li><a href=\"#ref5\">Training: Loss Function</a></li>\n",
        " <li><a href=\"#ref6\">Code</a></li>\n",
        "</ol>\n",
        "</div>\n",
        "<br>\n",
        "By the end of this notebook, you should be able to create simple autoencoders apply them to problems in the field of unsupervised learning.\n",
        "<br>\n",
        "<p></p>\n",
        "<hr>\n"
      ]
    },
    {
      "cell_type": "markdown",
      "metadata": {
        "id": "870d1300-6be3-4edc-9f08-c487fe7943e5"
      },
      "source": [
        "<a id=\"ref1\"></a>\n",
        "\n",
        "<h2>Introduction</h2>\n",
        "An autoencoder, also known as autoassociator or Diabolo networks, is an artificial neural network employed to recreate the given input.\n",
        "It takes a set of <b>unlabeled</b> inputs, encodes them and then tries to extract the most valuable information from them.\n",
        "They are used for feature extraction, learning generative models of data, dimensionality reduction and can be used for compression.\n",
        "\n",
        "A 2006 paper named <b><a href=\"https://www.cs.toronto.edu/~hinton/science.pdf?utm_medium=Exinfluencer&utm_source=Exinfluencer&utm_content=000026UJ&utm_term=10006555&utm_id=NA-SkillsNetwork-Channel-SkillsNetworkCoursesIBMDeveloperSkillsNetworkDL0120ENSkillsNetwork954-2023-01-01\">Reducing the Dimensionality of Data with Neural Networks</a>, done by G. E. Hinton and R. R. Salakhutdinov</b>, showed better results than years of refining other types of network, and was a breakthrough in the field of Neural Networks, a field that was \"stagnant\" for 10 years.\n",
        "\n",
        "Now, autoencoders, based on Restricted Boltzmann Machines, are employed in some of the largest deep learning applications. They are the building blocks of Deep Belief Networks (DBN).\n",
        "\n",
        "<center><img src=\"https://ibm.box.com/shared/static/xlkv9v7xzxhjww681dq3h1pydxcm4ktp.png\" style=\"width: 350px;\"></center>\n"
      ]
    },
    {
      "cell_type": "markdown",
      "metadata": {
        "id": "d8bb8404-04cb-47e8-b184-b394cc4005df"
      },
      "source": [
        "<hr>\n"
      ]
    },
    {
      "cell_type": "markdown",
      "metadata": {
        "id": "c7f81b4c-2cd7-462c-9c5c-70bad059674e"
      },
      "source": [
        "<a id=\"ref2\"></a>\n",
        "\n",
        "<h2>Feature Extraction and Dimensionality Reduction</h2>\n",
        "\n",
        "An example given by Nikhil Buduma in KdNuggets (<a href=\"http://www.kdnuggets.com/2015/03/deep-learning-curse-dimensionality-autoencoders.html?utm_medium=Exinfluencer&utm_source=Exinfluencer&utm_content=000026UJ&utm_term=10006555&utm_id=NA-SkillsNetwork-Channel-SkillsNetworkCoursesIBMDeveloperSkillsNetworkDL0120ENSkillsNetwork954-2023-01-01\">link</a>) gives an excellent explanation of the utility of this type of Neural Network.\n",
        "\n",
        "Say that you want to extract the emotion that a person in a photograph is feeling. Take the following 256x256 pixel grayscale picture as an example:\n",
        "\n",
        "<img src=\"https://ibm.box.com/shared/static/r5knpow4bk2farlvxia71e9jp2f2u126.png\">\n",
        "\n",
        "If we just use the raw image, we have too many dimensions to analyze.  This image is 256x256 pixels, which corresponds to an input vector of 65536 dimensions! Conventional cell phones can produce images in the  4000 x 3000 pixels range, which gives us 12 million dimensions to analyze.\n",
        "\n",
        "This is particularly problematic, since the difficulty of a machine learning problem is vastly increased as more dimensions are involved. According to a 1982 study by C.J. Stone (<a href=\"http://www-personal.umich.edu/~jizhu/jizhu/wuke/Stone-AoS82.pdf?utm_medium=Exinfluencer&utm_source=Exinfluencer&utm_content=000026UJ&utm_term=10006555&utm_id=NA-SkillsNetwork-Channel-SkillsNetworkCoursesIBMDeveloperSkillsNetworkDL0120ENSkillsNetwork954-2023-01-01\">link</a>), the time to fit a model, is optimal if:\n",
        "\n",
        "<br><br>\n",
        "\n",
        "<div class=\"alert alert-block alert-info\" style=\"margin-top: 20px\">\n",
        "<h3><strong>$$m^{-p/(2p+d)}$$</strong></h3>\n",
        "<br>\n",
        "Where:\n",
        "<br>\n",
        "m: Number of data points\n",
        "<br>\n",
        "d: Dimensionality of the data\n",
        "<br>\n",
        "p: Number of Parameters in the model\n",
        "</div>\n",
        "\n",
        "As you can see, it increases exponentially!\n",
        "\n",
        "Returning to our example, we don't need to use all of the 65,536 dimensions to classify an emotion.\n",
        "A human identifies emotions according to specific facial expressions, and some <b>key features</b>, like the shape of the mouth and eyebrows.\n",
        "\n",
        "<center><img src=\"https://ibm.box.com/shared/static/m8urvuqujkt2vt1ru1fnslzh24pv7hn4.png\" height=\"256\" width=\"256\"></center>\n"
      ]
    },
    {
      "cell_type": "markdown",
      "metadata": {
        "id": "7a0524fb-e49f-49de-86cd-fafdaa33b713"
      },
      "source": [
        "<hr>\n"
      ]
    },
    {
      "cell_type": "markdown",
      "metadata": {
        "id": "20536262-3a97-46ac-8327-74268e2b6ea9"
      },
      "source": [
        "<a id=\"ref3\"></a>\n",
        "\n",
        "<h2>Autoencoder Structure</h2>\n",
        "\n",
        "<img src=\"https://ibm.box.com/shared/static/no7omt2jhqvv7uuls7ihnzikyl9ysnfp.png\" style=\"width: 400px;\">\n",
        "\n",
        "An autoencoder can be divided in two parts, the <b>encoder</b> and the <b>decoder</b>.\n",
        "\n",
        "The encoder needs to compress the representation of an input. In this case, we are going to reduce the dimensions of the image of the example face from 2000 dimensions to only 30 dimensions.  We will acomplish this by running the data through the layers of our encoder.\n",
        "\n",
        "The decoder works like encoder network in reverse. It works to recreate the input as closely as possible.  The training procedure produces at the center of the network a compressed, low dimensional representation that can be decoded to obtain the higher dimensional representation with minimal loss of information between the input and the output.\n"
      ]
    },
    {
      "cell_type": "markdown",
      "metadata": {
        "id": "d2333589-2ab6-4c64-8447-d75724fc1486"
      },
      "source": [
        "<hr>\n"
      ]
    },
    {
      "cell_type": "markdown",
      "metadata": {
        "id": "181f4c39-a86b-48bb-8662-1019ab59e7dd"
      },
      "source": [
        "<a id=\"ref4\"></a>\n",
        "\n",
        "<h2>Performance</h2>\n",
        "\n",
        "After training has been completed, you can use the encoded data as a reliable low dimensional representation of the data.  This can be applied to many problems where dimensionality reduction seems appropriate.\n",
        "\n",
        "<img src=\"https://ibm.box.com/shared/static/yt3xyon4g2jyw1w9qup1mvx7cgh28l64.png\">\n",
        "\n",
        "This image was extracted from the G. E. Hinton and R. R. Salakhutdinovcomparing's <a href=\"https://www.cs.toronto.edu/~hinton/science.pdf?utm_medium=Exinfluencer&utm_source=Exinfluencer&utm_content=000026UJ&utm_term=10006555&utm_id=NA-SkillsNetwork-Channel-SkillsNetworkCoursesIBMDeveloperSkillsNetworkDL0120ENSkillsNetwork954-2023-01-01\">paper</a>, on the two-dimensional reduction for 500 digits of the MNIST, with PCA (Principal Component Analysis) on the left and autoencoder on the right. We can see that the autoencoder provided us with a better separation of data.\n"
      ]
    },
    {
      "cell_type": "markdown",
      "metadata": {
        "id": "8f53075a-f597-40c4-920c-a7f6ac89211f"
      },
      "source": [
        "<hr>\n"
      ]
    },
    {
      "cell_type": "markdown",
      "metadata": {
        "id": "0bad9681-b768-46fb-b111-7259b131f29a"
      },
      "source": [
        "<a id=\"ref5\"></a>\n",
        "\n",
        "<h2>Training: Loss function</h2>\n",
        "\n",
        "An autoencoder uses the <b>Loss</b> function to properly train the network. The Loss function will calculate the differences between our output and the expected results. After that, we can minimize this error with gradient descent. There are many types of Loss functions, and it is important to consider the type of problem (classification, regression, etc.) when choosing this funtion.\n"
      ]
    },
    {
      "cell_type": "markdown",
      "metadata": {
        "id": "70cdcf38-667f-4de5-930b-46af8cb0d160"
      },
      "source": [
        "<h3>Binary Values:</h3>\n",
        "$$L(W) = - \\sum_{k} (x_k log(\\hat{x}_k) + (1 - x_k) \\log (1 - \\hat{x}_k) \\ )$$\n"
      ]
    },
    {
      "cell_type": "markdown",
      "metadata": {
        "id": "56f8fb68-f55b-46f7-bcdb-21ed5bc932e9"
      },
      "source": [
        "For binary values, we can use an equation based on the sum of Bernoulli's cross-entropy.  This loss function is best for binary classification problems.\n",
        "\n",
        "$x_k$ is one of our inputs and $\\hat{x}_k$ is the respective output.  Note that:\n",
        "\n",
        "$$\\hat{x} = f(x,W)$$\n",
        "\n",
        "where $W$ is the full parameter set of the neural network.\n",
        "\n",
        "We use this function so that when $x_k=1$, we want the calculated value of $\\hat{x}_k$ to be very close to one, and likewise if $x_k=0$.\n",
        "\n",
        "If the value is one, we just need to calculate the first part of the formula, that is, $-x_k log(\\hat{x}_k)$. Which, turns out to just calculate $- log(\\hat{x}_k)$.  We explicitly exclude the second term to avoid numerical difficulties when computing the logarithm of very small numbers.\n",
        "\n",
        "Likewise, if the value is zero, we need to calculate just the second part, $(1 - x_k) \\log (1 - \\hat{x}_k))$ - which turns out to be $log (1 - \\hat{x}_k) $.\n"
      ]
    },
    {
      "cell_type": "markdown",
      "metadata": {
        "id": "be9a0496-f2f2-4879-92c1-33cb4814650f"
      },
      "source": [
        "<h3>Real values:</h3>\n",
        "$$L(W) = - \\frac{1}{2}\\sum_{k} (\\hat{x}_k- x_k \\ )^2$$\n"
      ]
    },
    {
      "cell_type": "markdown",
      "metadata": {
        "id": "129afe3d-3ad2-442b-ab07-b82ace7fa7c4"
      },
      "source": [
        "For data where the value (not category) is important to reproduce, we can use the sum of squared errors (SSE) for our Loss function. This function is usually used in regressions.\n",
        "\n",
        "As it was with the above example, $x_k$ is one of our inputs and $\\hat{x}_k$ is the respective output, and we want to make our output as similar as possible to our input.\n"
      ]
    },
    {
      "cell_type": "markdown",
      "metadata": {
        "id": "d365a246-1557-4cb8-9888-15348a777ca7"
      },
      "source": [
        "<h3>Computing Gradient</h3>\n",
        "\n",
        "The gradient of the loss function is an important and complex function.  It is defined as:\n",
        "    $$\\nabla_{W} L(W)_j = \\frac{\\partial f(x,W)}{\\partial{W_j}}$$\n",
        "\n",
        "Fortunately for us, TensorFlow computes these complex functions automatically when we define our functions that are used to compute loss!  They automatically manage the backpropagation algorithm, which is an efficient way of computing the gradients in complex neural networks.\n"
      ]
    },
    {
      "cell_type": "markdown",
      "metadata": {
        "id": "bfd55132-884e-4593-a812-ac5699036aa8"
      },
      "source": [
        "<hr>\n"
      ]
    },
    {
      "cell_type": "markdown",
      "metadata": {
        "id": "d909a336-0ba2-48c1-b854-997077f265b7"
      },
      "source": [
        "<a id=\"ref6\"></a>\n",
        "\n",
        "<h2>Code</h2>\n",
        "\n",
        " We are going to use the MNIST dataset for our example.\n",
        "The following code was created by Aymeric Damien. You can find some of his code in <a href=\"https://github.com/aymericdamien\">here</a>. We made some modifications which allow us to import the datasets to Jupyter Notebooks.\n"
      ]
    },
    {
      "cell_type": "markdown",
      "metadata": {
        "id": "d8a7d84d-3ed3-44ad-991d-64fb72de5274"
      },
      "source": [
        "Let's call our imports and make the MNIST data available to use.\n"
      ]
    },
    {
      "cell_type": "code",
      "metadata": {
        "colab": {
          "base_uri": "https://localhost:8080/",
          "height": 1000
        },
        "id": "7cc4dc40-a8ca-4a78-8b61-a06cadd21e95",
        "outputId": "d41f8726-bd46-460f-f577-66c08b58dea6"
      },
      "outputs": [
        {
          "output_type": "stream",
          "name": "stdout",
          "text": [
            "Collecting tensorflow==2.9.0\n",
            "  Downloading tensorflow-2.9.0-cp310-cp310-manylinux_2_17_x86_64.manylinux2014_x86_64.whl (511.7 MB)\n",
            "\u001b[2K     \u001b[90m━━━━━━━━━━━━━━━━━━━━━━━━━━━━━━━━━━━━━━━\u001b[0m \u001b[32m511.7/511.7 MB\u001b[0m \u001b[31m2.7 MB/s\u001b[0m eta \u001b[36m0:00:00\u001b[0m\n",
            "\u001b[?25hRequirement already satisfied: absl-py>=1.0.0 in /usr/local/lib/python3.10/dist-packages (from tensorflow==2.9.0) (1.4.0)\n",
            "Requirement already satisfied: astunparse>=1.6.0 in /usr/local/lib/python3.10/dist-packages (from tensorflow==2.9.0) (1.6.3)\n",
            "Collecting flatbuffers<2,>=1.12 (from tensorflow==2.9.0)\n",
            "  Downloading flatbuffers-1.12-py2.py3-none-any.whl (15 kB)\n",
            "Requirement already satisfied: gast<=0.4.0,>=0.2.1 in /usr/local/lib/python3.10/dist-packages (from tensorflow==2.9.0) (0.4.0)\n",
            "Requirement already satisfied: google-pasta>=0.1.1 in /usr/local/lib/python3.10/dist-packages (from tensorflow==2.9.0) (0.2.0)\n",
            "Requirement already satisfied: grpcio<2.0,>=1.24.3 in /usr/local/lib/python3.10/dist-packages (from tensorflow==2.9.0) (1.57.0)\n",
            "Requirement already satisfied: h5py>=2.9.0 in /usr/local/lib/python3.10/dist-packages (from tensorflow==2.9.0) (3.9.0)\n",
            "Collecting keras<2.10.0,>=2.9.0rc0 (from tensorflow==2.9.0)\n",
            "  Downloading keras-2.9.0-py2.py3-none-any.whl (1.6 MB)\n",
            "\u001b[2K     \u001b[90m━━━━━━━━━━━━━━━━━━━━━━━━━━━━━━━━━━━━━━━━\u001b[0m \u001b[32m1.6/1.6 MB\u001b[0m \u001b[31m87.7 MB/s\u001b[0m eta \u001b[36m0:00:00\u001b[0m\n",
            "\u001b[?25hCollecting keras-preprocessing>=1.1.1 (from tensorflow==2.9.0)\n",
            "  Downloading Keras_Preprocessing-1.1.2-py2.py3-none-any.whl (42 kB)\n",
            "\u001b[2K     \u001b[90m━━━━━━━━━━━━━━━━━━━━━━━━━━━━━━━━━━━━━━━━\u001b[0m \u001b[32m42.6/42.6 kB\u001b[0m \u001b[31m4.8 MB/s\u001b[0m eta \u001b[36m0:00:00\u001b[0m\n",
            "\u001b[?25hRequirement already satisfied: libclang>=13.0.0 in /usr/local/lib/python3.10/dist-packages (from tensorflow==2.9.0) (16.0.6)\n",
            "Requirement already satisfied: numpy>=1.20 in /usr/local/lib/python3.10/dist-packages (from tensorflow==2.9.0) (1.23.5)\n",
            "Requirement already satisfied: opt-einsum>=2.3.2 in /usr/local/lib/python3.10/dist-packages (from tensorflow==2.9.0) (3.3.0)\n",
            "Requirement already satisfied: packaging in /usr/local/lib/python3.10/dist-packages (from tensorflow==2.9.0) (23.1)\n",
            "Requirement already satisfied: protobuf>=3.9.2 in /usr/local/lib/python3.10/dist-packages (from tensorflow==2.9.0) (3.20.3)\n",
            "Requirement already satisfied: setuptools in /usr/local/lib/python3.10/dist-packages (from tensorflow==2.9.0) (67.7.2)\n",
            "Requirement already satisfied: six>=1.12.0 in /usr/local/lib/python3.10/dist-packages (from tensorflow==2.9.0) (1.16.0)\n",
            "Collecting tensorboard<2.10,>=2.9 (from tensorflow==2.9.0)\n",
            "  Downloading tensorboard-2.9.1-py3-none-any.whl (5.8 MB)\n",
            "\u001b[2K     \u001b[90m━━━━━━━━━━━━━━━━━━━━━━━━━━━━━━━━━━━━━━━━\u001b[0m \u001b[32m5.8/5.8 MB\u001b[0m \u001b[31m99.0 MB/s\u001b[0m eta \u001b[36m0:00:00\u001b[0m\n",
            "\u001b[?25hRequirement already satisfied: tensorflow-io-gcs-filesystem>=0.23.1 in /usr/local/lib/python3.10/dist-packages (from tensorflow==2.9.0) (0.33.0)\n",
            "Collecting tensorflow-estimator<2.10.0,>=2.9.0rc0 (from tensorflow==2.9.0)\n",
            "  Downloading tensorflow_estimator-2.9.0-py2.py3-none-any.whl (438 kB)\n",
            "\u001b[2K     \u001b[90m━━━━━━━━━━━━━━━━━━━━━━━━━━━━━━━━━━━━━━\u001b[0m \u001b[32m438.7/438.7 kB\u001b[0m \u001b[31m40.0 MB/s\u001b[0m eta \u001b[36m0:00:00\u001b[0m\n",
            "\u001b[?25hRequirement already satisfied: termcolor>=1.1.0 in /usr/local/lib/python3.10/dist-packages (from tensorflow==2.9.0) (2.3.0)\n",
            "Requirement already satisfied: typing-extensions>=3.6.6 in /usr/local/lib/python3.10/dist-packages (from tensorflow==2.9.0) (4.5.0)\n",
            "Requirement already satisfied: wrapt>=1.11.0 in /usr/local/lib/python3.10/dist-packages (from tensorflow==2.9.0) (1.15.0)\n",
            "Requirement already satisfied: wheel<1.0,>=0.23.0 in /usr/local/lib/python3.10/dist-packages (from astunparse>=1.6.0->tensorflow==2.9.0) (0.41.2)\n",
            "Requirement already satisfied: google-auth<3,>=1.6.3 in /usr/local/lib/python3.10/dist-packages (from tensorboard<2.10,>=2.9->tensorflow==2.9.0) (2.17.3)\n",
            "Collecting google-auth-oauthlib<0.5,>=0.4.1 (from tensorboard<2.10,>=2.9->tensorflow==2.9.0)\n",
            "  Downloading google_auth_oauthlib-0.4.6-py2.py3-none-any.whl (18 kB)\n",
            "Requirement already satisfied: markdown>=2.6.8 in /usr/local/lib/python3.10/dist-packages (from tensorboard<2.10,>=2.9->tensorflow==2.9.0) (3.4.4)\n",
            "Collecting protobuf>=3.9.2 (from tensorflow==2.9.0)\n",
            "  Downloading protobuf-3.19.6-cp310-cp310-manylinux_2_17_x86_64.manylinux2014_x86_64.whl (1.1 MB)\n",
            "\u001b[2K     \u001b[90m━━━━━━━━━━━━━━━━━━━━━━━━━━━━━━━━━━━━━━━━\u001b[0m \u001b[32m1.1/1.1 MB\u001b[0m \u001b[31m69.3 MB/s\u001b[0m eta \u001b[36m0:00:00\u001b[0m\n",
            "\u001b[?25hRequirement already satisfied: requests<3,>=2.21.0 in /usr/local/lib/python3.10/dist-packages (from tensorboard<2.10,>=2.9->tensorflow==2.9.0) (2.31.0)\n",
            "Collecting tensorboard-data-server<0.7.0,>=0.6.0 (from tensorboard<2.10,>=2.9->tensorflow==2.9.0)\n",
            "  Downloading tensorboard_data_server-0.6.1-py3-none-manylinux2010_x86_64.whl (4.9 MB)\n",
            "\u001b[2K     \u001b[90m━━━━━━━━━━━━━━━━━━━━━━━━━━━━━━━━━━━━━━━━\u001b[0m \u001b[32m4.9/4.9 MB\u001b[0m \u001b[31m114.4 MB/s\u001b[0m eta \u001b[36m0:00:00\u001b[0m\n",
            "\u001b[?25hCollecting tensorboard-plugin-wit>=1.6.0 (from tensorboard<2.10,>=2.9->tensorflow==2.9.0)\n",
            "  Downloading tensorboard_plugin_wit-1.8.1-py3-none-any.whl (781 kB)\n",
            "\u001b[2K     \u001b[90m━━━━━━━━━━━━━━━━━━━━━━━━━━━━━━━━━━━━━━\u001b[0m \u001b[32m781.3/781.3 kB\u001b[0m \u001b[31m64.2 MB/s\u001b[0m eta \u001b[36m0:00:00\u001b[0m\n",
            "\u001b[?25hRequirement already satisfied: werkzeug>=1.0.1 in /usr/local/lib/python3.10/dist-packages (from tensorboard<2.10,>=2.9->tensorflow==2.9.0) (2.3.7)\n",
            "Requirement already satisfied: cachetools<6.0,>=2.0.0 in /usr/local/lib/python3.10/dist-packages (from google-auth<3,>=1.6.3->tensorboard<2.10,>=2.9->tensorflow==2.9.0) (5.3.1)\n",
            "Requirement already satisfied: pyasn1-modules>=0.2.1 in /usr/local/lib/python3.10/dist-packages (from google-auth<3,>=1.6.3->tensorboard<2.10,>=2.9->tensorflow==2.9.0) (0.3.0)\n",
            "Requirement already satisfied: rsa<5,>=3.1.4 in /usr/local/lib/python3.10/dist-packages (from google-auth<3,>=1.6.3->tensorboard<2.10,>=2.9->tensorflow==2.9.0) (4.9)\n",
            "Requirement already satisfied: requests-oauthlib>=0.7.0 in /usr/local/lib/python3.10/dist-packages (from google-auth-oauthlib<0.5,>=0.4.1->tensorboard<2.10,>=2.9->tensorflow==2.9.0) (1.3.1)\n",
            "Requirement already satisfied: charset-normalizer<4,>=2 in /usr/local/lib/python3.10/dist-packages (from requests<3,>=2.21.0->tensorboard<2.10,>=2.9->tensorflow==2.9.0) (3.2.0)\n",
            "Requirement already satisfied: idna<4,>=2.5 in /usr/local/lib/python3.10/dist-packages (from requests<3,>=2.21.0->tensorboard<2.10,>=2.9->tensorflow==2.9.0) (3.4)\n",
            "Requirement already satisfied: urllib3<3,>=1.21.1 in /usr/local/lib/python3.10/dist-packages (from requests<3,>=2.21.0->tensorboard<2.10,>=2.9->tensorflow==2.9.0) (2.0.4)\n",
            "Requirement already satisfied: certifi>=2017.4.17 in /usr/local/lib/python3.10/dist-packages (from requests<3,>=2.21.0->tensorboard<2.10,>=2.9->tensorflow==2.9.0) (2023.7.22)\n",
            "Requirement already satisfied: MarkupSafe>=2.1.1 in /usr/local/lib/python3.10/dist-packages (from werkzeug>=1.0.1->tensorboard<2.10,>=2.9->tensorflow==2.9.0) (2.1.3)\n",
            "Requirement already satisfied: pyasn1<0.6.0,>=0.4.6 in /usr/local/lib/python3.10/dist-packages (from pyasn1-modules>=0.2.1->google-auth<3,>=1.6.3->tensorboard<2.10,>=2.9->tensorflow==2.9.0) (0.5.0)\n",
            "Requirement already satisfied: oauthlib>=3.0.0 in /usr/local/lib/python3.10/dist-packages (from requests-oauthlib>=0.7.0->google-auth-oauthlib<0.5,>=0.4.1->tensorboard<2.10,>=2.9->tensorflow==2.9.0) (3.2.2)\n",
            "Installing collected packages: tensorboard-plugin-wit, keras, flatbuffers, tensorflow-estimator, tensorboard-data-server, protobuf, keras-preprocessing, google-auth-oauthlib, tensorboard, tensorflow\n",
            "  Attempting uninstall: keras\n",
            "    Found existing installation: keras 2.13.1\n",
            "    Uninstalling keras-2.13.1:\n",
            "      Successfully uninstalled keras-2.13.1\n",
            "  Attempting uninstall: flatbuffers\n",
            "    Found existing installation: flatbuffers 23.5.26\n",
            "    Uninstalling flatbuffers-23.5.26:\n",
            "      Successfully uninstalled flatbuffers-23.5.26\n",
            "  Attempting uninstall: tensorflow-estimator\n",
            "    Found existing installation: tensorflow-estimator 2.13.0\n",
            "    Uninstalling tensorflow-estimator-2.13.0:\n",
            "      Successfully uninstalled tensorflow-estimator-2.13.0\n",
            "  Attempting uninstall: tensorboard-data-server\n",
            "    Found existing installation: tensorboard-data-server 0.7.1\n",
            "    Uninstalling tensorboard-data-server-0.7.1:\n",
            "      Successfully uninstalled tensorboard-data-server-0.7.1\n",
            "  Attempting uninstall: protobuf\n",
            "    Found existing installation: protobuf 3.20.3\n",
            "    Uninstalling protobuf-3.20.3:\n",
            "      Successfully uninstalled protobuf-3.20.3\n",
            "  Attempting uninstall: google-auth-oauthlib\n",
            "    Found existing installation: google-auth-oauthlib 1.0.0\n",
            "    Uninstalling google-auth-oauthlib-1.0.0:\n",
            "      Successfully uninstalled google-auth-oauthlib-1.0.0\n",
            "  Attempting uninstall: tensorboard\n",
            "    Found existing installation: tensorboard 2.13.0\n",
            "    Uninstalling tensorboard-2.13.0:\n",
            "      Successfully uninstalled tensorboard-2.13.0\n",
            "  Attempting uninstall: tensorflow\n",
            "    Found existing installation: tensorflow 2.13.0\n",
            "    Uninstalling tensorflow-2.13.0:\n",
            "      Successfully uninstalled tensorflow-2.13.0\n",
            "\u001b[31mERROR: pip's dependency resolver does not currently take into account all the packages that are installed. This behaviour is the source of the following dependency conflicts.\n",
            "tensorflow-datasets 4.9.2 requires protobuf>=3.20, but you have protobuf 3.19.6 which is incompatible.\n",
            "tensorflow-metadata 1.14.0 requires protobuf<4.21,>=3.20.3, but you have protobuf 3.19.6 which is incompatible.\u001b[0m\u001b[31m\n",
            "\u001b[0mSuccessfully installed flatbuffers-1.12 google-auth-oauthlib-0.4.6 keras-2.9.0 keras-preprocessing-1.1.2 protobuf-3.19.6 tensorboard-2.9.1 tensorboard-data-server-0.6.1 tensorboard-plugin-wit-1.8.1 tensorflow-2.9.0 tensorflow-estimator-2.9.0\n"
          ]
        },
        {
          "output_type": "display_data",
          "data": {
            "application/vnd.colab-display-data+json": {
              "pip_warning": {
                "packages": [
                  "google"
                ]
              }
            }
          },
          "metadata": {}
        }
      ],
      "source": [
        "!pip install tensorflow==2.9.0"
      ],
      "execution_count": 1
    },
    {
      "cell_type": "code",
      "metadata": {
        "id": "502c13a8-a096-41f2-918c-60ac082f515c"
      },
      "outputs": [],
      "source": [
        "#from __future__ import division, print_function, absolute_import\n",
        "\n",
        "import tensorflow as tf\n",
        "import numpy as np\n",
        "import matplotlib.pyplot as plt\n",
        "%matplotlib inline\n",
        "\n",
        "if not tf.__version__ == '2.9.0':\n",
        "    print(tf.__version__)\n",
        "    raise ValueError('please upgrade to TensorFlow 2.9.0, or restart your Kernel (Kernel->Restart & Clear Output)')\n",
        "\n"
      ],
      "execution_count": 2
    },
    {
      "cell_type": "code",
      "metadata": {
        "colab": {
          "base_uri": "https://localhost:8080/"
        },
        "id": "2953f8ec-6297-4234-a7c9-bb63db2f0057",
        "outputId": "92df5538-7637-41fa-96fc-06f3b8f00941"
      },
      "outputs": [
        {
          "output_type": "stream",
          "name": "stdout",
          "text": [
            "Downloading data from https://storage.googleapis.com/tensorflow/tf-keras-datasets/mnist.npz\n",
            "11490434/11490434 [==============================] - 0s 0us/step\n"
          ]
        }
      ],
      "source": [
        "# Import MINST data\n",
        "mnist = tf.keras.datasets.mnist\n",
        "(x_train, y_train), (x_test, y_test) = mnist.load_data()"
      ],
      "execution_count": 3
    },
    {
      "cell_type": "code",
      "metadata": {
        "id": "f0a32a38-e9c4-451b-bc75-5e8d4e9ee187"
      },
      "outputs": [],
      "source": [
        "x_train = x_train.astype('float32') / 255.\n",
        "x_test = x_test.astype('float32') / 255."
      ],
      "execution_count": 4
    },
    {
      "cell_type": "code",
      "metadata": {
        "id": "c5a6fbd9-57e2-470e-a9a7-f0f2c62ef904"
      },
      "outputs": [],
      "source": [
        "y_train = y_train.astype('float32') / 255.\n",
        "y_test = y_test.astype('float32') / 255."
      ],
      "execution_count": 5
    },
    {
      "cell_type": "code",
      "metadata": {
        "id": "64e9ec0f-a688-420b-9082-90a28a72038a"
      },
      "outputs": [],
      "source": [
        "x_image_train = tf.reshape(x_train, [-1,28,28,1])\n",
        "x_image_train = tf.cast(x_image_train, 'float32')\n",
        "\n",
        "x_image_test = tf.reshape(x_test, [-1,28,28,1])\n",
        "x_image_test = tf.cast(x_image_test, 'float32')"
      ],
      "execution_count": 6
    },
    {
      "cell_type": "markdown",
      "metadata": {
        "id": "8729311e-c943-4670-bb98-c3f26b369a3f"
      },
      "source": [
        "We use the tf.keras.layers.Flatten() function to prepare the training data to be compatible with the encoding and decoding layer\n"
      ]
    },
    {
      "cell_type": "code",
      "metadata": {
        "colab": {
          "base_uri": "https://localhost:8080/"
        },
        "id": "3fec3f61-077d-4a54-86d6-ef58395de82c",
        "outputId": "b5e7e255-d2f7-420e-fb47-16cdb08ab0b8"
      },
      "outputs": [
        {
          "output_type": "stream",
          "name": "stdout",
          "text": [
            "(60000, 28, 28)\n"
          ]
        }
      ],
      "source": [
        "print(x_train.shape)"
      ],
      "execution_count": 7
    },
    {
      "cell_type": "code",
      "metadata": {
        "id": "b338fe11-3fce-4ae3-b5a6-2a64a2dea92a"
      },
      "outputs": [],
      "source": [
        "flatten_layer = tf.keras.layers.Flatten()\n",
        "x_train = flatten_layer(x_train)"
      ],
      "execution_count": 8
    },
    {
      "cell_type": "markdown",
      "metadata": {
        "id": "03db2dbf-3373-41d3-94c7-c01756e1d345"
      },
      "source": [
        "Notice how the <code>x_train.shape</code>  changes from (60000,28,28) to (60000, 784)\n"
      ]
    },
    {
      "cell_type": "code",
      "metadata": {
        "colab": {
          "base_uri": "https://localhost:8080/"
        },
        "id": "80bc8533-71de-4296-aa06-fb26690a1ae2",
        "outputId": "db9ef768-d014-4a51-b4f0-c79922331d1b"
      },
      "outputs": [
        {
          "output_type": "stream",
          "name": "stdout",
          "text": [
            "(60000, 784)\n"
          ]
        }
      ],
      "source": [
        "print(x_train.shape)"
      ],
      "execution_count": 9
    },
    {
      "cell_type": "markdown",
      "metadata": {
        "id": "889e25cf-6db5-4829-a391-94198024ec75"
      },
      "source": [
        "Now, let's give the parameters that are going to be used by our NN.\n"
      ]
    },
    {
      "cell_type": "code",
      "metadata": {
        "id": "6ad76cce-c8ee-4f01-bffc-8171192f291a"
      },
      "outputs": [],
      "source": [
        "learning_rate = 0.01\n",
        "training_epochs = 20\n",
        "batch_size = 256\n",
        "display_step = 1\n",
        "examples_to_show = 10\n",
        "global_step = tf.Variable(0)\n",
        "total_batch = int(len(x_train) / batch_size)\n",
        "\n",
        "# Network Parameters\n",
        "n_hidden_1 = 256 # 1st layer num features\n",
        "n_hidden_2 = 128 # 2nd layer num features\n",
        "encoding_layer = 32 # final encoding bottleneck features\n",
        "n_input = 784 # MNIST data input (img shape: 28*28)\n",
        "\n"
      ],
      "execution_count": 10
    },
    {
      "cell_type": "markdown",
      "metadata": {
        "id": "a7b35cce-15a0-4577-bfa7-a63766c0e5d3"
      },
      "source": [
        "<h3> encoder </h3>\n",
        "Now we need to create our encoder. For this, we are going to use tf.keras.layers.Dense with sigmoidal activation functions. Sigmoidal functions delivers great results with this type of network. This is due to having a good derivative that is well-suited to backpropagation. We can create our encoder using the sigmoidal function like this:\n"
      ]
    },
    {
      "cell_type": "code",
      "metadata": {
        "id": "4afb9a1e-b96c-48d9-89bb-8f3389d427a3"
      },
      "outputs": [],
      "source": [
        "\n",
        "enocoding_1 = tf.keras.layers.Dense(n_hidden_1, activation=tf.nn.sigmoid)\n",
        "encoding_2 = tf.keras.layers.Dense(n_hidden_2, activation=tf.nn.sigmoid)\n",
        "encoding_final = tf.keras.layers.Dense(encoding_layer, activation=tf.nn.relu)\n",
        "\n",
        "# Building the encoder\n",
        "def encoder(x):\n",
        "    x_reshaped = flatten_layer(x)\n",
        "    # Encoder first layer with sigmoid activation #1\n",
        "    layer_1 = enocoding_1(x_reshaped)\n",
        "    # Encoder second layer with sigmoid activation #2\n",
        "    layer_2 = encoding_2(layer_1)\n",
        "    code = encoding_final(layer_2)\n",
        "    return code"
      ],
      "execution_count": 11
    },
    {
      "cell_type": "markdown",
      "metadata": {
        "id": "c7e4d117-f606-4ec4-a7a0-78021a07fb08"
      },
      "source": [
        "<h3> decoder </h3>\n",
        "\n",
        "You can see that the layer_1 in the encoder is the layer_2 in the decoder and vice-versa.\n"
      ]
    },
    {
      "cell_type": "code",
      "metadata": {
        "id": "da6d1ff7-3dd7-4d29-a8a8-6aa8b862bb0b"
      },
      "outputs": [],
      "source": [
        "decoding_1 = tf.keras.layers.Dense(n_hidden_2, activation=tf.nn.sigmoid)\n",
        "decoding_2 = tf.keras.layers.Dense(n_hidden_1, activation=tf.nn.sigmoid)\n",
        "decoding_final = tf.keras.layers.Dense(n_input)\n",
        "# Building the decoder\n",
        "def decoder(x):\n",
        "    # Decoder first layer with sigmoid activation #1\n",
        "    layer_1 = decoding_1(x)\n",
        "    # Decoder second layer with sigmoid activation #2\n",
        "    layer_2 = decoding_2(layer_1)\n",
        "    decode = self.decoding_final(layer_2)\n",
        "    return decode"
      ],
      "execution_count": 12
    },
    {
      "cell_type": "markdown",
      "metadata": {
        "id": "aa4410df-a158-4b77-9252-6f7b4283bfff"
      },
      "source": [
        "Let's construct our model.\n",
        "We  define a <code>cost</code> function to calculate the loss  and a <code>grad</code> function to calculate gradients that will be used in backpropagation.\n"
      ]
    },
    {
      "cell_type": "code",
      "metadata": {
        "id": "bc75fbaf-a09c-4330-b6c7-c4d78e858cae"
      },
      "outputs": [],
      "source": [
        "class AutoEncoder(tf.keras.Model):\n",
        "    def __init__(self):\n",
        "        super(AutoEncoder, self).__init__()\n",
        "\n",
        "        self.n_hidden_1 = n_hidden_1 # 1st layer num features\n",
        "        self.n_hidden_2 = n_hidden_2 # 2nd layer num features\n",
        "        self.encoding_layer = encoding_layer\n",
        "        self.n_input = n_input # MNIST data input (img shape: 28*28)\n",
        "\n",
        "        self.flatten_layer = tf.keras.layers.Flatten()\n",
        "        self.enocoding_1 = tf.keras.layers.Dense(self.n_hidden_1, activation=tf.nn.sigmoid)\n",
        "        self.encoding_2 = tf.keras.layers.Dense(self.n_hidden_2, activation=tf.nn.sigmoid)\n",
        "        self.encoding_final = tf.keras.layers.Dense(self.encoding_layer, activation=tf.nn.relu)\n",
        "        self.decoding_1 = tf.keras.layers.Dense(self.n_hidden_2, activation=tf.nn.sigmoid)\n",
        "        self.decoding_2 = tf.keras.layers.Dense(self.n_hidden_1, activation=tf.nn.sigmoid)\n",
        "        self.decoding_final = tf.keras.layers.Dense(self.n_input)\n",
        "\n",
        "\n",
        "    # Building the encoder\n",
        "    def encoder(self,x):\n",
        "        #x = self.flatten_layer(x)\n",
        "        layer_1 = self.enocoding_1(x)\n",
        "        layer_2 = self.encoding_2(layer_1)\n",
        "        code = self.encoding_final(layer_2)\n",
        "        return code\n",
        "\n",
        "\n",
        "    # Building the decoder\n",
        "    def decoder(self, x):\n",
        "        layer_1 = self.decoding_1(x)\n",
        "        layer_2 = self.decoding_2(layer_1)\n",
        "        decode = self.decoding_final(layer_2)\n",
        "        return decode\n",
        "\n",
        "\n",
        "    def call(self, x):\n",
        "        encoder_op  = self.encoder(x)\n",
        "        # Reconstructed Images\n",
        "        y_pred = self.decoder(encoder_op)\n",
        "        return y_pred\n",
        "\n",
        "def cost(y_true, y_pred):\n",
        "    loss = tf.losses.mean_squared_error(y_true, y_pred)\n",
        "    cost = tf.reduce_mean(loss)\n",
        "    return cost\n",
        "\n",
        "def grad(model, inputs, targets):\n",
        "    #print('shape of inputs : ',inputs.shape)\n",
        "    #targets = flatten_layer(targets)\n",
        "    with tf.GradientTape() as tape:\n",
        "        reconstruction = model(inputs)\n",
        "        loss_value = cost(targets, reconstruction)\n",
        "    return loss_value, tape.gradient(loss_value, model.trainable_variables),reconstruction"
      ],
      "execution_count": 13
    },
    {
      "cell_type": "markdown",
      "metadata": {
        "id": "c4d9054d-1e85-4acd-9bc7-fdf1fc1a8f94"
      },
      "source": [
        "For training we will run for 20 epochs.\n"
      ]
    },
    {
      "cell_type": "code",
      "metadata": {
        "colab": {
          "base_uri": "https://localhost:8080/"
        },
        "id": "e08bc95d-7db3-4f19-8795-f7b18802ff9f",
        "outputId": "24c89229-02c4-455a-c59f-c82e24e12118"
      },
      "outputs": [
        {
          "output_type": "stream",
          "name": "stdout",
          "text": [
            "Epoch: 0001 cost= 0.044297837\n",
            "Epoch: 0002 cost= 0.034257937\n",
            "Epoch: 0003 cost= 0.026349925\n",
            "Epoch: 0004 cost= 0.023311874\n",
            "Epoch: 0005 cost= 0.019300412\n",
            "Epoch: 0006 cost= 0.017194338\n",
            "Epoch: 0007 cost= 0.015403572\n",
            "Epoch: 0008 cost= 0.012654431\n",
            "Epoch: 0009 cost= 0.011643917\n",
            "Epoch: 0010 cost= 0.010705989\n",
            "Epoch: 0011 cost= 0.010038373\n",
            "Epoch: 0012 cost= 0.008961871\n",
            "Epoch: 0013 cost= 0.008125298\n",
            "Epoch: 0014 cost= 0.007813456\n",
            "Epoch: 0015 cost= 0.007327452\n",
            "Epoch: 0016 cost= 0.006737806\n",
            "Epoch: 0017 cost= 0.006611891\n",
            "Epoch: 0018 cost= 0.006071421\n",
            "Epoch: 0019 cost= 0.005664195\n",
            "Epoch: 0020 cost= 0.005563687\n",
            "Optimization Finished!\n"
          ]
        }
      ],
      "source": [
        "model = AutoEncoder()\n",
        "optimizer = tf.keras.optimizers.RMSprop(learning_rate)\n",
        "\n",
        "for epoch in range(training_epochs):\n",
        "    for i in range(total_batch):\n",
        "        x_inp = x_train[i : i + batch_size]\n",
        "        loss_value, grads, reconstruction = grad(model, x_inp, x_inp)\n",
        "        optimizer.apply_gradients(zip(grads, model.trainable_variables))\n",
        "    # Display logs per epoch step\n",
        "    if epoch % display_step == 0:\n",
        "        print(\"Epoch:\", '%04d' % (epoch+1),\n",
        "              \"cost=\", \"{:.9f}\".format(loss_value))\n",
        "\n",
        "print(\"Optimization Finished!\")"
      ],
      "execution_count": 14
    },
    {
      "cell_type": "markdown",
      "metadata": {
        "id": "f307f499-229f-4fd7-8269-29d5972ecc04"
      },
      "source": [
        "Now, let's apply encoder and decoder for our tests.\n"
      ]
    },
    {
      "cell_type": "code",
      "metadata": {
        "id": "8ab80439-93c6-4dbc-8e13-97e95f39d73c"
      },
      "outputs": [],
      "source": [
        "# Applying encode and decode over test set\n",
        "encode_decode = model(flatten_layer(x_image_test[:examples_to_show]))"
      ],
      "execution_count": 15
    },
    {
      "cell_type": "markdown",
      "metadata": {
        "id": "83c785da-790b-43ef-abb4-129ba7053bc7"
      },
      "source": [
        "Let's simply visualize our graphs!\n"
      ]
    },
    {
      "cell_type": "code",
      "metadata": {
        "colab": {
          "base_uri": "https://localhost:8080/",
          "height": 214
        },
        "id": "d8c06da1-55f7-4032-b665-25c1525ca144",
        "outputId": "ea645ccf-55a4-4dd7-da48-5985f319131a"
      },
      "outputs": [
        {
          "output_type": "display_data",
          "data": {
            "text/plain": [
              "<Figure size 1000x200 with 20 Axes>"
            ],
            "image/png": "[encoded data removed]"
          },
          "metadata": {}
        }
      ],
      "source": [
        "# Compare original images with their reconstructions\n",
        "f, a = plt.subplots(2, 10, figsize=(10, 2))\n",
        "for i in range(examples_to_show):\n",
        "    a[0][i].imshow(np.reshape(x_image_test[i], (28, 28)))\n",
        "    a[1][i].imshow(np.reshape(encode_decode[i], (28, 28)))"
      ],
      "execution_count": 16
    },
    {
      "cell_type": "markdown",
      "metadata": {
        "id": "0dd58564-e012-49dc-bdd4-c9c02000147d"
      },
      "source": [
        "As you can see, the reconstructions were successful. It can be seen that some noise were added to the image.\n"
      ]
    },
    {
      "cell_type": "markdown",
      "metadata": {
        "id": "17948ac9-7fc6-49cb-9555-7a3d7dd0ee06"
      },
      "source": [
        "<hr>\n"
      ]
    },
    {
      "cell_type": "markdown",
      "metadata": {
        "id": "258ce172-7edc-4547-973a-4707a08a231c"
      },
      "source": [
        "## Want to learn more?\n",
        "\n",
        "Also, you can use **Watson Studio** to run these notebooks faster with bigger datasets.**Watson Studio** is IBM’s leading cloud solution for data scientists, built by data scientists. With Jupyter notebooks, RStudio, Apache Spark and popular libraries pre-packaged in the cloud, **Watson Studio** enables data scientists to collaborate on their projects without having to install anything. Join the fast-growing community of **Watson Studio** users today with a free account at [Watson Studio](https://cocl.us/ML0120EN_DSX).This is the end of this lesson. Thank you for reading this notebook, and good luck on your studies.\n"
      ]
    },
    {
      "cell_type": "markdown",
      "metadata": {
        "id": "31df0d97-7219-4d8f-aef9-d3ec0418fe29"
      },
      "source": [
        "### Thanks for completing this lesson!\n"
      ]
    },
    {
      "cell_type": "markdown",
      "metadata": {
        "id": "96535521-71ff-47f4-8988-c3c27cec8de9"
      },
      "source": [
        "Created by <a href=\"https://www.linkedin.com/in/franciscomagioli?utm_medium=Exinfluencer&utm_source=Exinfluencer&utm_content=000026UJ&utm_term=10006555&utm_id=NA-SkillsNetwork-Channel-SkillsNetworkCoursesIBMDeveloperSkillsNetworkDL0120ENSkillsNetwork954-2023-01-01\">Francisco Magioli</a>, <a href=\"https://ca.linkedin.com/in/erich-natsubori-sato?utm_medium=Exinfluencer&utm_source=Exinfluencer&utm_content=000026UJ&utm_term=10006555&utm_id=NA-SkillsNetwork-Channel-SkillsNetworkCoursesIBMDeveloperSkillsNetworkDL0120ENSkillsNetwork954-2023-01-01\">Erich Natsubori Sato</a>, <a href=\"https://ca.linkedin.com/in/saeedaghabozorgi?utm_medium=Exinfluencer&utm_source=Exinfluencer&utm_content=000026UJ&utm_term=10006555&utm_id=NA-SkillsNetwork-Channel-SkillsNetworkCoursesIBMDeveloperSkillsNetworkDL0120ENSkillsNetwork954-2023-01-01\">Saeed Aghabozorgi</a>\n",
        "\n",
        "Updated to TF 2.X by  <a href=\"https://www.linkedin.com/in/samaya-madhavan?utm_medium=Exinfluencer&utm_source=Exinfluencer&utm_content=000026UJ&utm_term=10006555&utm_id=NA-SkillsNetwork-Channel-SkillsNetworkCoursesIBMDeveloperSkillsNetworkDL0120ENSkillsNetwork954-2023-01-01\"> Samaya Madhavan </a>\n"
      ]
    },
    {
      "cell_type": "markdown",
      "metadata": {
        "id": "c64eb9a3-a95b-4b00-8907-e5caa7651bc1"
      },
      "source": [
        "### References:\n",
        "\n",
        "-   [https://en.wikipedia.org/wiki/Autoencoder](https://en.wikipedia.org/wiki/Autoencoder?utm_medium=Exinfluencer&utm_source=Exinfluencer&utm_content=000026UJ&utm_term=10006555&utm_id=NA-SkillsNetwork-Channel-SkillsNetworkCoursesIBMDeveloperSkillsNetworkDL0120ENSkillsNetwork954-2023-01-01&cm_mmc=Email_Newsletter-_-Developer_Ed%2BTech-_-WW_WW-_-SkillsNetwork-Courses-IBMDeveloperSkillsNetwork-DL0120EN-SkillsNetwork-20629446&cm_mmca1=000026UJ&cm_mmca2=10006555&cm_mmca3=M12345678&cvosrc=email.Newsletter.M12345678&cvo_campaign=000026UJ)\n",
        "-   [http://ufldl.stanford.edu/tutorial/unsupervised/Autoencoders/](http://ufldl.stanford.edu/tutorial/unsupervised/Autoencoders?utm_medium=Exinfluencer&utm_source=Exinfluencer&utm_content=000026UJ&utm_term=10006555&utm_id=NA-SkillsNetwork-Channel-SkillsNetworkCoursesIBMDeveloperSkillsNetworkDL0120ENSkillsNetwork954-2023-01-01&cm_mmc=Email_Newsletter-_-Developer_Ed%2BTech-_-WW_WW-_-SkillsNetwork-Courses-IBMDeveloperSkillsNetwork-DL0120EN-SkillsNetwork-20629446&cm_mmca1=000026UJ&cm_mmca2=10006555&cm_mmca3=M12345678&cvosrc=email.Newsletter.M12345678&cvo_campaign=000026UJ)\n",
        "-   [http://www.slideshare.net/billlangjun/simple-introduction-to-autoencoder](http://www.slideshare.net/billlangjun/simple-introduction-to-autoencoder?utm_medium=Exinfluencer&utm_source=Exinfluencer&utm_content=000026UJ&utm_term=10006555&utm_id=NA-SkillsNetwork-Channel-SkillsNetworkCoursesIBMDeveloperSkillsNetworkDL0120ENSkillsNetwork954-2023-01-01&cm_mmc=Email_Newsletter-_-Developer_Ed%2BTech-_-WW_WW-_-SkillsNetwork-Courses-IBMDeveloperSkillsNetwork-DL0120EN-SkillsNetwork-20629446&cm_mmca1=000026UJ&cm_mmca2=10006555&cm_mmca3=M12345678&cvosrc=email.Newsletter.M12345678&cvo_campaign=000026UJ)\n",
        "-   [http://www.slideshare.net/danieljohnlewis/piotr-mirowski-review-autoencoders-deep-learning-ciuuk14](http://www.slideshare.net/danieljohnlewis/piotr-mirowski-review-autoencoders-deep-learning-ciuuk14?utm_medium=Exinfluencer&utm_source=Exinfluencer&utm_content=000026UJ&utm_term=10006555&utm_id=NA-SkillsNetwork-Channel-SkillsNetworkCoursesIBMDeveloperSkillsNetworkDL0120ENSkillsNetwork954-2023-01-01&cm_mmc=Email_Newsletter-_-Developer_Ed%2BTech-_-WW_WW-_-SkillsNetwork-Courses-IBMDeveloperSkillsNetwork-DL0120EN-SkillsNetwork-20629446&cm_mmca1=000026UJ&cm_mmca2=10006555&cm_mmca3=M12345678&cvosrc=email.Newsletter.M12345678&cvo_campaign=000026UJ)\n",
        "-   [https://cs.stanford.edu/~quocle/tutorial2.pdf](https://cs.stanford.edu/~quocle/tutorial2.pdf?utm_medium=Exinfluencer&utm_source=Exinfluencer&utm_content=000026UJ&utm_term=10006555&utm_id=NA-SkillsNetwork-Channel-SkillsNetworkCoursesIBMDeveloperSkillsNetworkDL0120ENSkillsNetwork954-2023-01-01&cm_mmc=Email_Newsletter-_-Developer_Ed%2BTech-_-WW_WW-_-SkillsNetwork-Courses-IBMDeveloperSkillsNetwork-DL0120EN-SkillsNetwork-20629446&cm_mmca1=000026UJ&cm_mmca2=10006555&cm_mmca3=M12345678&cvosrc=email.Newsletter.M12345678&cvo_campaign=000026UJ)\n",
        "-   <https://gist.github.com/hussius/1534135a419bb0b957b9>\n",
        "-   [http://www.deeplearningbook.org/contents/autoencoders.html](http://www.deeplearningbook.org/contents/autoencoders.html?utm_medium=Exinfluencer&utm_source=Exinfluencer&utm_content=000026UJ&utm_term=10006555&utm_id=NA-SkillsNetwork-Channel-SkillsNetworkCoursesIBMDeveloperSkillsNetworkDL0120ENSkillsNetwork954-2023-01-01&cm_mmc=Email_Newsletter-_-Developer_Ed%2BTech-_-WW_WW-_-SkillsNetwork-Courses-IBMDeveloperSkillsNetwork-DL0120EN-SkillsNetwork-20629446&cm_mmca1=000026UJ&cm_mmca2=10006555&cm_mmca3=M12345678&cvosrc=email.Newsletter.M12345678&cvo_campaign=000026UJ)\n",
        "-   [http://www.kdnuggets.com/2015/03/deep-learning-curse-dimensionality-autoencoders.html/](http://www.kdnuggets.com/2015/03/deep-learning-curse-dimensionality-autoencoders.html?utm_medium=Exinfluencer&utm_source=Exinfluencer&utm_content=000026UJ&utm_term=10006555&utm_id=NA-SkillsNetwork-Channel-SkillsNetworkCoursesIBMDeveloperSkillsNetworkDL0120ENSkillsNetwork954-2023-01-01&cm_mmc=Email_Newsletter-_-Developer_Ed%2BTech-_-WW_WW-_-SkillsNetwork-Courses-IBMDeveloperSkillsNetwork-DL0120EN-SkillsNetwork-20629446&cm_mmca1=000026UJ&cm_mmca2=10006555&cm_mmca3=M12345678&cvosrc=email.Newsletter.M12345678&cvo_campaign=000026UJ)\n",
        "-   [https://www.youtube.com/watch?v=xTU79Zs4XKY](https://www.youtube.com/watch?utm_medium=Exinfluencer&utm_source=Exinfluencer&utm_content=000026UJ&utm_term=10006555&utm_id=NA-SkillsNetwork-Channel-SkillsNetworkCoursesIBMDeveloperSkillsNetworkDL0120ENSkillsNetwork954-2023-01-01&v=xTU79Zs4XKY&cm_mmc=Email_Newsletter-_-Developer_Ed%2BTech-_-WW_WW-_-SkillsNetwork-Courses-IBMDeveloperSkillsNetwork-DL0120EN-SkillsNetwork-20629446&cm_mmca1=000026UJ&cm_mmca2=10006555&cm_mmca3=M12345678&cvosrc=email.Newsletter.M12345678&cvo_campaign=000026UJ)\n",
        "-   [http://www-personal.umich.edu/~jizhu/jizhu/wuke/Stone-AoS82.pdf](http://www-personal.umich.edu/~jizhu/jizhu/wuke/Stone-AoS82.pdf?utm_medium=Exinfluencer&utm_source=Exinfluencer&utm_content=000026UJ&utm_term=10006555&utm_id=NA-SkillsNetwork-Channel-SkillsNetworkCoursesIBMDeveloperSkillsNetworkDL0120ENSkillsNetwork954-2023-01-01&cm_mmc=Email_Newsletter-_-Developer_Ed%2BTech-_-WW_WW-_-SkillsNetwork-Courses-IBMDeveloperSkillsNetwork-DL0120EN-SkillsNetwork-20629446&cm_mmca1=000026UJ&cm_mmca2=10006555&cm_mmca3=M12345678&cvosrc=email.Newsletter.M12345678&cvo_campaign=000026UJ)\n"
      ]
    },
    {
      "cell_type": "markdown",
      "metadata": {
        "id": "90c54206-f2ab-4b3a-b9fc-da368c705a4c"
      },
      "source": [
        "<hr>\n",
        "\n",
        "Copyright © 2018 [Cognitive Class](https://cocl.us/DX0108EN_CC). This notebook and its source code are released under the terms of the [MIT License](https://bigdatauniversity.com/mit-license?utm_medium=Exinfluencer&utm_source=Exinfluencer&utm_content=000026UJ&utm_term=10006555&utm_id=NA-SkillsNetwork-Channel-SkillsNetworkCoursesIBMDeveloperSkillsNetworkDL0120ENSkillsNetwork954-2023-01-01&cm_mmc=Email_Newsletter-_-Developer_Ed%2BTech-_-WW_WW-_-SkillsNetwork-Courses-IBMDeveloperSkillsNetwork-DL0120EN-SkillsNetwork-20629446&cm_mmca1=000026UJ&cm_mmca2=10006555&cm_mmca3=M12345678&cvosrc=email.Newsletter.M12345678&cvo_campaign=000026UJ).\n"
      ]
    }
  ],
  "metadata": {
    "kernelspec": {
      "display_name": "Python",
      "language": "python",
      "name": "conda-env-python-py"
    },
    "language_info": {
      "name": ""
    },
    "colab": {
      "provenance": []
    }
  },
  "nbformat": 4,
  "nbformat_minor": 0
}