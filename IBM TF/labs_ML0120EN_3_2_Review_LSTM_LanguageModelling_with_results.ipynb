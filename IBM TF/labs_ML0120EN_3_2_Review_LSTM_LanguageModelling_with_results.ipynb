{
  "cells": [
    {
      "cell_type": "markdown",
      "metadata": {
        "id": "028791ea-1047-4bfa-8817-4096a18f72e8"
      },
      "source": [
        "<img src=\"https://cf-courses-data.s3.us.cloud-object-storage.appdomain.cloud/IBMDeveloperSkillsNetwork-DL0120EN-SkillsNetwork/images/IDSN-logo.png\" width=\"300\" alt=\"cognitiveclass.ai logo\">\n",
        "\n",
        "<h1 align=\"center\"><font size=\"5\">RECURRENT NETWORKS and LSTM IN DEEP LEARNING</font></h1>\n"
      ]
    },
    {
      "cell_type": "markdown",
      "metadata": {
        "id": "1ee9e017-da77-4612-b86b-0b130cc1a229"
      },
      "source": [
        "Estimated time needed: **30** minutes\n"
      ]
    },
    {
      "cell_type": "markdown",
      "metadata": {
        "id": "b661ff6c-4ae7-4215-ba05-032ba99b0571"
      },
      "source": [
        "<h2>Applying Recurrent Neural Networks/LSTM for Language Modeling</h2>\n",
        "Hello and welcome to this part. In this notebook, we will go over the topic of Language Modelling, and create a Recurrent Neural Network model based on the Long Short-Term Memory unit to train and benchmark on the Penn Treebank dataset. By the end of this notebook, you should be able to understand how TensorFlow builds and executes a RNN model for Language Modelling.\n"
      ]
    },
    {
      "cell_type": "markdown",
      "metadata": {
        "id": "30f0a964-c517-414f-8745-926d12927734"
      },
      "source": [
        "<h2>The Objective</h2>\n",
        "By now, you should have an understanding of how Recurrent Networks work -- a specialized model to process sequential data by keeping track of the \"state\" or context. In this notebook, we go over a TensorFlow code snippet for creating a model focused on <b>Language Modelling</b> -- a very relevant task that is the cornerstone of many different linguistic problems such as <b>Speech Recognition, Machine Translation and Image Captioning</b>. For this, we will be using the Penn Treebank dataset, which is an often-used dataset for benchmarking Language Modelling models.\n"
      ]
    },
    {
      "cell_type": "markdown",
      "metadata": {
        "id": "fd8984c1-8f8e-42a3-8ed5-603349fc04e2"
      },
      "source": [
        "\n",
        "<h2>Table of Contents</h2>\n",
        "<ol>\n",
        "    <li><a href=\"#language_modelling\">What exactly is Language Modelling?</a></li>\n",
        "    <li><a href=\"#treebank_dataset\">The Penn Treebank dataset</a></li>\n",
        "    <li><a href=\"#word_embedding\">Word Embedding</a></li>\n",
        "    <li><a href=\"#building_lstm_model\">Building the LSTM model for Language Modeling</a></li>\n",
        "    <li><a href=\"#ltsm\">LTSM</a></li>\n",
        "</ol>\n",
        "<p></p>\n",
        "</div>\n",
        "<br>\n"
      ]
    },
    {
      "cell_type": "markdown",
      "metadata": {
        "id": "9a964784-0904-4fea-8bb7-ad2946de6823"
      },
      "source": [
        "--------\n"
      ]
    },
    {
      "cell_type": "markdown",
      "metadata": {
        "id": "05f3eab2-ae4c-4584-a4a0-512e2104dd8c"
      },
      "source": [
        "<a id=\"language_modelling\"></a>\n",
        "<h2>What exactly is Language Modelling?</h2>\n",
        "Language Modelling, to put it simply, <b>is the task of assigning probabilities to sequences of words</b>. This means that, given a context of one or a sequence of words in the language the model was trained on, the model should provide the next most probable words or sequence of words that follows from the given sequence of words the sentence. Language Modelling is one of the most important tasks in Natural Language Processing.\n",
        "\n",
        "<img src=\"https://ibm.box.com/shared/static/1d1i5gub6wljby2vani2vzxp0xsph702.png\" width=\"1080\">\n",
        "<center><i>Example of a sentence being predicted</i></center>\n",
        "<br><br>\n",
        "In this example, one can see the predictions for the next word of a sentence, given the context \"This is an\". As you can see, this boils down to a sequential data analysis task -- you are given a word or a sequence of words (the input data), and, given the context (the state), you need to find out what is the next word (the prediction). This kind of analysis is very important for language-related tasks such as <b>Speech Recognition, Machine Translation, Image Captioning, Text Correction</b> and many other very relevant problems.\n",
        "\n",
        "<img src=\"https://ibm.box.com/shared/static/az39idf9ipfdpc5ugifpgxnydelhyf3i.png\" width=\"1080\">\n",
        "<center><i>The above example is a schema of an RNN in execution</i></center>\n",
        "<br><br>\n",
        "As the above image shows, Recurrent Network models fit this problem like a glove. Alongside LSTM and its capacity to maintain the model's state for over one thousand time steps, we have all the tools we need to undertake this problem. The goal for this notebook is to create a model that can reach <b>low levels of perplexity</b> on our desired dataset.\n",
        "\n",
        "For Language Modelling problems, <b>perplexity</b> is the way to gauge efficiency. Perplexity is simply a measure of how well a probabilistic model is able to predict its sample. A higher-level way to explain this would be saying that <b>low perplexity means a higher degree of trust in the predictions the model makes</b>. Therefore, the lower perplexity is, the better.\n"
      ]
    },
    {
      "cell_type": "markdown",
      "metadata": {
        "id": "e2b753b5-faa8-4843-ab07-60bc82d31608"
      },
      "source": [
        "<a id=\"treebank_dataset\"></a>\n",
        "<h2>The Penn Treebank dataset</h2>\n",
        "Historically, datasets big enough for Natural Language Processing are hard to come by. This is in part due to the necessity of the sentences to be broken down and tagged with a certain degree of correctness -- or else the models trained on it won't be able to be correct at all. This means that we need a <b>large amount of data, annotated by or at least corrected by humans</b>. This is, of course, not an easy task at all.\n",
        "\n",
        "The Penn Treebank, or PTB for short, is a dataset maintained by the University of Pennsylvania. It is <i>huge</i> -- there are over <b>four million and eight hundred thousand</b> annotated words in it, all corrected by humans. It is composed of many different sources, from abstracts of Department of Energy papers to texts from the Library of America. Since it is verifiably correct and of such a huge size, the Penn Treebank is commonly used as a benchmark dataset for Language Modelling.\n",
        "\n",
        "The dataset is divided in different kinds of annotations, such as Piece-of-Speech, Syntactic and Semantic skeletons. For this example, we will simply use a sample of clean, non-annotated words (with the exception of one tag --<code>&lt;unk&gt;</code>\n",
        ", which is used for rare words such as uncommon proper nouns) for our model. This means that we just want to predict what the next words would be, not what they mean in context or their classes on a given sentence.\n",
        "\n",
        "<center>Example of text from the dataset we are going to use, <b>ptb.train</b></center>\n",
        "<br><br>\n",
        "\n",
        "<div class=\"alert alert-block alert-info\" style=\"margin-top: 20px\">\n",
        "    <center>the percentage of lung cancer deaths among the workers at the west <code>&lt;unk&gt;</code> mass. paper factory appears to be the highest for any asbestos workers studied in western industrialized countries he said\n",
        " the plant which is owned by <code>&lt;unk&gt;</code> & <code>&lt;unk&gt;</code> co. was under contract with <code>&lt;unk&gt;</code> to make the cigarette filters\n",
        " the finding probably will support those who argue that the U.S. should regulate the class of asbestos including <code>&lt;unk&gt;</code> more <code>&lt;unk&gt;</code> than the common kind of asbestos <code>&lt;unk&gt;</code> found in most schools and other buildings dr. <code>&lt;unk&gt;</code> said</center>\n",
        "</div>\n"
      ]
    },
    {
      "cell_type": "markdown",
      "metadata": {
        "id": "9301454c-ded1-498a-ba83-17c0402bebf5"
      },
      "source": [
        "<a id=\"word_embedding\"></a>\n",
        "<h2>Word Embeddings</h2><br/>\n",
        "\n",
        "For better processing, in this example, we will make use of <a href=\"https://www.tensorflow.org/tutorials/word2vec/?utm_medium=Exinfluencer&utm_source=Exinfluencer&utm_content=000026UJ&utm_term=10006555&utm_id=NA-SkillsNetwork-Channel-SkillsNetworkCoursesIBMDeveloperSkillsNetworkDL0120ENSkillsNetwork954-2023-01-01\"><b>word embeddings</b></a>, which is <b>a way of representing sentence structures or words as n-dimensional vectors (where n is a reasonably high number, such as 200 or 500) of real numbers</b>. Basically, we will assign each word a randomly-initialized vector, and input those into the network to be processed. After a number of iterations, these vectors are expected to assume values that help the network to correctly predict what it needs to -- in our case, the probable next word in the sentence. This is shown to be a very effective task in Natural Language Processing, and is a commonplace practice.\n",
        "<br><br>\n",
        "<font size=\"4\"><strong>\n",
        "$$Vec(\"Example\") = [0.02, 0.00, 0.00, 0.92, 0.30, \\ldots]$$\n",
        "</strong></font>\n",
        "<br>\n",
        "Word Embedding tends to group up similarly used words <i>reasonably</i> close together in the vectorial space. For example, if we use T-SNE (a dimensional reduction visualization algorithm) to flatten the dimensions of our vectors into a 2-dimensional space and plot these words in a 2-dimensional space, we might see something like this:\n",
        "\n",
        "<img src=\"https://ibm.box.com/shared/static/bqhc5dg879gcoabzhxra1w8rkg3od1cu.png\" width=\"800\">\n",
        "<center><i>T-SNE Mockup with clusters marked for easier visualization</i></center>\n",
        "<br><br>\n",
        "As you can see, words that are frequently used together, in place of each other, or in the same places as them tend to be grouped together -- being closer together the higher they are correlated. For example, \"None\" is pretty semantically close to \"Zero\", while a phrase that uses \"Italy\", you could probably also fit \"Germany\" in it, with little damage to the sentence structure. The vectorial \"closeness\" for similar words like this is a great indicator of a well-built model.\n",
        "\n",
        "<hr>\n",
        "\n"
      ]
    },
    {
      "cell_type": "markdown",
      "metadata": {
        "id": "211b1a44-45ce-48e5-8eec-afca3d0a819a"
      },
      "source": [
        "We need to import the necessary modules for our code. We need <b><code>numpy</code></b> and <b><code>tensorflow</code></b>, obviously. Additionally, we can import directly the <b><code>tensorflow.models.rnn</code></b> model, which includes the function for building RNNs, and <b><code>tensorflow.models.rnn.ptb.reader</code></b> which is the helper module for getting the input data from the dataset we just downloaded.\n",
        "\n",
        "If you want to learn more take a look at https://github.com/tensorflow/models/blob/master/tutorials/rnn/ptb/reader.py\n"
      ]
    },
    {
      "cell_type": "code",
      "execution_count": 1,
      "metadata": {
        "id": "9b6179e0-637d-4edc-8087-134cca898b7e"
      },
      "outputs": [],
      "source": [
        "#!pip install tensorflow==2.9.0\n",
        "#!pip install numpy==1.21.4\n"
      ]
    },
    {
      "cell_type": "code",
      "execution_count": 2,
      "metadata": {
        "id": "b164a02b-e24f-45f0-b3be-807308eae8f3"
      },
      "outputs": [],
      "source": [
        "import time\n",
        "import numpy as np\n",
        "import tensorflow as tf\n",
        "#if not tf.__version__ == '2.9.0':\n",
        "#    print(tf.__version__)\n",
        "#    raise ValueError('please upgrade to TensorFlow 2.9.0, or restart your Kernel (Kernel->Restart & Clear Output)')"
      ]
    },
    {
      "cell_type": "markdown",
      "metadata": {
        "id": "04133b9e-bb65-418e-9a91-b997c6dcc148"
      },
      "source": [
        "IMPORTANT! => Please restart the kernel by clicking on \"Kernel\"->\"Restart and Clear Outout\" and wait until all output disapears. Then your changes are beeing picked up\n"
      ]
    },
    {
      "cell_type": "code",
      "execution_count": 3,
      "metadata": {
        "id": "dc0795ab-2162-46f1-bd89-f08db72abf55"
      },
      "outputs": [],
      "source": [
        "!mkdir data\n",
        "!mkdir data/ptb\n",
        "!wget -q -O data/ptb/reader.py https://cf-courses-data.s3.us.cloud-object-storage.appdomain.cloud/IBMDeveloperSkillsNetwork-DL0120EN-SkillsNetwork/labs/Week3/data/ptb/reader.py\n",
        "!cp data/ptb/reader.py .\n",
        "\n"
      ]
    },
    {
      "cell_type": "code",
      "execution_count": 4,
      "metadata": {
        "id": "01c1e584-ebff-4cc0-a701-affc8a5c00d2"
      },
      "outputs": [],
      "source": [
        "# Copyright 2015 The TensorFlow Authors. All Rights Reserved.\n",
        "#\n",
        "# Licensed under the Apache License, Version 2.0 (the \"License\");\n",
        "# you may not use this file except in compliance with the License.\n",
        "# You may obtain a copy of the License at\n",
        "#\n",
        "#     http://www.apache.org/licenses/LICENSE-2.0\n",
        "#\n",
        "# Unless required by applicable law or agreed to in writing, software\n",
        "# distributed under the License is distributed on an \"AS IS\" BASIS,\n",
        "# WITHOUT WARRANTIES OR CONDITIONS OF ANY KIND, either express or implied.\n",
        "# See the License for the specific language governing permissions and\n",
        "# limitations under the License.\n",
        "# ==============================================================================\n",
        "\n",
        "\n",
        "\"\"\"Utilities for parsing PTB text files.\"\"\"\n",
        "from __future__ import absolute_import\n",
        "from __future__ import division\n",
        "from __future__ import print_function\n",
        "\n",
        "import collections\n",
        "import os\n",
        "\n",
        "import numpy as np\n",
        "import tensorflow as tf\n",
        "\n",
        "\n",
        "def _read_words(filename):\n",
        "  with tf.io.gfile.GFile(filename, \"r\") as f:\n",
        "    return f.read().replace(\"\\n\", \"<eos>\").split()\n",
        "\n",
        "\n",
        "def _build_vocab(filename):\n",
        "  data = _read_words(filename)\n",
        "\n",
        "  counter = collections.Counter(data)\n",
        "  count_pairs = sorted(counter.items(), key=lambda x: (-x[1], x[0]))\n",
        "\n",
        "  words, _ = list(zip(*count_pairs))\n",
        "  word_to_id = dict(zip(words, range(len(words))))\n",
        "\n",
        "  return word_to_id\n",
        "\n",
        "\n",
        "def _file_to_word_ids(filename, word_to_id):\n",
        "  data = _read_words(filename)\n",
        "  return [word_to_id[word] for word in data if word in word_to_id]\n",
        "\n",
        "\n",
        "def ptb_raw_data(data_path=None):\n",
        "  \"\"\"Load PTB raw data from data directory \"data_path\".\n",
        "\n",
        "  Reads PTB text files, converts strings to integer ids,\n",
        "  and performs mini-batching of the inputs.\n",
        "\n",
        "  The PTB dataset comes from Tomas Mikolov's webpage:\n",
        "\n",
        "  http://www.fit.vutbr.cz/~imikolov/rnnlm/simple-examples.tgz\n",
        "\n",
        "  Args:\n",
        "    data_path: string path to the directory where simple-examples.tgz has\n",
        "      been extracted.\n",
        "\n",
        "  Returns:\n",
        "    tuple (train_data, valid_data, test_data, vocabulary)\n",
        "    where each of the data objects can be passed to PTBIterator.\n",
        "  \"\"\"\n",
        "\n",
        "  train_path = os.path.join(data_path, \"ptb.train.txt\")\n",
        "  valid_path = os.path.join(data_path, \"ptb.valid.txt\")\n",
        "  test_path = os.path.join(data_path, \"ptb.test.txt\")\n",
        "\n",
        "  word_to_id = _build_vocab(train_path)\n",
        "  train_data = _file_to_word_ids(train_path, word_to_id)\n",
        "  valid_data = _file_to_word_ids(valid_path, word_to_id)\n",
        "  test_data = _file_to_word_ids(test_path, word_to_id)\n",
        "  vocabulary = len(word_to_id)\n",
        "  return train_data, valid_data, test_data, vocabulary, word_to_id\n",
        "\n",
        "\n",
        "def ptb_iterator(raw_data, batch_size, num_steps):\n",
        "  \"\"\"Iterate on the raw PTB data.\n",
        "\n",
        "  This generates batch_size pointers into the raw PTB data, and allows\n",
        "  minibatch iteration along these pointers.\n",
        "\n",
        "  Args:\n",
        "    raw_data: one of the raw data outputs from ptb_raw_data.\n",
        "    batch_size: int, the batch size.\n",
        "    num_steps: int, the number of unrolls.\n",
        "\n",
        "  Yields:\n",
        "    Pairs of the batched data, each a matrix of shape [batch_size, num_steps].\n",
        "    The second element of the tuple is the same data time-shifted to the\n",
        "    right by one.\n",
        "\n",
        "  Raises:\n",
        "    ValueError: if batch_size or num_steps are too high.\n",
        "  \"\"\"\n",
        "  raw_data = np.array(raw_data, dtype=np.int32)\n",
        "\n",
        "  data_len = len(raw_data)\n",
        "  batch_len = data_len // batch_size\n",
        "  data = np.zeros([batch_size, batch_len], dtype=np.int32)\n",
        "  for i in range(batch_size):\n",
        "    data[i] = raw_data[batch_len * i:batch_len * (i + 1)]\n",
        "\n",
        "  epoch_size = (batch_len - 1) // num_steps\n",
        "\n",
        "  if epoch_size == 0:\n",
        "    raise ValueError(\"epoch_size == 0, decrease batch_size or num_steps\")\n",
        "\n",
        "  for i in range(epoch_size):\n",
        "    x = data[:, i*num_steps:(i+1)*num_steps]\n",
        "    y = data[:, i*num_steps+1:(i+1)*num_steps+1]\n",
        "    yield (x, y)"
      ]
    },
    {
      "cell_type": "markdown",
      "metadata": {
        "id": "2f3b359b-09a1-4333-b1a7-aa034a1a82b2"
      },
      "source": [
        "<a id=\"building_lstm_model\"></a>\n",
        "<h2>Building the LSTM model for Language Modeling</h2>\n",
        "Now that we know exactly what we are doing, we can start building our model using TensorFlow. The very first thing we need to do is download and extract the <code>simple-examples</code> dataset, which can be done by executing the code cell below.\n"
      ]
    },
    {
      "cell_type": "code",
      "execution_count": 5,
      "metadata": {
        "colab": {
          "base_uri": "https://localhost:8080/"
        },
        "id": "c04ec0b2-0d54-4902-8958-0c119c681533",
        "outputId": "f1162d0a-1c95-4a65-a80b-15fe1215b90c"
      },
      "outputs": [
        {
          "output_type": "stream",
          "name": "stdout",
          "text": [
            "--2023-09-16 08:07:39--  http://www.fit.vutbr.cz/~imikolov/rnnlm/simple-examples.tgz\n",
            "Resolving www.fit.vutbr.cz (www.fit.vutbr.cz)... 147.229.9.23, 2001:67c:1220:809::93e5:917\n",
            "Connecting to www.fit.vutbr.cz (www.fit.vutbr.cz)|147.229.9.23|:80... connected.\n",
            "HTTP request sent, awaiting response... 200 OK\n",
            "Length: 34869662 (33M) [application/x-gtar]\n",
            "Saving to: ‘simple-examples.tgz’\n",
            "\n",
            "simple-examples.tgz 100%[===================>]  33.25M  8.84MB/s    in 7.4s    \n",
            "\n",
            "2023-09-16 08:07:48 (4.50 MB/s) - ‘simple-examples.tgz’ saved [34869662/34869662]\n",
            "\n"
          ]
        }
      ],
      "source": [
        "!wget http://www.fit.vutbr.cz/~imikolov/rnnlm/simple-examples.tgz\n",
        "!tar xzf simple-examples.tgz -C data/"
      ]
    },
    {
      "cell_type": "markdown",
      "metadata": {
        "id": "87a3d1dc-02d0-4236-ae5e-25a670aa2ff6"
      },
      "source": [
        "Additionally, for the sake of making it easy to play around with the model's hyperparameters, we can declare them beforehand. Feel free to change these -- you will see a difference in performance each time you change those!  \n"
      ]
    },
    {
      "cell_type": "code",
      "execution_count": 6,
      "metadata": {
        "id": "03819248-6bee-43d3-b0ae-07dbfb394b84"
      },
      "outputs": [],
      "source": [
        "#Initial weight scale\n",
        "init_scale = 0.1\n",
        "#Initial learning rate\n",
        "learning_rate = 1.0\n",
        "#Maximum permissible norm for the gradient (For gradient clipping -- another measure against Exploding Gradients)\n",
        "max_grad_norm = 5\n",
        "#The number of layers in our model\n",
        "num_layers = 2\n",
        "#The total number of recurrence steps, also known as the number of layers when our RNN is \"unfolded\"\n",
        "num_steps = 20\n",
        "#The number of processing units (neurons) in the hidden layers\n",
        "hidden_size_l1 = 256\n",
        "hidden_size_l2 = 128\n",
        "#The maximum number of epochs trained with the initial learning rate\n",
        "max_epoch_decay_lr = 4\n",
        "#The total number of epochs in training\n",
        "max_epoch = 15\n",
        "#The probability for keeping data in the Dropout Layer (This is an optimization, but is outside our scope for this notebook!)\n",
        "#At 1, we ignore the Dropout Layer wrapping.\n",
        "keep_prob = 1\n",
        "#The decay for the learning rate\n",
        "decay = 0.5\n",
        "#The size for each batch of data\n",
        "batch_size = 30\n",
        "#The size of our vocabulary\n",
        "vocab_size = 10000\n",
        "embeding_vector_size= 200\n",
        "#Training flag to separate training from testing\n",
        "is_training = 1\n",
        "#Data directory for our dataset\n",
        "data_dir = \"data/simple-examples/data/\""
      ]
    },
    {
      "cell_type": "markdown",
      "metadata": {
        "id": "649c65b1-4a91-451c-9349-ec1c6dfe94d4"
      },
      "source": [
        "Some clarifications for LSTM architecture based on the arguments:\n",
        "\n",
        "Network structure:\n",
        "<ul>\n",
        "    <li>In this network, the number of LSTM cells are 2. To give the model more expressive power, we can add multiple layers of LSTMs to process the data. The output of the first layer will become the input of the second and so on.\n",
        "    </li>\n",
        "    <li>The recurrence steps is 20, that is, when our RNN is \"Unfolded\", the recurrence step is 20.</li>   \n",
        "    <li>the structure is like:\n",
        "        <ul>\n",
        "            <li>200 input units -> [200x200] Weight -> 200 Hidden units (first layer) -> [200x200] Weight matrix  -> 200 Hidden units (second layer) ->  [200] weight Matrix -> 200 unit output</li>\n",
        "        </ul>\n",
        "    </li>\n",
        "</ul>\n",
        "<br>\n",
        "\n",
        "Input layer:\n",
        "<ul>\n",
        "    <li>The network has 200 input units.</li>\n",
        "    <li>Suppose each word is represented by an embedding vector of dimensionality e=200. The input layer of each cell will have 200 linear units. These e=200 linear units are connected to each of the h=200 LSTM units in the hidden layer (assuming there is only one hidden layer, though our case has 2 layers).\n",
        "    </li>\n",
        "    <li>The input shape is [batch_size, num_steps], that is [30x20]. It will turn into [30x20x200] after embedding, and then 20x[30x200]\n",
        "    </li>\n",
        "</ul>\n",
        "<br>\n",
        "\n",
        "Hidden layer:\n",
        "<ul>\n",
        "    <li>Each LSTM has 200 hidden units which is equivalent to the dimensionality of the embedding words and output.</li>\n",
        "</ul>\n",
        "<br>\n"
      ]
    },
    {
      "cell_type": "markdown",
      "metadata": {
        "id": "bf8b88ac-f063-44ba-a8b1-0d52755721f7"
      },
      "source": [
        "There is a lot to be done and a ton of information to process at the same time, so go over this code slowly. It may seem complex at first, but if you try to apply what you just learned about language modelling to the code you see, you should be able to understand it.\n",
        "\n",
        "This code is adapted from the <a href=\"https://github.com/tensorflow/models\">PTBModel</a> example bundled with the TensorFlow source code.\n",
        "\n",
        "\n",
        "<h3>Training data</h3>\n",
        "The story starts from data:\n",
        "<ul>\n",
        "    <li>Train data is a list of words, of size 929589, represented by numbers, e.g. [9971, 9972, 9974, 9975,...]</li>\n",
        "    <li>We read data as mini-batch of size b=30. Assume the size of each sentence is 20 words (num_steps = 20). Then it will take $$floor(\\frac{N}{b \\times h})+1=1548$$ iterations for the learner to go through all sentences once. Where N is the size of the list of words, b is batch size, and h is size of each sentence. So, the number of iterators is 1548\n",
        "    </li>\n",
        "    <li>Each batch data is read from train dataset of size 600, and shape of [30x20]</li>\n",
        "</ul>\n"
      ]
    },
    {
      "cell_type": "code",
      "execution_count": 7,
      "metadata": {
        "id": "d1f43ab5-6d25-4009-a70f-76ef9bd75a48"
      },
      "outputs": [],
      "source": [
        "# Reads the data and separates it into training data, validation data and testing data\n",
        "raw_data = ptb_raw_data(data_dir)\n",
        "train_data, valid_data, test_data, vocab, word_to_id = raw_data"
      ]
    },
    {
      "cell_type": "code",
      "execution_count": 8,
      "metadata": {
        "colab": {
          "base_uri": "https://localhost:8080/"
        },
        "id": "d7975bcb-719b-4763-bde3-b52821fb6b6c",
        "outputId": "5216dcf4-355c-4842-8574-ad7455a416b9"
      },
      "outputs": [
        {
          "output_type": "execute_result",
          "data": {
            "text/plain": [
              "929589"
            ]
          },
          "metadata": {},
          "execution_count": 8
        }
      ],
      "source": [
        "len(train_data)"
      ]
    },
    {
      "cell_type": "code",
      "execution_count": 9,
      "metadata": {
        "colab": {
          "base_uri": "https://localhost:8080/"
        },
        "id": "0708576d-5611-451f-aec7-d26b99725fea",
        "outputId": "28e953c9-c18b-4c05-e2be-a8e3dd247248"
      },
      "outputs": [
        {
          "output_type": "stream",
          "name": "stdout",
          "text": [
            "['aer', 'banknote', 'berlitz', 'calloway', 'centrust', 'cluett', 'fromstein', 'gitano', 'guterman', 'hydro-quebec', 'ipo', 'kia', 'memotec', 'mlx', 'nahb', 'punts', 'rake', 'regatta', 'rubens', 'sim', 'snack-food', 'ssangyong', 'swapo', 'wachter', '<eos>', 'pierre', '<unk>', 'N', 'years', 'old', 'will', 'join', 'the', 'board', 'as', 'a', 'nonexecutive', 'director', 'nov.', 'N', '<eos>', 'mr.', '<unk>', 'is', 'chairman', 'of', '<unk>', 'n.v.', 'the', 'dutch', 'publishing', 'group', '<eos>', 'rudolph', '<unk>', 'N', 'years', 'old', 'and', 'former', 'chairman', 'of', 'consolidated', 'gold', 'fields', 'plc', 'was', 'named', 'a', 'nonexecutive', 'director', 'of', 'this', 'british', 'industrial', 'conglomerate', '<eos>', 'a', 'form', 'of', 'asbestos', 'once', 'used', 'to', 'make', 'kent', 'cigarette', 'filters', 'has', 'caused', 'a', 'high', 'percentage', 'of', 'cancer', 'deaths', 'among', 'a', 'group', 'of']\n"
          ]
        }
      ],
      "source": [
        "def id_to_word(id_list):\n",
        "    line = []\n",
        "    for w in id_list:\n",
        "        for word, wid in word_to_id.items():\n",
        "            if wid == w:\n",
        "                line.append(word)\n",
        "    return line\n",
        "\n",
        "\n",
        "print(id_to_word(train_data[0:100]))"
      ]
    },
    {
      "cell_type": "markdown",
      "metadata": {
        "id": "a82edaee-5801-4221-bd72-16705fc32c21"
      },
      "source": [
        "Lets just read one mini-batch now and feed our network:\n"
      ]
    },
    {
      "cell_type": "code",
      "execution_count": 10,
      "metadata": {
        "id": "b112d6e0-065d-43cd-8722-43478add148d"
      },
      "outputs": [],
      "source": [
        "itera = ptb_iterator(train_data, batch_size, num_steps)\n",
        "first_touple = itera.__next__()\n",
        "_input_data = first_touple[0]\n",
        "_targets = first_touple[1]"
      ]
    },
    {
      "cell_type": "code",
      "execution_count": 11,
      "metadata": {
        "colab": {
          "base_uri": "https://localhost:8080/"
        },
        "id": "74e36e06-6aab-431e-9918-acb78cc3d4cc",
        "outputId": "1b7330e4-7947-406c-ea4c-4320ba675ff3"
      },
      "outputs": [
        {
          "output_type": "execute_result",
          "data": {
            "text/plain": [
              "(30, 20)"
            ]
          },
          "metadata": {},
          "execution_count": 11
        }
      ],
      "source": [
        "_input_data.shape"
      ]
    },
    {
      "cell_type": "code",
      "execution_count": 12,
      "metadata": {
        "colab": {
          "base_uri": "https://localhost:8080/"
        },
        "id": "587b8b54-667c-4efb-bbd6-a0055603e36a",
        "outputId": "db4001ef-9a05-4563-deab-0566c97fd3f0"
      },
      "outputs": [
        {
          "output_type": "execute_result",
          "data": {
            "text/plain": [
              "(30, 20)"
            ]
          },
          "metadata": {},
          "execution_count": 12
        }
      ],
      "source": [
        "_targets.shape"
      ]
    },
    {
      "cell_type": "markdown",
      "metadata": {
        "id": "658bd9df-c368-4135-a20c-72374a01a98c"
      },
      "source": [
        "Lets look at 3 sentences of our input x:\n"
      ]
    },
    {
      "cell_type": "code",
      "execution_count": 13,
      "metadata": {
        "colab": {
          "base_uri": "https://localhost:8080/"
        },
        "id": "816c6db4-6d08-485f-a673-c4ef95617bba",
        "outputId": "ffe15a5d-4fe9-470b-9035-ea646d23170d"
      },
      "outputs": [
        {
          "output_type": "execute_result",
          "data": {
            "text/plain": [
              "array([[9970, 9971, 9972, 9974, 9975, 9976, 9980, 9981, 9982, 9983, 9984,\n",
              "        9986, 9987, 9988, 9989, 9991, 9992, 9993, 9994, 9995],\n",
              "       [2654,    6,  334, 2886,    4,    1,  233,  711,  834,   11,  130,\n",
              "         123,    7,  514,    2,   63,   10,  514,    8,  605],\n",
              "       [   0, 1071,    4,    0,  185,   24,  368,   20,   31, 3109,  954,\n",
              "          12,    3,   21,    2, 2915,    2,   12,    3,   21]],\n",
              "      dtype=int32)"
            ]
          },
          "metadata": {},
          "execution_count": 13
        }
      ],
      "source": [
        "_input_data[0:3]"
      ]
    },
    {
      "cell_type": "code",
      "execution_count": 14,
      "metadata": {
        "colab": {
          "base_uri": "https://localhost:8080/"
        },
        "id": "320614d9-0e70-4396-a51b-cc6392c4c58b",
        "outputId": "72d30dac-a6cf-417e-82cc-f6728adf08b8"
      },
      "outputs": [
        {
          "output_type": "stream",
          "name": "stdout",
          "text": [
            "['aer', 'banknote', 'berlitz', 'calloway', 'centrust', 'cluett', 'fromstein', 'gitano', 'guterman', 'hydro-quebec', 'ipo', 'kia', 'memotec', 'mlx', 'nahb', 'punts', 'rake', 'regatta', 'rubens', 'sim']\n"
          ]
        }
      ],
      "source": [
        "print(id_to_word(_input_data[0,:]))"
      ]
    },
    {
      "cell_type": "markdown",
      "metadata": {
        "id": "5e4c28a7-09fc-4cf3-b627-4f8bf783fddb"
      },
      "source": [
        "<h3>Embeddings</h3>\n",
        "We have to convert the words in our dataset to vectors of numbers. The traditional approach is to use one-hot encoding method that is usually used for converting categorical values to numerical values. However, One-hot encoded vectors are high-dimensional, sparse and in a big dataset, computationally inefficient. So, we use word2vec approach. It is, in fact, a layer in our LSTM network, where the word IDs will be represented as a dense representation before feeding to the LSTM.\n",
        "\n",
        "The embedded vectors also get updated during the training process of the deep neural network.\n",
        "We create the embeddings for our input data. <b>embedding_vocab</b> is matrix of [10000x200] for all 10000 unique words.\n"
      ]
    },
    {
      "cell_type": "markdown",
      "metadata": {
        "id": "08cbea07-67f6-4773-8bdc-87f1413cbb9e"
      },
      "source": [
        "<b>embedding_lookup()</b> finds the embedded values for our batch of 30x20 words. It  goes to each row of <code>input_data</code>, and for each word in the row/sentence, finds the correspond vector in <code>embedding_dic<code>. <br>\n",
        "It creates a [30x20x200] tensor, so, the first element of <b>inputs</b> (the first sentence), is a matrix of 20x200, which each row of it, is vector representing a word in the sentence.\n"
      ]
    },
    {
      "cell_type": "code",
      "execution_count": 15,
      "metadata": {
        "id": "2279b6d3-ad31-42aa-8fbf-eaa6b0de17bc"
      },
      "outputs": [],
      "source": [
        "embedding_layer = tf.keras.layers.Embedding(vocab_size, embeding_vector_size,batch_input_shape=(batch_size, num_steps),trainable=True,name=\"embedding_vocab\")"
      ]
    },
    {
      "cell_type": "code",
      "execution_count": 16,
      "metadata": {
        "colab": {
          "base_uri": "https://localhost:8080/"
        },
        "id": "d1e9ae4b-aa26-469a-86b5-81d7cc3a5c57",
        "outputId": "b78a9826-3476-463f-ee0a-ccc8804efd2a"
      },
      "outputs": [
        {
          "output_type": "execute_result",
          "data": {
            "text/plain": [
              "<tf.Tensor: shape=(30, 20, 200), dtype=float32, numpy=\n",
              "array([[[ 2.69104280e-02, -3.27023417e-02, -6.23185560e-03, ...,\n",
              "          4.50952388e-02,  6.36532158e-03, -2.74948031e-03],\n",
              "        [ 3.59328054e-02, -1.33926868e-02,  1.46535523e-02, ...,\n",
              "          3.43826525e-02, -6.43631071e-03,  3.37090231e-02],\n",
              "        [ 3.93329896e-02, -2.55328063e-02, -3.00183650e-02, ...,\n",
              "         -4.35547717e-02, -8.23482126e-03,  9.10560042e-03],\n",
              "        ...,\n",
              "        [ 2.60457136e-02,  4.45608012e-02, -2.21340060e-02, ...,\n",
              "         -2.76696216e-02, -1.94600578e-02, -3.38593870e-03],\n",
              "        [ 2.30278857e-02,  1.63098089e-02, -5.12129068e-03, ...,\n",
              "          7.90088251e-03,  3.61914299e-02,  1.20552182e-02],\n",
              "        [ 4.43814062e-02,  2.39072107e-02,  3.30416076e-02, ...,\n",
              "          3.32487710e-02,  4.62424494e-02, -4.73816767e-02]],\n",
              "\n",
              "       [[-3.90803814e-03,  6.44228607e-03, -3.66329439e-02, ...,\n",
              "          1.06674433e-03, -3.30113545e-02, -3.65207344e-03],\n",
              "        [-2.94850003e-02, -2.88216006e-02, -3.07676923e-02, ...,\n",
              "         -2.88043153e-02,  2.87704542e-03,  2.92081721e-02],\n",
              "        [-1.20815635e-02,  3.05940174e-02,  2.72484906e-02, ...,\n",
              "         -3.12849283e-02, -3.71776335e-02, -3.74000296e-02],\n",
              "        ...,\n",
              "        [-2.66421586e-04, -4.67003956e-02, -2.81167030e-02, ...,\n",
              "          4.26076986e-02,  1.70331858e-02, -7.20072538e-04],\n",
              "        [ 4.23792712e-02,  2.28316225e-02, -2.38110423e-02, ...,\n",
              "          2.59509794e-02, -4.82683554e-02,  4.19141315e-02],\n",
              "        [ 1.57707818e-02,  9.11285728e-03, -6.75318390e-03, ...,\n",
              "         -2.80970689e-02, -1.99420583e-02, -1.93282124e-02]],\n",
              "\n",
              "       [[-4.55380343e-02,  1.09688155e-02,  4.71522324e-02, ...,\n",
              "         -1.84209347e-02,  1.80404522e-02, -2.10101008e-02],\n",
              "        [ 4.34944890e-02, -3.93915884e-02,  3.72110680e-03, ...,\n",
              "          2.03670152e-02, -4.81592901e-02,  1.72640570e-02],\n",
              "        [-3.49277258e-03, -3.49082053e-04,  2.69259699e-02, ...,\n",
              "         -2.97382828e-02,  1.30281188e-02,  4.70324606e-03],\n",
              "        ...,\n",
              "        [-2.33314522e-02, -3.66578475e-02,  3.94013040e-02, ...,\n",
              "         -1.04667172e-02,  1.97062604e-02, -4.51134108e-02],\n",
              "        [-3.57139222e-02,  6.01672009e-03,  1.71770714e-02, ...,\n",
              "         -3.70250940e-02,  4.42588665e-02, -4.56150882e-02],\n",
              "        [ 2.57422812e-02,  1.68202259e-02, -2.22045425e-02, ...,\n",
              "          4.73119318e-04, -4.54703718e-03,  4.95491885e-02]],\n",
              "\n",
              "       ...,\n",
              "\n",
              "       [[ 3.01123895e-02, -1.32307634e-02,  7.49735907e-03, ...,\n",
              "         -4.42875624e-02,  1.98390372e-02,  4.09103744e-02],\n",
              "        [-4.54940647e-03, -3.29004675e-02,  2.18282826e-02, ...,\n",
              "         -4.48425785e-02,  1.38505213e-02, -3.20154428e-02],\n",
              "        [ 4.37608622e-02,  1.67483203e-02, -2.20192075e-02, ...,\n",
              "          3.21320556e-02, -3.68226878e-02, -2.39562877e-02],\n",
              "        ...,\n",
              "        [-1.81478634e-02,  4.12628539e-02,  1.43987797e-02, ...,\n",
              "         -4.02598381e-02,  2.97895931e-02, -7.00354576e-04],\n",
              "        [ 1.32423900e-02,  3.70828770e-02, -3.94132026e-02, ...,\n",
              "          3.12651321e-03, -4.72750068e-02,  4.62181494e-03],\n",
              "        [ 3.10303308e-02,  7.83551484e-04, -7.34742731e-03, ...,\n",
              "          2.05671452e-02, -1.97273493e-02,  1.26834773e-02]],\n",
              "\n",
              "       [[ 4.32390086e-02, -3.55573297e-02,  2.30485238e-02, ...,\n",
              "          2.66200416e-02, -1.79250240e-02,  3.62204053e-02],\n",
              "        [-4.95237485e-02,  2.43523605e-02, -4.54966426e-02, ...,\n",
              "         -4.01298776e-02, -1.06197000e-02,  2.96840556e-02],\n",
              "        [-3.49277258e-03, -3.49082053e-04,  2.69259699e-02, ...,\n",
              "         -2.97382828e-02,  1.30281188e-02,  4.70324606e-03],\n",
              "        ...,\n",
              "        [-3.96726727e-02,  6.49499893e-03,  1.00123063e-02, ...,\n",
              "         -3.07731275e-02, -8.16241652e-03, -6.62944466e-03],\n",
              "        [-2.94850003e-02, -2.88216006e-02, -3.07676923e-02, ...,\n",
              "         -2.88043153e-02,  2.87704542e-03,  2.92081721e-02],\n",
              "        [-3.28222662e-03,  2.80706994e-02, -1.05506293e-02, ...,\n",
              "          1.33911520e-03,  3.62429731e-02,  4.54197079e-03]],\n",
              "\n",
              "       [[ 3.43760513e-02, -1.54853463e-02,  4.84725721e-02, ...,\n",
              "          3.83779146e-02, -7.44724274e-03, -4.06786092e-02],\n",
              "        [ 4.54766490e-02,  4.94120978e-02, -4.99539971e-02, ...,\n",
              "         -4.16553728e-02, -3.17796320e-03, -1.77663788e-02],\n",
              "        [-9.18135047e-05,  3.83565761e-02, -9.80604440e-04, ...,\n",
              "         -2.07057483e-02,  4.97204065e-03, -2.68594157e-02],\n",
              "        ...,\n",
              "        [ 4.51089479e-02,  1.30275972e-02, -1.20878592e-02, ...,\n",
              "          8.96595791e-03,  2.64853351e-02,  5.55646420e-03],\n",
              "        [ 2.27250196e-02, -1.75893679e-02,  4.21737321e-02, ...,\n",
              "          3.05400975e-02,  1.75826624e-03, -2.89995316e-02],\n",
              "        [ 2.11929567e-02,  2.04968490e-02,  4.95111607e-02, ...,\n",
              "         -2.86431313e-02, -3.00926808e-02,  9.94514301e-03]]],\n",
              "      dtype=float32)>"
            ]
          },
          "metadata": {},
          "execution_count": 16
        }
      ],
      "source": [
        "# Define where to get the data for our embeddings from\n",
        "inputs = embedding_layer(_input_data)\n",
        "inputs"
      ]
    },
    {
      "cell_type": "markdown",
      "metadata": {
        "id": "c75681fb-0fd0-4162-89b7-4b6d3948f4f5"
      },
      "source": [
        "<h3>Constructing Recurrent Neural Networks</h3>\n"
      ]
    },
    {
      "cell_type": "markdown",
      "metadata": {
        "id": "a418212c-044a-4ebe-a54c-da08043bcced"
      },
      "source": [
        "In this step, we create the stacked LSTM using <b>tf.keras.layers.StackedRNNCells</b>, which is a 2 layer LSTM network:\n"
      ]
    },
    {
      "cell_type": "code",
      "execution_count": 17,
      "metadata": {
        "id": "30dffacf-10ef-42c5-bd13-e2cc682610d7"
      },
      "outputs": [],
      "source": [
        "lstm_cell_l1 = tf.keras.layers.LSTMCell(hidden_size_l1)\n",
        "lstm_cell_l2 = tf.keras.layers.LSTMCell(hidden_size_l2)"
      ]
    },
    {
      "cell_type": "code",
      "execution_count": 18,
      "metadata": {
        "id": "52b495b1-1b30-4228-b17b-2787c5c7ec99"
      },
      "outputs": [],
      "source": [
        "stacked_lstm = tf.keras.layers.StackedRNNCells([lstm_cell_l1, lstm_cell_l2])"
      ]
    },
    {
      "cell_type": "markdown",
      "metadata": {
        "id": "91ee64b9-c60f-4189-9d30-99c04a18a7b7"
      },
      "source": [
        "<b>tf.keras.layers.RNN</b> creates a recurrent neural network using <b>stacked_lstm</b>.\n",
        "\n",
        "The input should be a Tensor of shape: [batch_size, max_time, embedding_vector_size], in our case it would be (30, 20, 200)\n"
      ]
    },
    {
      "cell_type": "code",
      "execution_count": 19,
      "metadata": {
        "id": "2c463fe1-a079-45b0-87ba-fcf78f23df0e"
      },
      "outputs": [],
      "source": [
        "layer  =  tf.keras.layers.RNN(stacked_lstm,[batch_size, num_steps],return_state=False,stateful=True,trainable=True)"
      ]
    },
    {
      "cell_type": "markdown",
      "metadata": {
        "id": "a562ac61-5cba-4d1a-a49f-61679408994c"
      },
      "source": [
        "Also, we initialize the states of the nework:\n",
        "\n",
        "<h4>_initial_state</h4>\n",
        "\n",
        "For each LSTM, there are 2 state matrices, c\\_state and m\\_state.  c_state and m_state represent \"Memory State\" and \"Cell State\". Each hidden layer, has a vector of size 30, which keeps the states. so, for 200 hidden units in each LSTM, we have a matrix of size [30x200]\n"
      ]
    },
    {
      "cell_type": "code",
      "execution_count": 20,
      "metadata": {
        "id": "ca0d3944-a084-4f1a-ba13-7c68e5966194"
      },
      "outputs": [],
      "source": [
        "init_state = tf.Variable(tf.zeros([batch_size,embeding_vector_size]),trainable=False)"
      ]
    },
    {
      "cell_type": "code",
      "execution_count": 21,
      "metadata": {
        "id": "c4c248c5-db17-486e-8d92-6e43279761d2"
      },
      "outputs": [],
      "source": [
        "layer.inital_state = init_state"
      ]
    },
    {
      "cell_type": "code",
      "execution_count": 22,
      "metadata": {
        "colab": {
          "base_uri": "https://localhost:8080/"
        },
        "id": "3f145d10-a956-49b2-89d6-3eb342735117",
        "outputId": "8483a066-fdf6-4deb-e2ed-5e5f599c0051"
      },
      "outputs": [
        {
          "output_type": "execute_result",
          "data": {
            "text/plain": [
              "<tf.Variable 'Variable:0' shape=(30, 200) dtype=float32, numpy=\n",
              "array([[0., 0., 0., ..., 0., 0., 0.],\n",
              "       [0., 0., 0., ..., 0., 0., 0.],\n",
              "       [0., 0., 0., ..., 0., 0., 0.],\n",
              "       ...,\n",
              "       [0., 0., 0., ..., 0., 0., 0.],\n",
              "       [0., 0., 0., ..., 0., 0., 0.],\n",
              "       [0., 0., 0., ..., 0., 0., 0.]], dtype=float32)>"
            ]
          },
          "metadata": {},
          "execution_count": 22
        }
      ],
      "source": [
        "layer.inital_state"
      ]
    },
    {
      "cell_type": "markdown",
      "metadata": {
        "id": "7382a289-e3b9-4bfe-957b-e73a51dd8882"
      },
      "source": [
        "so, lets look at the outputs. The output of the stackedLSTM comes from 128 hidden_layer, and in each time step(=20), one of them get activated. we use the linear activation to map the 128 hidden layer to a [30X20 matrix]\n"
      ]
    },
    {
      "cell_type": "code",
      "execution_count": 23,
      "metadata": {
        "id": "148dae18-c6a2-466f-ac00-7a9494c40533"
      },
      "outputs": [],
      "source": [
        "outputs = layer(inputs)"
      ]
    },
    {
      "cell_type": "code",
      "execution_count": 24,
      "metadata": {
        "colab": {
          "base_uri": "https://localhost:8080/"
        },
        "id": "d787ad09-e7ec-4a1e-9ced-0686d7d4eab0",
        "outputId": "47229376-4e96-44ee-9090-14e322263522"
      },
      "outputs": [
        {
          "output_type": "execute_result",
          "data": {
            "text/plain": [
              "<tf.Tensor: shape=(30, 20, 128), dtype=float32, numpy=\n",
              "array([[[-3.1066229e-04, -7.7102630e-04,  1.1516988e-03, ...,\n",
              "         -6.0742942e-04,  4.9804657e-04, -3.1199856e-04],\n",
              "        [-2.2272724e-03, -1.5118698e-03,  5.5990182e-04, ...,\n",
              "          7.0034235e-04,  7.9597911e-04, -2.2343855e-04],\n",
              "        [-3.2163335e-03, -1.7671845e-03,  1.9104767e-04, ...,\n",
              "          2.2708094e-03,  3.0859024e-04,  2.9330293e-04],\n",
              "        ...,\n",
              "        [-6.1521437e-03,  5.9385998e-03, -6.2753921e-03, ...,\n",
              "         -1.9806023e-03,  4.7519282e-03,  2.7114297e-03],\n",
              "        [-6.0360311e-03,  6.1726356e-03, -6.0881274e-03, ...,\n",
              "         -2.6473764e-03,  3.7115316e-03,  2.0303230e-03],\n",
              "        [-5.8361655e-03,  6.0729175e-03, -5.0085974e-03, ...,\n",
              "         -3.2023550e-03,  1.9985177e-03,  2.5488443e-03]],\n",
              "\n",
              "       [[ 1.8365540e-04, -4.2274807e-04, -5.5027433e-04, ...,\n",
              "          1.0847786e-04, -4.2066938e-04, -9.1855426e-04],\n",
              "        [-1.0663250e-03,  4.0294437e-04, -1.0335497e-04, ...,\n",
              "         -5.5400317e-04,  7.1125937e-04,  2.6477635e-04],\n",
              "        [-2.1144848e-03,  7.2965887e-04, -1.5089431e-04, ...,\n",
              "         -9.8349142e-04,  1.0945532e-03,  4.5287178e-04],\n",
              "        ...,\n",
              "        [ 2.1971958e-03,  8.1877800e-04,  6.3021397e-03, ...,\n",
              "          1.0084186e-03, -8.4927276e-04,  1.0017921e-03],\n",
              "        [ 2.9205596e-03,  1.0970193e-03,  4.2333854e-03, ...,\n",
              "          1.0110561e-03, -2.4995634e-03,  1.9538023e-03],\n",
              "        [ 3.9090170e-03,  1.5736141e-03,  3.2671632e-03, ...,\n",
              "          6.3385867e-04, -2.3208866e-03,  9.8213612e-04]],\n",
              "\n",
              "       [[ 6.0922239e-04,  9.4953802e-04,  1.2465346e-03, ...,\n",
              "          1.9753652e-04, -1.0592756e-04, -3.0096050e-04],\n",
              "        [ 1.8034989e-03,  8.3243655e-04,  1.5924722e-03, ...,\n",
              "         -9.9571748e-04,  7.3618378e-04, -2.3078606e-03],\n",
              "        [ 2.4864324e-03,  2.9102611e-04,  1.7197032e-03, ...,\n",
              "         -7.7940756e-04,  8.6528179e-04, -3.7579152e-03],\n",
              "        ...,\n",
              "        [ 5.0346637e-03,  5.0214375e-03,  1.8712420e-03, ...,\n",
              "         -1.8939018e-03,  3.3961437e-03, -6.4414944e-03],\n",
              "        [ 5.4992186e-03,  4.8300424e-03,  1.5604048e-03, ...,\n",
              "         -1.7057788e-03,  3.3452897e-03, -6.6831429e-03],\n",
              "        [ 4.4581415e-03,  4.5759031e-03,  8.7868003e-04, ...,\n",
              "         -2.6076478e-03,  3.2886725e-03, -6.3631353e-03]],\n",
              "\n",
              "       ...,\n",
              "\n",
              "       [[ 1.1203142e-03, -5.3742563e-04, -3.2443259e-04, ...,\n",
              "         -1.5847334e-04,  2.3389031e-05,  9.4483182e-04],\n",
              "        [ 2.3030490e-03, -2.2163943e-03,  6.8625130e-05, ...,\n",
              "          1.3992590e-03, -1.6982305e-03,  2.9366007e-03],\n",
              "        [ 1.8797859e-03, -3.3993400e-03,  1.4020262e-04, ...,\n",
              "          3.1730507e-03, -2.7597002e-03,  3.5872182e-03],\n",
              "        ...,\n",
              "        [ 1.5830133e-03, -1.2297753e-03,  3.8418693e-03, ...,\n",
              "          2.8045473e-03, -3.1070313e-03, -5.5316850e-03],\n",
              "        [ 2.9268085e-03,  3.7811382e-04,  5.2462583e-03, ...,\n",
              "          2.7378520e-03, -1.6870466e-03, -4.7226348e-03],\n",
              "        [ 3.7620873e-03,  1.8073689e-03,  5.5430750e-03, ...,\n",
              "          3.5972882e-03, -1.2457237e-03, -3.1625186e-03]],\n",
              "\n",
              "       [[ 7.8535540e-04,  4.4253614e-04,  6.0225488e-04, ...,\n",
              "         -9.8404184e-04, -9.1653143e-04, -2.0901636e-04],\n",
              "        [ 9.4077515e-04,  6.8034261e-04,  1.1401895e-03, ...,\n",
              "         -2.9322137e-03, -4.4781886e-04,  2.1127106e-04],\n",
              "        [ 1.2813089e-03,  3.2155332e-04,  1.6967671e-03, ...,\n",
              "         -2.8720202e-03, -3.8196798e-04, -3.2652065e-04],\n",
              "        ...,\n",
              "        [-5.2520307e-03,  3.1572403e-03, -4.0234448e-03, ...,\n",
              "         -3.5368712e-03,  4.5458768e-03,  6.4351573e-03],\n",
              "        [-7.0801233e-03,  3.8252559e-03, -3.5936031e-03, ...,\n",
              "         -3.7374729e-03,  6.0702679e-03,  9.0470472e-03],\n",
              "        [-7.0327087e-03,  5.0818766e-03, -1.7015686e-03, ...,\n",
              "         -2.6404292e-03,  5.8716349e-03,  9.3154116e-03]],\n",
              "\n",
              "       [[-1.1512726e-03, -7.2444486e-04,  4.1818502e-04, ...,\n",
              "          2.2673688e-03, -1.0605792e-03,  1.1981537e-03],\n",
              "        [-1.9754383e-03, -1.0641430e-03,  1.8013010e-03, ...,\n",
              "          5.1067397e-03, -3.0064143e-03,  2.9202034e-03],\n",
              "        [-1.4142757e-03, -1.4226821e-03,  2.9361036e-03, ...,\n",
              "          7.0674508e-03, -4.7309496e-03,  4.4173277e-03],\n",
              "        ...,\n",
              "        [-3.7575751e-03,  7.2540571e-03, -5.5802183e-04, ...,\n",
              "         -1.2481838e-03,  9.6308987e-04,  4.8813396e-03],\n",
              "        [-4.8009451e-03,  7.0172758e-03, -1.3262129e-03, ...,\n",
              "         -1.6864259e-03,  2.3255118e-03,  4.1957730e-03],\n",
              "        [-4.6532410e-03,  7.5242477e-03, -2.3766931e-03, ...,\n",
              "         -2.6373821e-03,  4.2152433e-03,  5.5646054e-03]]], dtype=float32)>"
            ]
          },
          "metadata": {},
          "execution_count": 24
        }
      ],
      "source": [
        "outputs"
      ]
    },
    {
      "cell_type": "markdown",
      "metadata": {
        "id": "3112b168-6085-4b8d-9499-a0be2c6507c1"
      },
      "source": [
        "<h2>Dense layer</h2>\n",
        "We now create densely-connected neural network layer that would reshape the outputs tensor from  [30 x 20 x 128] to [30 x 20 x 10000].\n"
      ]
    },
    {
      "cell_type": "code",
      "execution_count": 25,
      "metadata": {
        "id": "44e687f7-058f-4ab7-b5cc-c5ff1dee336f"
      },
      "outputs": [],
      "source": [
        "dense = tf.keras.layers.Dense(vocab_size)"
      ]
    },
    {
      "cell_type": "code",
      "execution_count": 26,
      "metadata": {
        "id": "c7dab3a2-cb6a-4673-9ac4-157a14fe3404"
      },
      "outputs": [],
      "source": [
        "logits_outputs  = dense(outputs)"
      ]
    },
    {
      "cell_type": "code",
      "execution_count": 27,
      "metadata": {
        "colab": {
          "base_uri": "https://localhost:8080/"
        },
        "id": "b5a7960e-254e-4f77-b652-c2a585a51696",
        "outputId": "66574548-a943-4a0a-d419-6ab9ca3a7561"
      },
      "outputs": [
        {
          "output_type": "stream",
          "name": "stdout",
          "text": [
            "shape of the output from dense layer:  (30, 20, 10000)\n"
          ]
        }
      ],
      "source": [
        "print(\"shape of the output from dense layer: \", logits_outputs.shape) #(batch_size, sequence_length, vocab_size)"
      ]
    },
    {
      "cell_type": "markdown",
      "metadata": {
        "id": "515809a3-ed7f-4a52-81ee-b6c7709a64dd"
      },
      "source": [
        "<h2>Activation layer</h2>\n",
        "\n",
        "\n",
        "A softmax activation layers is also then applied to derive the probability of the output being in any of the multiclass(10000 in this case) possibilities.\n"
      ]
    },
    {
      "cell_type": "code",
      "execution_count": 28,
      "metadata": {
        "id": "bc272c0e-72c2-44c0-abbc-a18f765e0950"
      },
      "outputs": [],
      "source": [
        "activation = tf.keras.layers.Activation('softmax')"
      ]
    },
    {
      "cell_type": "code",
      "execution_count": 29,
      "metadata": {
        "id": "c1d48d6a-bb40-4cef-95de-8085981af285"
      },
      "outputs": [],
      "source": [
        "output_words_prob = activation(logits_outputs)"
      ]
    },
    {
      "cell_type": "code",
      "execution_count": 30,
      "metadata": {
        "colab": {
          "base_uri": "https://localhost:8080/"
        },
        "id": "c948ccba-db65-4166-89d1-4b67629bd69f",
        "outputId": "1ca1cc59-c5ce-4606-f971-50479b680215"
      },
      "outputs": [
        {
          "output_type": "stream",
          "name": "stdout",
          "text": [
            "shape of the output from the activation layer:  (30, 20, 10000)\n"
          ]
        }
      ],
      "source": [
        "print(\"shape of the output from the activation layer: \", output_words_prob.shape) #(batch_size, sequence_length, vocab_size)"
      ]
    },
    {
      "cell_type": "markdown",
      "metadata": {
        "id": "70244eee-fb9c-4aa6-b85a-62131f477801"
      },
      "source": [
        "Lets look at the probability of observing words for t=0 to t=20:\n"
      ]
    },
    {
      "cell_type": "code",
      "execution_count": 31,
      "metadata": {
        "colab": {
          "base_uri": "https://localhost:8080/"
        },
        "id": "76f1a338-2c3f-409a-8cbc-43bdc5e2d05d",
        "outputId": "532ce35a-1fac-4aa9-9544-abd45cefcbc0"
      },
      "outputs": [
        {
          "output_type": "stream",
          "name": "stdout",
          "text": [
            "The probability of observing words in t=0 to t=20 tf.Tensor(\n",
            "[[1.00001700e-04 1.00010941e-04 9.99991171e-05 ... 9.99976255e-05\n",
            "  1.00003192e-04 9.99949843e-05]\n",
            " [1.00006837e-04 1.00047197e-04 1.00000958e-04 ... 9.99912882e-05\n",
            "  1.00008132e-04 9.99959811e-05]\n",
            " [1.00009878e-04 1.00078563e-04 1.00020523e-04 ... 9.99964832e-05\n",
            "  1.00029341e-04 9.99714975e-05]\n",
            " ...\n",
            " [1.00015335e-04 1.00032426e-04 1.00058001e-04 ... 1.00055586e-04\n",
            "  1.00026526e-04 1.00017744e-04]\n",
            " [9.99992189e-05 1.00018471e-04 1.00035664e-04 ... 1.00047226e-04\n",
            "  1.00038400e-04 1.00022873e-04]\n",
            " [9.99969197e-05 1.00019184e-04 1.00011661e-04 ... 1.00032288e-04\n",
            "  1.00044548e-04 1.00007564e-04]], shape=(20, 10000), dtype=float32)\n"
          ]
        }
      ],
      "source": [
        "print(\"The probability of observing words in t=0 to t=20\", output_words_prob[0,0:num_steps])"
      ]
    },
    {
      "cell_type": "markdown",
      "metadata": {
        "id": "11181f57-e6e0-4dca-b96b-d1b52372c233"
      },
      "source": [
        "<h3>Prediction</h3>\n",
        "What is the word correspond to the probability output? Lets use the maximum probability:\n"
      ]
    },
    {
      "cell_type": "code",
      "execution_count": 32,
      "metadata": {
        "colab": {
          "base_uri": "https://localhost:8080/"
        },
        "id": "8e4ad2e4-6e54-4ada-8c49-2be1eb873897",
        "outputId": "8e1050f7-f9d3-4bc2-c53a-38edbf3af4de"
      },
      "outputs": [
        {
          "output_type": "execute_result",
          "data": {
            "text/plain": [
              "array([4612, 7633, 7633, 5000, 4972, 3279, 8902, 9286, 9286, 9286, 3105,\n",
              "       9836, 7531, 7531, 7202, 7202, 1989, 1989, 1989, 3218])"
            ]
          },
          "metadata": {},
          "execution_count": 32
        }
      ],
      "source": [
        "np.argmax(output_words_prob[0,0:num_steps], axis=1)"
      ]
    },
    {
      "cell_type": "markdown",
      "metadata": {
        "id": "d88e6949-26e7-44e9-8e6c-2b9a18630ae9"
      },
      "source": [
        "So, what is the ground truth for the first word of first sentence? You can get it from target tensor, if you want to find the embedding vector:\n"
      ]
    },
    {
      "cell_type": "code",
      "execution_count": 33,
      "metadata": {
        "colab": {
          "base_uri": "https://localhost:8080/"
        },
        "id": "21a53f88-3ba2-42b6-981f-290afecb8328",
        "outputId": "06837b42-a445-430d-f381-65a31e788bed"
      },
      "outputs": [
        {
          "output_type": "execute_result",
          "data": {
            "text/plain": [
              "array([9971, 9972, 9974, 9975, 9976, 9980, 9981, 9982, 9983, 9984, 9986,\n",
              "       9987, 9988, 9989, 9991, 9992, 9993, 9994, 9995, 9996], dtype=int32)"
            ]
          },
          "metadata": {},
          "execution_count": 33
        }
      ],
      "source": [
        "_targets[0]"
      ]
    },
    {
      "cell_type": "markdown",
      "metadata": {
        "id": "9ed2a392-ed12-44dc-aea2-56e94108bb68"
      },
      "source": [
        "<h4>Objective function</h4>\n",
        "\n",
        "\n",
        "How similar the predicted words are to the target words?\n",
        "\n",
        "\n",
        "Now we have to define our objective function, to calculate the similarity of predicted values to ground truth, and then, penalize the model with the error. Our objective is to minimize loss function, that is, to minimize the average negative log probability of the target words:\n",
        "\n",
        "$$\\text{loss} = -\\frac{1}{N}\\sum_{i=1}^{N} \\ln p_{\\text{target}_i}$$\n",
        "\n",
        "This function is already implemented and available in TensorFlow through *tf.keras.losses.sparse_categorical_crossentropy*. It calculates the categorical cross-entropy loss for <b>logits</b> and the <b>target</b> sequence.  \n",
        "\n",
        "The arguments of this function are:  \n",
        "<ul>\n",
        "    <li>logits: List of 2D Tensors of shape [batch_size x num_decoder_symbols].</li>  \n",
        "    <li>targets: List of 1D batch-sized int32 Tensors of the same length as logits.</li>   \n",
        "</ul>\n"
      ]
    },
    {
      "cell_type": "code",
      "execution_count": 34,
      "metadata": {
        "id": "5d893dd4-3c5c-41bf-ada0-6163c858a25d"
      },
      "outputs": [],
      "source": [
        "def crossentropy(y_true, y_pred):\n",
        "    return tf.keras.losses.sparse_categorical_crossentropy(y_true, y_pred)"
      ]
    },
    {
      "cell_type": "code",
      "execution_count": 35,
      "metadata": {
        "id": "69aa36ef-65e3-4899-98f3-8113c39bc169"
      },
      "outputs": [],
      "source": [
        "loss  = crossentropy(_targets, output_words_prob)"
      ]
    },
    {
      "cell_type": "markdown",
      "metadata": {
        "id": "94a81f95-bce4-4040-86c2-50460a5b63f8"
      },
      "source": [
        "Lets look at the first 10 values of loss:\n"
      ]
    },
    {
      "cell_type": "code",
      "execution_count": 36,
      "metadata": {
        "colab": {
          "base_uri": "https://localhost:8080/"
        },
        "id": "23dabaa7-7b4f-4891-a8ab-7549e3bb41d9",
        "outputId": "b8d50df5-c84e-4427-ac13-374a03bd6cfc"
      },
      "outputs": [
        {
          "output_type": "execute_result",
          "data": {
            "text/plain": [
              "<tf.Tensor: shape=(10,), dtype=float32, numpy=\n",
              "array([9.210485, 9.210036, 9.210218, 9.210235, 9.210338, 9.210573,\n",
              "       9.209623, 9.210584, 9.20962 , 9.209611], dtype=float32)>"
            ]
          },
          "metadata": {},
          "execution_count": 36
        }
      ],
      "source": [
        "loss[0,:10]"
      ]
    },
    {
      "cell_type": "markdown",
      "metadata": {
        "id": "aa13fc94-1dcd-4a0f-902b-5301413c6b13"
      },
      "source": [
        "Now, we define cost as average of the losses:\n"
      ]
    },
    {
      "cell_type": "code",
      "execution_count": 37,
      "metadata": {
        "colab": {
          "base_uri": "https://localhost:8080/"
        },
        "id": "7efdee77-c64c-4f77-a165-77d6ade35998",
        "outputId": "319f016d-c097-4dc7-ac22-2d241f1d5538"
      },
      "outputs": [
        {
          "output_type": "execute_result",
          "data": {
            "text/plain": [
              "<tf.Tensor: shape=(), dtype=float32, numpy=184.20677>"
            ]
          },
          "metadata": {},
          "execution_count": 37
        }
      ],
      "source": [
        "cost = tf.reduce_sum(loss / batch_size)\n",
        "cost"
      ]
    },
    {
      "cell_type": "markdown",
      "metadata": {
        "id": "0516d682-2a2e-4795-a095-f475bf87b32f"
      },
      "source": [
        "<h3>Training</h3>\n",
        "\n",
        "To do training for our network, we have to take the following steps:\n",
        "<ol>\n",
        "    <li>Define the optimizer.</li>\n",
        "    <li>Assemble layers to build model.</li>\n",
        "    <li>Calculate the gradients based on the loss function.</li>\n",
        "    <li>Apply the optimizer to the variables/gradients tuple.</li>\n",
        "</ol>\n"
      ]
    },
    {
      "cell_type": "markdown",
      "metadata": {
        "id": "31412c8f-c49c-425b-bf7d-dcb828261fc8"
      },
      "source": [
        "<h4>1. Define Optimizer</h4>\n",
        "\n"
      ]
    },
    {
      "cell_type": "code",
      "execution_count": 38,
      "metadata": {
        "id": "201ca93f-78d6-4c76-9e35-d353f3dee5c2"
      },
      "outputs": [],
      "source": [
        "# Create a variable for the learning rate\n",
        "lr = tf.Variable(0.0, trainable=False)\n",
        "optimizer = tf.keras.optimizers.SGD(lr=lr, clipnorm=max_grad_norm)"
      ]
    },
    {
      "cell_type": "markdown",
      "metadata": {
        "id": "5500eac5-771a-46af-b12b-562bda099cce"
      },
      "source": [
        "<h4>2. Assemble layers to build model.</h4>\n"
      ]
    },
    {
      "cell_type": "code",
      "execution_count": 39,
      "metadata": {
        "colab": {
          "base_uri": "https://localhost:8080/"
        },
        "id": "3c5bcda8-8e07-43a9-a5a3-9f43a392dbc4",
        "outputId": "690c5829-cea9-4b99-cf2e-490b52ffe64a"
      },
      "outputs": [
        {
          "output_type": "stream",
          "name": "stdout",
          "text": [
            "Model: \"sequential\"\n",
            "_________________________________________________________________\n",
            " Layer (type)                Output Shape              Param #   \n",
            "=================================================================\n",
            " embedding_vocab (Embedding  (30, 20, 200)             2000000   \n",
            " )                                                               \n",
            "                                                                 \n",
            " rnn (RNN)                   (30, 20, 128)             671088    \n",
            "                                                                 \n",
            " dense (Dense)               (30, 20, 10000)           1290000   \n",
            "                                                                 \n",
            " activation (Activation)     (30, 20, 10000)           0         \n",
            "                                                                 \n",
            "=================================================================\n",
            "Total params: 3961088 (15.11 MB)\n",
            "Trainable params: 3955088 (15.09 MB)\n",
            "Non-trainable params: 6000 (23.44 KB)\n",
            "_________________________________________________________________\n"
          ]
        }
      ],
      "source": [
        "model = tf.keras.Sequential()\n",
        "model.add(embedding_layer)\n",
        "model.add(layer)\n",
        "model.add(dense)\n",
        "model.add(activation)\n",
        "model.compile(loss=crossentropy, optimizer=optimizer)\n",
        "model.summary()"
      ]
    },
    {
      "cell_type": "markdown",
      "metadata": {
        "id": "e7ef0f31-9e2b-4076-8b5d-56759b8d342c"
      },
      "source": [
        "\n",
        "<h4>2. Trainable Variables</h4>\n"
      ]
    },
    {
      "cell_type": "markdown",
      "metadata": {
        "id": "687495f4-f1b1-4341-9f86-7a98779d623d"
      },
      "source": [
        "Defining a variable, if you passed <i>trainable=True</i>, the variable constructor automatically adds new variables to the graph collection <b>GraphKeys.TRAINABLE_VARIABLES</b>. Now, using <i>tf.trainable_variables()</i> you can get all variables created with <b>trainable=True</b>.\n"
      ]
    },
    {
      "cell_type": "code",
      "execution_count": 40,
      "metadata": {
        "id": "2173595b-e544-4b5d-88c2-8a051f778739"
      },
      "outputs": [],
      "source": [
        "# Get all TensorFlow variables marked as \"trainable\" (i.e. all of them except _lr, which we just created)\n",
        "tvars = model.trainable_variables"
      ]
    },
    {
      "cell_type": "markdown",
      "metadata": {
        "id": "d1216065-fa94-43b2-afda-8d729c00b176"
      },
      "source": [
        "Note: we can find the name and scope of all variables:\n"
      ]
    },
    {
      "cell_type": "code",
      "execution_count": 41,
      "metadata": {
        "colab": {
          "base_uri": "https://localhost:8080/"
        },
        "id": "32190ac9-1f86-40b7-98e3-0b87f8d07a1f",
        "outputId": "365bf180-a3ae-44db-802f-bb9e76353671"
      },
      "outputs": [
        {
          "output_type": "execute_result",
          "data": {
            "text/plain": [
              "['embedding_vocab/embeddings:0',\n",
              " 'rnn/stacked_rnn_cells/lstm_cell/kernel:0',\n",
              " 'rnn/stacked_rnn_cells/lstm_cell/recurrent_kernel:0',\n",
              " 'rnn/stacked_rnn_cells/lstm_cell/bias:0',\n",
              " 'rnn/stacked_rnn_cells/lstm_cell_1/kernel:0',\n",
              " 'rnn/stacked_rnn_cells/lstm_cell_1/recurrent_kernel:0',\n",
              " 'rnn/stacked_rnn_cells/lstm_cell_1/bias:0',\n",
              " 'dense/kernel:0',\n",
              " 'dense/bias:0']"
            ]
          },
          "metadata": {},
          "execution_count": 41
        }
      ],
      "source": [
        "[v.name for v in tvars]"
      ]
    },
    {
      "cell_type": "markdown",
      "metadata": {
        "id": "ade9b9fa-f4fa-4cc3-a85e-40c4c43e3460"
      },
      "source": [
        "<h4>3. Calculate the gradients based on the loss function</h4>\n"
      ]
    },
    {
      "cell_type": "markdown",
      "metadata": {
        "id": "5b730515-51e1-4de4-a998-37b58afb57fc"
      },
      "source": [
        "**Gradient**: The gradient of a function is the slope of its derivative (line), or in other words, the rate of change of a function. It's a vector (a direction to move) that points in the direction of greatest increase of the function, and calculated by the <b>derivative</b> operation.\n"
      ]
    },
    {
      "cell_type": "markdown",
      "metadata": {
        "id": "64c625f4-ed77-433f-ba77-946eb44ab67a"
      },
      "source": [
        "First lets recall the gradient function using an toy example:\n",
        "$$ z = \\left(2x^2 + 3xy\\right)$$\n"
      ]
    },
    {
      "cell_type": "code",
      "execution_count": 42,
      "metadata": {
        "id": "2428fa22-53e2-47d0-a8b3-4dc10567a0f9"
      },
      "outputs": [],
      "source": [
        "x = tf.constant(1.0)\n",
        "y =  tf.constant(2.0)\n",
        "with tf.GradientTape(persistent=True) as g:\n",
        "    g.watch(x)\n",
        "    g.watch(y)\n",
        "    func_test = 2 * x * x + 3 * x * y"
      ]
    },
    {
      "cell_type": "markdown",
      "metadata": {
        "id": "a042f0d0-8881-4b15-a26b-2cc31472be53"
      },
      "source": [
        "The <b>tf.gradients()</b> function allows you to compute the symbolic gradient of one tensor with respect to one or more other tensors—including variables. <b>tf.gradients(func, xs)</b> constructs symbolic partial derivatives of sum of <b>func</b> w.r.t. <i>x</i> in <b>xs</b>.\n",
        "\n",
        "Now, lets look at the derivitive w.r.t. <b>var_x</b>:\n",
        "$$ \\frac{\\partial \\:}{\\partial \\:x}\\left(2x^2 + 3xy\\right) = 4x + 3y $$\n"
      ]
    },
    {
      "cell_type": "code",
      "execution_count": 43,
      "metadata": {
        "colab": {
          "base_uri": "https://localhost:8080/"
        },
        "id": "27fbdae5-3d2e-4ef1-a8d7-762c194b4d86",
        "outputId": "70c42f53-8044-4ad2-8471-938374485ce0"
      },
      "outputs": [
        {
          "output_type": "stream",
          "name": "stdout",
          "text": [
            "tf.Tensor(10.0, shape=(), dtype=float32)\n"
          ]
        }
      ],
      "source": [
        "var_grad = g.gradient(func_test, x) # Will compute to 10.0\n",
        "print(var_grad)"
      ]
    },
    {
      "cell_type": "markdown",
      "metadata": {
        "id": "74a1da28-9288-4895-98ba-6c1faa4929a2"
      },
      "source": [
        "the derivative w.r.t. <b>var_y</b>:\n",
        "$$ \\frac{\\partial \\:}{\\partial \\:y}\\left(2x^2 + 3xy\\right) = 3x $$\n"
      ]
    },
    {
      "cell_type": "code",
      "execution_count": 44,
      "metadata": {
        "colab": {
          "base_uri": "https://localhost:8080/"
        },
        "id": "104040cd-2feb-4bd1-bb9a-ee166a950a0e",
        "outputId": "49be7195-ba4c-4c16-9323-3d55096ec552"
      },
      "outputs": [
        {
          "output_type": "stream",
          "name": "stdout",
          "text": [
            "tf.Tensor(3.0, shape=(), dtype=float32)\n"
          ]
        }
      ],
      "source": [
        "var_grad = g.gradient(func_test, y) # Will compute to 3.0\n",
        "print(var_grad)"
      ]
    },
    {
      "cell_type": "markdown",
      "metadata": {
        "id": "3717febe-dc0b-4b12-a1c1-44c9a456173c"
      },
      "source": [
        "Now, we can look at gradients w.r.t all variables:\n"
      ]
    },
    {
      "cell_type": "code",
      "execution_count": 45,
      "metadata": {
        "id": "be4349e1-80de-4f39-9aac-b147fafc64b5"
      },
      "outputs": [],
      "source": [
        "with tf.GradientTape() as tape:\n",
        "    # Forward pass.\n",
        "    output_words_prob = model(_input_data)\n",
        "    # Loss value for this batch.\n",
        "    loss  = crossentropy(_targets, output_words_prob)\n",
        "    cost = tf.reduce_sum(loss,axis=0) / batch_size"
      ]
    },
    {
      "cell_type": "code",
      "execution_count": 46,
      "metadata": {
        "id": "95992ce1-768e-4117-ae65-e049664f65b4"
      },
      "outputs": [],
      "source": [
        "# Get gradients of loss wrt the trainable variables.\n",
        "grad_t_list = tape.gradient(cost, tvars)"
      ]
    },
    {
      "cell_type": "code",
      "execution_count": 47,
      "metadata": {
        "colab": {
          "base_uri": "https://localhost:8080/"
        },
        "id": "5dad41c3-ab9f-4658-a6f8-8109296ddbef",
        "outputId": "d75db7eb-1473-498b-d5c0-f9b57a72ddf3"
      },
      "outputs": [
        {
          "output_type": "stream",
          "name": "stdout",
          "text": [
            "[<tensorflow.python.framework.indexed_slices.IndexedSlices object at 0x797c0db92ad0>, <tf.Tensor: shape=(200, 1024), dtype=float32, numpy=\n",
            "array([[-6.6219854e-07,  1.5498540e-07, -6.1201575e-08, ...,\n",
            "         3.0051251e-07, -4.1987732e-07,  1.7964553e-07],\n",
            "       [-1.6332308e-07,  6.8716432e-08,  1.0496331e-06, ...,\n",
            "        -2.9558242e-07,  4.9800866e-07, -9.4295970e-08],\n",
            "       [ 1.1571881e-06, -8.3482774e-07, -5.2991430e-07, ...,\n",
            "        -1.2452617e-07,  4.5694293e-07, -1.2074116e-07],\n",
            "       ...,\n",
            "       [-2.4819536e-07, -6.2261881e-07,  8.7599079e-07, ...,\n",
            "         1.1420710e-08, -1.3453646e-07, -4.1763936e-08],\n",
            "       [ 4.9501318e-07,  5.2687341e-08, -2.2139980e-07, ...,\n",
            "        -1.1044124e-07, -2.4387924e-07, -3.0710694e-07],\n",
            "       [-4.6990586e-08,  3.5630401e-07,  6.6164523e-07, ...,\n",
            "         1.9106942e-08,  3.2699811e-07, -2.3604851e-07]], dtype=float32)>, <tf.Tensor: shape=(256, 1024), dtype=float32, numpy=\n",
            "array([[-5.11488238e-08, -1.93238435e-07, -1.15014132e-08, ...,\n",
            "        -1.34228173e-07,  1.67980787e-07,  1.53154200e-08],\n",
            "       [ 5.46225198e-09,  1.54422040e-08, -2.43835530e-08, ...,\n",
            "        -5.42812444e-08, -1.49498121e-07,  7.48932010e-08],\n",
            "       [ 3.92368555e-08, -6.67636897e-08,  5.48324728e-08, ...,\n",
            "         8.44307451e-08, -6.45142393e-08,  9.34490387e-08],\n",
            "       ...,\n",
            "       [ 3.64782373e-08,  1.07415033e-07, -4.40877947e-08, ...,\n",
            "        -3.30939258e-07, -1.89818593e-07,  7.06239263e-08],\n",
            "       [ 1.29775515e-08,  9.71744996e-09, -1.52014152e-08, ...,\n",
            "         9.74049357e-08,  3.74634737e-07,  5.08377873e-09],\n",
            "       [-9.40869143e-08,  5.46778836e-08,  1.24906506e-07, ...,\n",
            "        -8.68725323e-08, -7.01816560e-08, -6.33793107e-08]], dtype=float32)>, <tf.Tensor: shape=(1024,), dtype=float32, numpy=\n",
            "array([ 5.8536107e-06, -2.1629476e-05, -5.2127134e-06, ...,\n",
            "        6.6924804e-06,  3.1006417e-05, -8.1541884e-06], dtype=float32)>, <tf.Tensor: shape=(256, 512), dtype=float32, numpy=\n",
            "array([[ 1.25353239e-07,  1.37054926e-07, -1.52386860e-07, ...,\n",
            "         1.53761633e-07,  1.16177958e-07,  3.63280037e-07],\n",
            "       [ 3.96572489e-07,  6.37118731e-08,  2.81567694e-08, ...,\n",
            "        -9.25106605e-08, -1.15605062e-07, -3.90584667e-08],\n",
            "       [-3.47470177e-08, -8.65971685e-08,  8.45464569e-08, ...,\n",
            "         8.71743140e-08, -1.10218188e-07,  5.62052023e-08],\n",
            "       ...,\n",
            "       [-3.68493545e-07,  2.57414179e-08,  2.24818191e-08, ...,\n",
            "        -1.03512008e-08, -1.79617686e-07, -1.70432656e-07],\n",
            "       [-5.91328444e-08,  1.43912047e-07,  1.14273035e-08, ...,\n",
            "        -1.26043787e-07, -1.06252763e-07, -2.53271182e-08],\n",
            "       [ 4.30572754e-07,  2.52846171e-08, -3.35691155e-08, ...,\n",
            "         3.20296635e-07,  2.39992772e-07, -8.91981955e-08]], dtype=float32)>, <tf.Tensor: shape=(128, 512), dtype=float32, numpy=\n",
            "array([[-2.4384761e-07, -2.4481929e-07,  1.4435846e-08, ...,\n",
            "         9.5218773e-08, -1.6839689e-08, -9.9702348e-08],\n",
            "       [ 1.4497746e-07,  8.9733874e-09, -5.4820973e-08, ...,\n",
            "         7.4784623e-10,  8.9565830e-09,  1.7951095e-07],\n",
            "       [ 5.1421761e-08,  9.9040093e-08,  2.6731893e-08, ...,\n",
            "        -3.5554823e-08,  1.1896162e-07,  3.7171452e-07],\n",
            "       ...,\n",
            "       [-3.3298775e-08,  2.0982892e-08,  2.2816558e-08, ...,\n",
            "        -9.1254890e-08, -1.6532564e-07,  8.5492893e-08],\n",
            "       [ 1.3904375e-07, -1.2746223e-07, -2.4823095e-09, ...,\n",
            "         3.0172558e-08,  1.7536580e-07, -1.1849691e-07],\n",
            "       [-1.1827204e-07, -3.1586589e-07, -1.9037583e-07, ...,\n",
            "        -1.1859058e-08, -4.2457525e-08, -5.3893638e-07]], dtype=float32)>, <tf.Tensor: shape=(512,), dtype=float32, numpy=\n",
            "array([ 2.23504467e-05,  3.07192386e-05, -3.55023403e-05, -1.96139608e-05,\n",
            "        1.88306003e-05,  1.53664423e-05, -4.06799918e-05,  6.82215832e-05,\n",
            "       -2.90130865e-05,  1.65650836e-05,  3.13935416e-05,  1.43254083e-05,\n",
            "       -3.56655164e-06, -2.10059170e-05,  1.25642391e-05, -5.90655254e-05,\n",
            "        4.85770979e-05,  4.40568328e-05, -3.87572873e-05,  4.70984160e-05,\n",
            "       -7.97871962e-06, -4.92818617e-06,  3.63324289e-05, -1.61447315e-06,\n",
            "        2.78846601e-05, -4.37764866e-05, -1.90725259e-05, -1.80302868e-06,\n",
            "        7.37482969e-06, -2.93203739e-05,  4.42072196e-05, -2.60248962e-05,\n",
            "        3.51238414e-05, -2.53020480e-05,  3.90010537e-05,  4.65853373e-05,\n",
            "        2.21328337e-05,  1.17190430e-05,  6.52679009e-05,  1.54669178e-05,\n",
            "       -4.64568147e-05, -6.67787799e-06,  2.82789824e-05, -9.51225084e-05,\n",
            "       -1.44310670e-05,  6.59977886e-05,  4.05106948e-06,  1.53444562e-04,\n",
            "       -5.66125436e-07, -2.52135324e-05,  6.72859242e-05, -6.84014667e-05,\n",
            "       -3.81608297e-05,  2.29320722e-05, -2.74397989e-05, -1.33665653e-05,\n",
            "       -5.29602221e-06,  3.11929398e-05, -3.06160582e-05,  3.08062408e-05,\n",
            "        6.43579460e-06, -5.29351382e-05,  3.08712652e-06,  8.46255571e-05,\n",
            "        3.00072206e-05, -1.89209240e-05, -6.58804129e-05,  4.53409393e-06,\n",
            "       -2.29106045e-05,  1.27478352e-05, -5.34136052e-05,  1.11739555e-05,\n",
            "       -6.33838954e-06,  2.63203619e-05,  4.08274391e-05,  1.79447707e-05,\n",
            "        1.30942299e-05,  1.13775741e-05, -1.14763970e-05,  1.68552251e-05,\n",
            "       -3.58627658e-05,  6.24719687e-05,  7.29192107e-06, -1.85353565e-05,\n",
            "        2.81697648e-05,  1.85848057e-05,  2.13015664e-06,  9.10745075e-06,\n",
            "        4.29835418e-05,  5.12515326e-05, -2.87400344e-05, -6.24608538e-06,\n",
            "       -3.40597035e-05,  4.73385335e-05, -1.07060536e-04, -7.61796618e-05,\n",
            "        1.21320554e-05, -3.89369507e-06, -2.88217707e-05, -4.12041263e-05,\n",
            "       -7.38947256e-06, -2.16297194e-05, -5.46797019e-05, -9.37452205e-06,\n",
            "       -1.91412255e-05,  2.60019442e-05, -3.01208383e-05, -1.26336701e-04,\n",
            "        3.88228582e-05,  1.57567847e-05,  2.51060774e-05, -2.53371491e-05,\n",
            "       -5.57623607e-05, -7.87655517e-06,  6.19655884e-06, -2.00308496e-05,\n",
            "        3.32155505e-05,  1.30363005e-05, -1.46388147e-05, -4.03921185e-05,\n",
            "        2.33160572e-05, -8.94303230e-06, -5.71768760e-06,  1.08779514e-05,\n",
            "        2.02156771e-05, -7.55292422e-06, -6.42343457e-06,  6.00996282e-05,\n",
            "        3.24702378e-05,  4.32358611e-05, -2.78636799e-05, -3.87597829e-05,\n",
            "        1.40359789e-05,  1.59088049e-05, -4.87054640e-05,  9.15195415e-05,\n",
            "       -5.20961039e-05,  5.82379744e-06,  5.10698919e-05,  3.04589757e-05,\n",
            "        3.91762442e-05, -1.04492356e-05,  3.63358995e-05, -1.00221398e-04,\n",
            "        4.70586892e-05,  5.75591803e-05, -5.07739023e-05,  3.66581626e-05,\n",
            "        3.71467695e-06, -3.41076448e-05,  1.56377864e-05,  1.60732598e-05,\n",
            "        2.86112445e-05, -4.45115256e-05, -2.28923436e-05,  1.59374431e-05,\n",
            "        6.71795215e-06, -3.82417275e-05,  5.19617315e-05, -4.48915562e-05,\n",
            "        6.37960620e-05, -3.74329393e-05,  5.91265816e-05,  6.38961865e-05,\n",
            "        4.32074330e-06,  1.14015666e-06,  1.01702703e-04,  4.03692757e-05,\n",
            "       -4.29130378e-05, -1.09138409e-05,  4.00339341e-05, -1.27785170e-04,\n",
            "        2.11630686e-05,  8.84047986e-05, -2.07047888e-05,  2.28262244e-04,\n",
            "       -1.38285395e-05, -2.61213008e-05,  1.10359979e-04, -8.10641795e-05,\n",
            "       -2.48387114e-05,  4.44544567e-05, -4.18466880e-05, -4.02342012e-05,\n",
            "       -1.92744683e-05,  3.73084185e-05, -5.66269482e-05,  3.94479721e-05,\n",
            "        1.59150222e-05, -5.70056072e-05,  8.76554986e-06,  1.55304268e-04,\n",
            "        2.64803693e-05, -2.25929743e-05, -8.04414085e-05,  2.99897602e-06,\n",
            "       -2.53976414e-05,  1.56775914e-05, -5.37714368e-05,  3.21211191e-05,\n",
            "        3.90050009e-05,  1.45122067e-05,  4.19464268e-05,  3.44299133e-06,\n",
            "        1.31514316e-05,  2.03187337e-05, -1.56548231e-05,  4.25477920e-05,\n",
            "       -2.37184013e-05,  7.20396929e-05,  1.30802800e-05,  1.54110094e-05,\n",
            "        2.56466410e-05,  2.77810941e-05,  2.54520855e-05,  9.44821841e-06,\n",
            "        3.33665703e-05,  9.10587696e-05, -3.21135449e-05, -1.05081326e-05,\n",
            "       -4.06547188e-05,  4.04776001e-05, -1.51474946e-04, -1.30025233e-04,\n",
            "       -1.70318144e-05, -1.02343092e-05, -3.00616703e-05, -7.28258165e-05,\n",
            "        2.66110146e-06, -5.36445223e-05, -6.99678785e-05, -3.12450065e-05,\n",
            "       -1.58542462e-05,  2.56182102e-05, -3.62338542e-05, -1.76317728e-04,\n",
            "        3.37835918e-05,  1.92057960e-05,  1.32891710e-05,  2.60528122e-06,\n",
            "       -7.83380019e-05, -4.92146173e-05,  1.25485749e-05, -4.10520443e-05,\n",
            "        5.45289950e-05,  2.07154517e-05,  5.51919175e-06, -5.87802788e-05,\n",
            "       -7.65460572e-06, -3.16035002e-05,  3.14575436e-06, -8.99390216e-06,\n",
            "        4.48209612e-05, -3.63170784e-06, -1.16612964e-05,  8.33833037e-05,\n",
            "       -2.73073688e-02,  5.90287708e-03, -8.48331116e-03,  5.15102129e-03,\n",
            "       -2.81723752e-03,  2.33027525e-02,  6.08539209e-03, -5.90279847e-02,\n",
            "        3.33492309e-02, -4.18926924e-02, -2.87043713e-02,  6.30536769e-03,\n",
            "       -2.96354648e-02,  1.17597394e-02,  3.25016640e-02, -6.50766864e-02,\n",
            "       -1.17084980e-02, -8.29079933e-03, -4.05484661e-02,  4.44919541e-02,\n",
            "        1.23133045e-02, -1.22365551e-02, -2.39548273e-02,  3.48331928e-02,\n",
            "        2.97595151e-02, -2.43640449e-02, -3.31790522e-02,  2.43459586e-02,\n",
            "       -1.45782400e-02,  4.07904498e-02,  2.16138139e-02,  5.83714666e-03,\n",
            "       -1.82554834e-02, -3.41363996e-02,  2.23218035e-02, -2.97733536e-03,\n",
            "       -9.29582398e-03, -1.09736528e-02,  4.42352518e-02,  3.62785384e-02,\n",
            "       -3.55570167e-02,  5.50927734e-03,  2.81473137e-02,  6.22638538e-02,\n",
            "       -4.76481067e-03, -4.33984697e-02, -5.01858955e-03,  6.75413013e-02,\n",
            "        2.57043820e-03, -1.74429342e-02,  5.01898043e-02,  5.81058040e-02,\n",
            "        6.27604574e-02, -1.78461131e-02,  1.08141750e-02,  2.90541388e-02,\n",
            "        2.39996761e-02, -8.61067791e-03, -1.28231067e-02, -7.07435310e-02,\n",
            "        5.53037506e-03,  2.36388594e-02,  1.23927509e-02,  3.86067368e-02,\n",
            "       -1.71859022e-02, -4.61352617e-03,  3.39288935e-02, -2.28165966e-02,\n",
            "       -2.63287965e-02, -1.02543849e-02,  1.28341876e-02,  1.24442624e-02,\n",
            "       -3.91332433e-04, -4.15816903e-02, -3.44429165e-02,  1.73319019e-02,\n",
            "        2.53109168e-02, -5.83070377e-03, -3.88865098e-02,  3.37076187e-03,\n",
            "        1.84792876e-02, -2.59091705e-02, -1.15599055e-02, -7.11288163e-03,\n",
            "        2.53344849e-02, -5.03972499e-03, -1.30283581e-02, -6.15425524e-04,\n",
            "        3.89499068e-02,  4.75876182e-02,  2.79272888e-02, -4.71402984e-03,\n",
            "       -2.12190188e-02,  5.89789730e-03,  7.45016858e-02, -4.31376025e-02,\n",
            "       -9.55273584e-03, -4.57835421e-02, -3.41680273e-02,  2.34643202e-02,\n",
            "        4.84826835e-03,  4.08613682e-02, -4.48886631e-03,  8.43389519e-03,\n",
            "        5.97157422e-03,  2.54210979e-02,  1.60677778e-03, -4.91922796e-02,\n",
            "        4.40416951e-03,  1.12305228e-02, -1.91597678e-02,  1.51268276e-03,\n",
            "       -1.18500441e-02, -2.02944130e-02, -6.72506317e-02, -3.67876217e-02,\n",
            "       -1.93982702e-02,  1.51542164e-02,  6.90998062e-02,  1.25768855e-02,\n",
            "        8.68904637e-04, -2.07983237e-02,  6.28571659e-02,  5.06262667e-02,\n",
            "       -4.77835070e-04, -9.58212372e-03,  9.43811238e-03, -4.30836044e-02,\n",
            "        3.48179274e-05,  2.83136760e-05, -4.79282171e-05, -2.66987536e-05,\n",
            "        1.84220371e-05,  2.28000426e-05, -4.27498962e-05,  8.47020128e-05,\n",
            "       -4.03504018e-05,  2.03596683e-05,  3.43244756e-05,  2.10851467e-05,\n",
            "        7.45239049e-07, -1.55868674e-05,  3.08404087e-05, -7.57392409e-05,\n",
            "        4.53584435e-05,  4.88888545e-05, -4.97404653e-05,  4.56386551e-05,\n",
            "        6.10903953e-07, -1.28171596e-05,  2.97760835e-05, -1.08697532e-06,\n",
            "        1.82943004e-05, -5.56310588e-05, -2.00303894e-05,  2.55339637e-06,\n",
            "        1.82451913e-06, -2.33100982e-05,  4.68347062e-05, -3.20519466e-05,\n",
            "        4.24818718e-05, -3.40147963e-05,  4.47351340e-05,  4.62222088e-05,\n",
            "        1.79187118e-05,  5.69032272e-06,  8.74233083e-05,  2.51292477e-05,\n",
            "       -5.68247415e-05, -8.49980734e-06,  3.65112392e-05, -1.12642345e-04,\n",
            "       -1.72337677e-05,  7.10887834e-05, -4.02588876e-06,  1.90091305e-04,\n",
            "        6.89993612e-06, -3.02328699e-05,  7.43050332e-05, -8.87940114e-05,\n",
            "       -2.75007696e-05,  2.98062278e-05, -3.77864744e-05, -2.04592325e-05,\n",
            "       -1.58144303e-05,  3.30172297e-05, -2.93516205e-05,  3.33047719e-05,\n",
            "        3.42609360e-06, -6.15839381e-05,  6.60877959e-06,  1.04270075e-04,\n",
            "        3.64754778e-05, -2.51884903e-05, -7.00202363e-05,  7.90940885e-06,\n",
            "       -3.09611787e-05,  1.21460871e-05, -6.71130547e-05,  2.13588373e-05,\n",
            "       -3.90995410e-06,  3.42175917e-05,  4.12428126e-05,  1.24047065e-05,\n",
            "        2.34707732e-05,  1.11055215e-05, -6.35495962e-06,  2.09847076e-05,\n",
            "       -3.26766494e-05,  6.11877404e-05,  5.17193257e-07, -1.69546747e-05,\n",
            "        3.17998711e-05,  1.54131103e-05,  1.38115320e-06,  7.45190664e-06,\n",
            "        4.82469004e-05,  5.40101064e-05, -3.72622962e-05, -1.07516025e-05,\n",
            "       -3.50652226e-05,  4.73269865e-05, -1.26922867e-04, -7.42815464e-05,\n",
            "        1.85485587e-05, -6.37289941e-06, -3.61863640e-05, -4.99836206e-05,\n",
            "       -1.45315034e-05, -2.64804403e-05, -6.39346399e-05, -7.61702722e-06,\n",
            "       -2.38368120e-05,  1.89436469e-05, -3.60370177e-05, -1.40481192e-04,\n",
            "        3.59225087e-05,  1.17969139e-05,  1.47446272e-05, -2.80242166e-05,\n",
            "       -5.77598075e-05, -1.44644091e-05,  1.46286538e-05, -3.25605870e-05,\n",
            "        3.86677493e-05,  1.20889190e-05, -2.25672811e-05, -4.64680634e-05,\n",
            "        2.16403350e-05, -1.35530045e-05, -5.13357600e-06, -5.87594695e-06,\n",
            "        1.45051654e-05, -9.34328364e-06, -7.02822581e-06,  6.33843738e-05],\n",
            "      dtype=float32)>, <tf.Tensor: shape=(128, 10000), dtype=float32, numpy=\n",
            "array([[ 6.6014891e-04,  1.7030824e-03,  1.7556380e-03, ...,\n",
            "        -2.4318219e-06, -2.4301444e-06, -2.4310912e-06],\n",
            "       [-2.3375626e-03, -3.3184711e-03, -2.8332467e-03, ...,\n",
            "         6.0405173e-06,  6.0418070e-06,  6.0396605e-06],\n",
            "       [-3.9378280e-04, -2.1542942e-03, -8.8703935e-04, ...,\n",
            "         1.2534158e-06,  1.2518066e-06,  1.2527889e-06],\n",
            "       ...,\n",
            "       [-5.6477438e-04, -8.7353168e-04, -5.9651450e-04, ...,\n",
            "         2.2160862e-06,  2.2167180e-06,  2.2157080e-06],\n",
            "       [-2.6654612e-04, -1.1802951e-03,  8.8109681e-04, ...,\n",
            "        -1.0352007e-06, -1.0366772e-06, -1.0344066e-06],\n",
            "       [ 2.8213332e-03,  2.4637308e-03,  2.7412653e-03, ...,\n",
            "        -2.5260833e-06, -2.5245140e-06, -2.5236827e-06]], dtype=float32)>, <tf.Tensor: shape=(10000,), dtype=float32, numpy=\n",
            "array([-0.79799795, -1.0313314 , -1.0313319 , ...,  0.00199991,\n",
            "        0.00200028,  0.00199937], dtype=float32)>]\n"
          ]
        }
      ],
      "source": [
        "print(grad_t_list)"
      ]
    },
    {
      "cell_type": "markdown",
      "metadata": {
        "id": "21d37c26-4a04-45fb-879c-51c086228a8e"
      },
      "source": [
        "\n",
        "\n",
        "\n",
        "now, we have a list of tensors, t-list. We can use it to find clipped tensors. <b>clip_by_global_norm</b> clips values of multiple tensors by the ratio of the sum of their norms.\n",
        "\n",
        "<b>clip_by_global_norm</b> get <i>t-list</i> as input and returns 2 things:\n",
        "<ul>\n",
        "    <li>a list of clipped tensors, so called <i>list_clipped</i></li>\n",
        "    <li>the global norm (global_norm) of all tensors in t_list</li>\n",
        "</ul>\n"
      ]
    },
    {
      "cell_type": "code",
      "execution_count": 48,
      "metadata": {
        "colab": {
          "base_uri": "https://localhost:8080/"
        },
        "id": "0c96ef82-a964-4623-bd7b-dce1c5339ef7",
        "outputId": "e7e23efc-e831-4f7b-84f1-3e90dfffa835"
      },
      "outputs": [
        {
          "output_type": "execute_result",
          "data": {
            "text/plain": [
              "[<tensorflow.python.framework.indexed_slices.IndexedSlices at 0x797c0d33bd00>,\n",
              " <tf.Tensor: shape=(200, 1024), dtype=float32, numpy=\n",
              " array([[-6.6219854e-07,  1.5498540e-07, -6.1201575e-08, ...,\n",
              "          3.0051251e-07, -4.1987732e-07,  1.7964553e-07],\n",
              "        [-1.6332308e-07,  6.8716432e-08,  1.0496331e-06, ...,\n",
              "         -2.9558242e-07,  4.9800866e-07, -9.4295970e-08],\n",
              "        [ 1.1571881e-06, -8.3482774e-07, -5.2991430e-07, ...,\n",
              "         -1.2452617e-07,  4.5694293e-07, -1.2074116e-07],\n",
              "        ...,\n",
              "        [-2.4819536e-07, -6.2261881e-07,  8.7599079e-07, ...,\n",
              "          1.1420710e-08, -1.3453646e-07, -4.1763936e-08],\n",
              "        [ 4.9501318e-07,  5.2687341e-08, -2.2139980e-07, ...,\n",
              "         -1.1044124e-07, -2.4387924e-07, -3.0710694e-07],\n",
              "        [-4.6990586e-08,  3.5630401e-07,  6.6164523e-07, ...,\n",
              "          1.9106942e-08,  3.2699811e-07, -2.3604851e-07]], dtype=float32)>,\n",
              " <tf.Tensor: shape=(256, 1024), dtype=float32, numpy=\n",
              " array([[-5.11488238e-08, -1.93238435e-07, -1.15014132e-08, ...,\n",
              "         -1.34228173e-07,  1.67980787e-07,  1.53154200e-08],\n",
              "        [ 5.46225198e-09,  1.54422040e-08, -2.43835530e-08, ...,\n",
              "         -5.42812444e-08, -1.49498121e-07,  7.48932010e-08],\n",
              "        [ 3.92368555e-08, -6.67636897e-08,  5.48324728e-08, ...,\n",
              "          8.44307451e-08, -6.45142393e-08,  9.34490387e-08],\n",
              "        ...,\n",
              "        [ 3.64782373e-08,  1.07415033e-07, -4.40877947e-08, ...,\n",
              "         -3.30939258e-07, -1.89818593e-07,  7.06239263e-08],\n",
              "        [ 1.29775515e-08,  9.71744996e-09, -1.52014152e-08, ...,\n",
              "          9.74049357e-08,  3.74634737e-07,  5.08377873e-09],\n",
              "        [-9.40869143e-08,  5.46778836e-08,  1.24906506e-07, ...,\n",
              "         -8.68725323e-08, -7.01816560e-08, -6.33793107e-08]], dtype=float32)>,\n",
              " <tf.Tensor: shape=(1024,), dtype=float32, numpy=\n",
              " array([ 5.8536107e-06, -2.1629476e-05, -5.2127134e-06, ...,\n",
              "         6.6924804e-06,  3.1006417e-05, -8.1541884e-06], dtype=float32)>,\n",
              " <tf.Tensor: shape=(256, 512), dtype=float32, numpy=\n",
              " array([[ 1.25353239e-07,  1.37054926e-07, -1.52386860e-07, ...,\n",
              "          1.53761633e-07,  1.16177958e-07,  3.63280037e-07],\n",
              "        [ 3.96572489e-07,  6.37118731e-08,  2.81567694e-08, ...,\n",
              "         -9.25106605e-08, -1.15605062e-07, -3.90584667e-08],\n",
              "        [-3.47470177e-08, -8.65971685e-08,  8.45464569e-08, ...,\n",
              "          8.71743140e-08, -1.10218188e-07,  5.62052023e-08],\n",
              "        ...,\n",
              "        [-3.68493545e-07,  2.57414179e-08,  2.24818191e-08, ...,\n",
              "         -1.03512008e-08, -1.79617686e-07, -1.70432656e-07],\n",
              "        [-5.91328444e-08,  1.43912047e-07,  1.14273035e-08, ...,\n",
              "         -1.26043787e-07, -1.06252763e-07, -2.53271182e-08],\n",
              "        [ 4.30572754e-07,  2.52846171e-08, -3.35691155e-08, ...,\n",
              "          3.20296635e-07,  2.39992772e-07, -8.91981955e-08]], dtype=float32)>,\n",
              " <tf.Tensor: shape=(128, 512), dtype=float32, numpy=\n",
              " array([[-2.4384761e-07, -2.4481929e-07,  1.4435846e-08, ...,\n",
              "          9.5218773e-08, -1.6839689e-08, -9.9702348e-08],\n",
              "        [ 1.4497746e-07,  8.9733874e-09, -5.4820973e-08, ...,\n",
              "          7.4784623e-10,  8.9565830e-09,  1.7951095e-07],\n",
              "        [ 5.1421761e-08,  9.9040093e-08,  2.6731893e-08, ...,\n",
              "         -3.5554823e-08,  1.1896162e-07,  3.7171452e-07],\n",
              "        ...,\n",
              "        [-3.3298775e-08,  2.0982892e-08,  2.2816558e-08, ...,\n",
              "         -9.1254890e-08, -1.6532564e-07,  8.5492893e-08],\n",
              "        [ 1.3904375e-07, -1.2746223e-07, -2.4823095e-09, ...,\n",
              "          3.0172558e-08,  1.7536580e-07, -1.1849691e-07],\n",
              "        [-1.1827204e-07, -3.1586589e-07, -1.9037583e-07, ...,\n",
              "         -1.1859058e-08, -4.2457525e-08, -5.3893638e-07]], dtype=float32)>,\n",
              " <tf.Tensor: shape=(512,), dtype=float32, numpy=\n",
              " array([ 2.23504467e-05,  3.07192386e-05, -3.55023403e-05, -1.96139608e-05,\n",
              "         1.88306003e-05,  1.53664423e-05, -4.06799918e-05,  6.82215832e-05,\n",
              "        -2.90130865e-05,  1.65650836e-05,  3.13935416e-05,  1.43254083e-05,\n",
              "        -3.56655164e-06, -2.10059170e-05,  1.25642391e-05, -5.90655254e-05,\n",
              "         4.85770979e-05,  4.40568328e-05, -3.87572873e-05,  4.70984160e-05,\n",
              "        -7.97871962e-06, -4.92818617e-06,  3.63324289e-05, -1.61447315e-06,\n",
              "         2.78846601e-05, -4.37764866e-05, -1.90725259e-05, -1.80302868e-06,\n",
              "         7.37482969e-06, -2.93203739e-05,  4.42072196e-05, -2.60248962e-05,\n",
              "         3.51238414e-05, -2.53020480e-05,  3.90010537e-05,  4.65853373e-05,\n",
              "         2.21328337e-05,  1.17190430e-05,  6.52679009e-05,  1.54669178e-05,\n",
              "        -4.64568147e-05, -6.67787799e-06,  2.82789824e-05, -9.51225084e-05,\n",
              "        -1.44310670e-05,  6.59977886e-05,  4.05106948e-06,  1.53444562e-04,\n",
              "        -5.66125436e-07, -2.52135324e-05,  6.72859242e-05, -6.84014667e-05,\n",
              "        -3.81608297e-05,  2.29320722e-05, -2.74397989e-05, -1.33665653e-05,\n",
              "        -5.29602221e-06,  3.11929398e-05, -3.06160582e-05,  3.08062408e-05,\n",
              "         6.43579460e-06, -5.29351382e-05,  3.08712652e-06,  8.46255571e-05,\n",
              "         3.00072206e-05, -1.89209240e-05, -6.58804129e-05,  4.53409393e-06,\n",
              "        -2.29106045e-05,  1.27478352e-05, -5.34136052e-05,  1.11739555e-05,\n",
              "        -6.33838954e-06,  2.63203619e-05,  4.08274391e-05,  1.79447707e-05,\n",
              "         1.30942299e-05,  1.13775741e-05, -1.14763970e-05,  1.68552251e-05,\n",
              "        -3.58627658e-05,  6.24719687e-05,  7.29192107e-06, -1.85353565e-05,\n",
              "         2.81697648e-05,  1.85848057e-05,  2.13015664e-06,  9.10745075e-06,\n",
              "         4.29835418e-05,  5.12515326e-05, -2.87400344e-05, -6.24608538e-06,\n",
              "        -3.40597035e-05,  4.73385335e-05, -1.07060536e-04, -7.61796618e-05,\n",
              "         1.21320554e-05, -3.89369507e-06, -2.88217707e-05, -4.12041263e-05,\n",
              "        -7.38947256e-06, -2.16297194e-05, -5.46797019e-05, -9.37452205e-06,\n",
              "        -1.91412255e-05,  2.60019442e-05, -3.01208383e-05, -1.26336701e-04,\n",
              "         3.88228582e-05,  1.57567847e-05,  2.51060774e-05, -2.53371491e-05,\n",
              "        -5.57623607e-05, -7.87655517e-06,  6.19655884e-06, -2.00308496e-05,\n",
              "         3.32155505e-05,  1.30363005e-05, -1.46388147e-05, -4.03921185e-05,\n",
              "         2.33160572e-05, -8.94303230e-06, -5.71768760e-06,  1.08779514e-05,\n",
              "         2.02156771e-05, -7.55292422e-06, -6.42343457e-06,  6.00996282e-05,\n",
              "         3.24702378e-05,  4.32358611e-05, -2.78636799e-05, -3.87597829e-05,\n",
              "         1.40359789e-05,  1.59088049e-05, -4.87054640e-05,  9.15195415e-05,\n",
              "        -5.20961039e-05,  5.82379744e-06,  5.10698919e-05,  3.04589757e-05,\n",
              "         3.91762442e-05, -1.04492356e-05,  3.63358995e-05, -1.00221398e-04,\n",
              "         4.70586892e-05,  5.75591803e-05, -5.07739023e-05,  3.66581626e-05,\n",
              "         3.71467695e-06, -3.41076448e-05,  1.56377864e-05,  1.60732598e-05,\n",
              "         2.86112445e-05, -4.45115256e-05, -2.28923436e-05,  1.59374431e-05,\n",
              "         6.71795215e-06, -3.82417275e-05,  5.19617315e-05, -4.48915562e-05,\n",
              "         6.37960620e-05, -3.74329393e-05,  5.91265816e-05,  6.38961865e-05,\n",
              "         4.32074330e-06,  1.14015666e-06,  1.01702703e-04,  4.03692757e-05,\n",
              "        -4.29130378e-05, -1.09138409e-05,  4.00339341e-05, -1.27785170e-04,\n",
              "         2.11630686e-05,  8.84047986e-05, -2.07047888e-05,  2.28262244e-04,\n",
              "        -1.38285395e-05, -2.61213008e-05,  1.10359979e-04, -8.10641795e-05,\n",
              "        -2.48387114e-05,  4.44544567e-05, -4.18466880e-05, -4.02342012e-05,\n",
              "        -1.92744683e-05,  3.73084185e-05, -5.66269482e-05,  3.94479721e-05,\n",
              "         1.59150222e-05, -5.70056072e-05,  8.76554986e-06,  1.55304268e-04,\n",
              "         2.64803693e-05, -2.25929743e-05, -8.04414085e-05,  2.99897602e-06,\n",
              "        -2.53976414e-05,  1.56775914e-05, -5.37714368e-05,  3.21211191e-05,\n",
              "         3.90050009e-05,  1.45122067e-05,  4.19464268e-05,  3.44299133e-06,\n",
              "         1.31514316e-05,  2.03187337e-05, -1.56548231e-05,  4.25477920e-05,\n",
              "        -2.37184013e-05,  7.20396929e-05,  1.30802800e-05,  1.54110094e-05,\n",
              "         2.56466410e-05,  2.77810941e-05,  2.54520855e-05,  9.44821841e-06,\n",
              "         3.33665703e-05,  9.10587696e-05, -3.21135449e-05, -1.05081326e-05,\n",
              "        -4.06547188e-05,  4.04776001e-05, -1.51474946e-04, -1.30025233e-04,\n",
              "        -1.70318144e-05, -1.02343092e-05, -3.00616703e-05, -7.28258165e-05,\n",
              "         2.66110146e-06, -5.36445223e-05, -6.99678785e-05, -3.12450065e-05,\n",
              "        -1.58542462e-05,  2.56182102e-05, -3.62338542e-05, -1.76317728e-04,\n",
              "         3.37835918e-05,  1.92057960e-05,  1.32891710e-05,  2.60528122e-06,\n",
              "        -7.83380019e-05, -4.92146173e-05,  1.25485749e-05, -4.10520443e-05,\n",
              "         5.45289950e-05,  2.07154517e-05,  5.51919175e-06, -5.87802788e-05,\n",
              "        -7.65460572e-06, -3.16035002e-05,  3.14575436e-06, -8.99390216e-06,\n",
              "         4.48209612e-05, -3.63170784e-06, -1.16612964e-05,  8.33833037e-05,\n",
              "        -2.73073688e-02,  5.90287708e-03, -8.48331116e-03,  5.15102129e-03,\n",
              "        -2.81723752e-03,  2.33027525e-02,  6.08539209e-03, -5.90279847e-02,\n",
              "         3.33492309e-02, -4.18926924e-02, -2.87043713e-02,  6.30536769e-03,\n",
              "        -2.96354648e-02,  1.17597394e-02,  3.25016640e-02, -6.50766864e-02,\n",
              "        -1.17084980e-02, -8.29079933e-03, -4.05484661e-02,  4.44919541e-02,\n",
              "         1.23133045e-02, -1.22365551e-02, -2.39548273e-02,  3.48331928e-02,\n",
              "         2.97595151e-02, -2.43640449e-02, -3.31790522e-02,  2.43459586e-02,\n",
              "        -1.45782400e-02,  4.07904498e-02,  2.16138139e-02,  5.83714666e-03,\n",
              "        -1.82554834e-02, -3.41363996e-02,  2.23218035e-02, -2.97733536e-03,\n",
              "        -9.29582398e-03, -1.09736528e-02,  4.42352518e-02,  3.62785384e-02,\n",
              "        -3.55570167e-02,  5.50927734e-03,  2.81473137e-02,  6.22638538e-02,\n",
              "        -4.76481067e-03, -4.33984697e-02, -5.01858955e-03,  6.75413013e-02,\n",
              "         2.57043820e-03, -1.74429342e-02,  5.01898043e-02,  5.81058040e-02,\n",
              "         6.27604574e-02, -1.78461131e-02,  1.08141750e-02,  2.90541388e-02,\n",
              "         2.39996761e-02, -8.61067791e-03, -1.28231067e-02, -7.07435310e-02,\n",
              "         5.53037506e-03,  2.36388594e-02,  1.23927509e-02,  3.86067368e-02,\n",
              "        -1.71859022e-02, -4.61352617e-03,  3.39288935e-02, -2.28165966e-02,\n",
              "        -2.63287965e-02, -1.02543849e-02,  1.28341876e-02,  1.24442624e-02,\n",
              "        -3.91332433e-04, -4.15816903e-02, -3.44429165e-02,  1.73319019e-02,\n",
              "         2.53109168e-02, -5.83070377e-03, -3.88865098e-02,  3.37076187e-03,\n",
              "         1.84792876e-02, -2.59091705e-02, -1.15599055e-02, -7.11288163e-03,\n",
              "         2.53344849e-02, -5.03972499e-03, -1.30283581e-02, -6.15425524e-04,\n",
              "         3.89499068e-02,  4.75876182e-02,  2.79272888e-02, -4.71402984e-03,\n",
              "        -2.12190188e-02,  5.89789730e-03,  7.45016858e-02, -4.31376025e-02,\n",
              "        -9.55273584e-03, -4.57835421e-02, -3.41680273e-02,  2.34643202e-02,\n",
              "         4.84826835e-03,  4.08613682e-02, -4.48886631e-03,  8.43389519e-03,\n",
              "         5.97157422e-03,  2.54210979e-02,  1.60677778e-03, -4.91922796e-02,\n",
              "         4.40416951e-03,  1.12305228e-02, -1.91597678e-02,  1.51268276e-03,\n",
              "        -1.18500441e-02, -2.02944130e-02, -6.72506317e-02, -3.67876217e-02,\n",
              "        -1.93982702e-02,  1.51542164e-02,  6.90998062e-02,  1.25768855e-02,\n",
              "         8.68904637e-04, -2.07983237e-02,  6.28571659e-02,  5.06262667e-02,\n",
              "        -4.77835070e-04, -9.58212372e-03,  9.43811238e-03, -4.30836044e-02,\n",
              "         3.48179274e-05,  2.83136760e-05, -4.79282171e-05, -2.66987536e-05,\n",
              "         1.84220371e-05,  2.28000426e-05, -4.27498962e-05,  8.47020128e-05,\n",
              "        -4.03504018e-05,  2.03596683e-05,  3.43244756e-05,  2.10851467e-05,\n",
              "         7.45239049e-07, -1.55868674e-05,  3.08404087e-05, -7.57392409e-05,\n",
              "         4.53584435e-05,  4.88888545e-05, -4.97404653e-05,  4.56386551e-05,\n",
              "         6.10903953e-07, -1.28171596e-05,  2.97760835e-05, -1.08697532e-06,\n",
              "         1.82943004e-05, -5.56310588e-05, -2.00303894e-05,  2.55339637e-06,\n",
              "         1.82451913e-06, -2.33100982e-05,  4.68347062e-05, -3.20519466e-05,\n",
              "         4.24818718e-05, -3.40147963e-05,  4.47351340e-05,  4.62222088e-05,\n",
              "         1.79187118e-05,  5.69032272e-06,  8.74233083e-05,  2.51292477e-05,\n",
              "        -5.68247415e-05, -8.49980734e-06,  3.65112392e-05, -1.12642345e-04,\n",
              "        -1.72337677e-05,  7.10887834e-05, -4.02588876e-06,  1.90091305e-04,\n",
              "         6.89993612e-06, -3.02328699e-05,  7.43050332e-05, -8.87940114e-05,\n",
              "        -2.75007696e-05,  2.98062278e-05, -3.77864744e-05, -2.04592325e-05,\n",
              "        -1.58144303e-05,  3.30172297e-05, -2.93516205e-05,  3.33047719e-05,\n",
              "         3.42609360e-06, -6.15839381e-05,  6.60877959e-06,  1.04270075e-04,\n",
              "         3.64754778e-05, -2.51884903e-05, -7.00202363e-05,  7.90940885e-06,\n",
              "        -3.09611787e-05,  1.21460871e-05, -6.71130547e-05,  2.13588373e-05,\n",
              "        -3.90995410e-06,  3.42175917e-05,  4.12428126e-05,  1.24047065e-05,\n",
              "         2.34707732e-05,  1.11055215e-05, -6.35495962e-06,  2.09847076e-05,\n",
              "        -3.26766494e-05,  6.11877404e-05,  5.17193257e-07, -1.69546747e-05,\n",
              "         3.17998711e-05,  1.54131103e-05,  1.38115320e-06,  7.45190664e-06,\n",
              "         4.82469004e-05,  5.40101064e-05, -3.72622962e-05, -1.07516025e-05,\n",
              "        -3.50652226e-05,  4.73269865e-05, -1.26922867e-04, -7.42815464e-05,\n",
              "         1.85485587e-05, -6.37289941e-06, -3.61863640e-05, -4.99836206e-05,\n",
              "        -1.45315034e-05, -2.64804403e-05, -6.39346399e-05, -7.61702722e-06,\n",
              "        -2.38368120e-05,  1.89436469e-05, -3.60370177e-05, -1.40481192e-04,\n",
              "         3.59225087e-05,  1.17969139e-05,  1.47446272e-05, -2.80242166e-05,\n",
              "        -5.77598075e-05, -1.44644091e-05,  1.46286538e-05, -3.25605870e-05,\n",
              "         3.86677493e-05,  1.20889190e-05, -2.25672811e-05, -4.64680634e-05,\n",
              "         2.16403350e-05, -1.35530045e-05, -5.13357600e-06, -5.87594695e-06,\n",
              "         1.45051654e-05, -9.34328364e-06, -7.02822581e-06,  6.33843738e-05],\n",
              "       dtype=float32)>,\n",
              " <tf.Tensor: shape=(128, 10000), dtype=float32, numpy=\n",
              " array([[ 6.6014891e-04,  1.7030824e-03,  1.7556380e-03, ...,\n",
              "         -2.4318219e-06, -2.4301444e-06, -2.4310912e-06],\n",
              "        [-2.3375626e-03, -3.3184711e-03, -2.8332467e-03, ...,\n",
              "          6.0405173e-06,  6.0418070e-06,  6.0396605e-06],\n",
              "        [-3.9378280e-04, -2.1542942e-03, -8.8703935e-04, ...,\n",
              "          1.2534158e-06,  1.2518066e-06,  1.2527889e-06],\n",
              "        ...,\n",
              "        [-5.6477438e-04, -8.7353168e-04, -5.9651450e-04, ...,\n",
              "          2.2160862e-06,  2.2167180e-06,  2.2157080e-06],\n",
              "        [-2.6654612e-04, -1.1802951e-03,  8.8109681e-04, ...,\n",
              "         -1.0352007e-06, -1.0366772e-06, -1.0344066e-06],\n",
              "        [ 2.8213332e-03,  2.4637308e-03,  2.7412653e-03, ...,\n",
              "         -2.5260833e-06, -2.5245140e-06, -2.5236827e-06]], dtype=float32)>,\n",
              " <tf.Tensor: shape=(10000,), dtype=float32, numpy=\n",
              " array([-0.79799795, -1.0313314 , -1.0313319 , ...,  0.00199991,\n",
              "         0.00200028,  0.00199937], dtype=float32)>]"
            ]
          },
          "metadata": {},
          "execution_count": 48
        }
      ],
      "source": [
        "# Define the gradient clipping threshold\n",
        "grads, _ = tf.clip_by_global_norm(grad_t_list, max_grad_norm)\n",
        "grads"
      ]
    },
    {
      "cell_type": "markdown",
      "metadata": {
        "id": "c46b66fa-29b2-4fcd-a8ad-51adf110d694"
      },
      "source": [
        "<h4> 4.Apply the optimizer to the variables/gradients tuple. </h4>\n"
      ]
    },
    {
      "cell_type": "code",
      "execution_count": 49,
      "metadata": {
        "id": "6dd4e0b8-fa55-4fe2-8b94-15d9f01d7bf3"
      },
      "outputs": [],
      "source": [
        "# Create the training TensorFlow Operation through our optimizer\n",
        "train_op = optimizer.apply_gradients(zip(grads, tvars))"
      ]
    },
    {
      "cell_type": "markdown",
      "metadata": {
        "id": "bbef4c4b-d403-46cc-bb83-58c398e5fb0d"
      },
      "source": [
        "<a id=\"ltsm\"></a>\n",
        "<h2>LSTM</h2>\n"
      ]
    },
    {
      "cell_type": "markdown",
      "metadata": {
        "id": "102a5f98-327b-4290-8a3f-905fbf3847eb"
      },
      "source": [
        "We learned how the model is build step by step. Noe, let's then create a Class that represents our model. This class needs a few things:\n",
        "<ul>\n",
        "    <li>We have to create the model in accordance with our defined hyperparameters</li>\n",
        "    <li>We have to create the LSTM cell structure and connect them with our RNN structure</li>\n",
        "    <li>We have to create the word embeddings and point them to the input data</li>\n",
        "    <li>We have to create the input structure for our RNN</li>\n",
        "    <li>We need to create a logistic structure to return the probability of our words</li>\n",
        "    <li>We need to create the loss and cost functions for our optimizer to work, and then create the optimizer</li>\n",
        "    <li>And finally, we need to create a training operation that can be run to actually train our model</li>\n",
        "</ul>\n"
      ]
    },
    {
      "cell_type": "code",
      "execution_count": 50,
      "metadata": {
        "id": "f233006d-16fc-4db5-a860-abdc0e8429c7"
      },
      "outputs": [],
      "source": [
        "class PTBModel(object):\n",
        "\n",
        "\n",
        "    def __init__(self):\n",
        "        ######################################\n",
        "        # Setting parameters for ease of use #\n",
        "        ######################################\n",
        "        self.batch_size = batch_size\n",
        "        self.num_steps = num_steps\n",
        "        self.hidden_size_l1 = hidden_size_l1\n",
        "        self.hidden_size_l2 = hidden_size_l2\n",
        "        self.vocab_size = vocab_size\n",
        "        self.embeding_vector_size = embeding_vector_size\n",
        "        # Create a variable for the learning rate\n",
        "        self._lr = 1.0\n",
        "\n",
        "        ###############################################################################\n",
        "        # Initializing the model using keras Sequential API  #\n",
        "        ###############################################################################\n",
        "\n",
        "        self._model = tf.keras.models.Sequential()\n",
        "\n",
        "        ####################################################################\n",
        "        # Creating the word embeddings layer and adding it to the sequence #\n",
        "        ####################################################################\n",
        "        with tf.device(\"/cpu:0\"):\n",
        "            # Create the embeddings for our input data. Size is hidden size.\n",
        "            self._embedding_layer = tf.keras.layers.Embedding(self.vocab_size, self.embeding_vector_size,batch_input_shape=(self.batch_size, self.num_steps),trainable=True,name=\"embedding_vocab\")  #[10000x200]\n",
        "            self._model.add(self._embedding_layer)\n",
        "\n",
        "\n",
        "        ##########################################################################\n",
        "        # Creating the LSTM cell structure and connect it with the RNN structure #\n",
        "        ##########################################################################\n",
        "        # Create the LSTM Cells.\n",
        "        # This creates only the structure for the LSTM and has to be associated with a RNN unit still.\n",
        "        # The argument  of LSTMCell is size of hidden layer, that is, the number of hidden units of the LSTM (inside A).\n",
        "        # LSTM cell processes one word at a time and computes probabilities of the possible continuations of the sentence.\n",
        "        lstm_cell_l1 = tf.keras.layers.LSTMCell(hidden_size_l1)\n",
        "        lstm_cell_l2 = tf.keras.layers.LSTMCell(hidden_size_l2)\n",
        "\n",
        "\n",
        "\n",
        "        # By taking in the LSTM cells as parameters, the StackedRNNCells function junctions the LSTM units to the RNN units.\n",
        "        # RNN cell composed sequentially of stacked simple cells.\n",
        "        stacked_lstm = tf.keras.layers.StackedRNNCells([lstm_cell_l1, lstm_cell_l2])\n",
        "\n",
        "\n",
        "\n",
        "\n",
        "        ############################################\n",
        "        # Creating the input structure for our RNN #\n",
        "        ############################################\n",
        "        # Input structure is 20x[30x200]\n",
        "        # Considering each word is represended by a 200 dimentional vector, and we have 30 batchs, we create 30 word-vectors of size [30xx2000]\n",
        "        # The input structure is fed from the embeddings, which are filled in by the input data\n",
        "        # Feeding a batch of b sentences to a RNN:\n",
        "        # In step 1,  first word of each of the b sentences (in a batch) is input in parallel.\n",
        "        # In step 2,  second word of each of the b sentences is input in parallel.\n",
        "        # The parallelism is only for efficiency.\n",
        "        # Each sentence in a batch is handled in parallel, but the network sees one word of a sentence at a time and does the computations accordingly.\n",
        "        # All the computations involving the words of all sentences in a batch at a given time step are done in parallel.\n",
        "\n",
        "        ########################################################################################################\n",
        "        # Instantiating our RNN model and setting stateful to True to feed forward the state to the next layer #\n",
        "        ########################################################################################################\n",
        "\n",
        "        self._RNNlayer  =  tf.keras.layers.RNN(stacked_lstm,[batch_size, num_steps],return_state=False,stateful=True,trainable=True)\n",
        "\n",
        "        # Define the initial state, i.e., the model state for the very first data point\n",
        "        # It initialize the state of the LSTM memory. The memory state of the network is initialized with a vector of zeros and gets updated after reading each word.\n",
        "        self._initial_state = tf.Variable(tf.zeros([batch_size,embeding_vector_size]),trainable=False)\n",
        "        self._RNNlayer.inital_state = self._initial_state\n",
        "\n",
        "        ############################################\n",
        "        # Adding RNN layer to keras sequential API #\n",
        "        ############################################\n",
        "        self._model.add(self._RNNlayer)\n",
        "\n",
        "        #self._model.add(tf.keras.layers.LSTM(hidden_size_l1,return_sequences=True,stateful=True))\n",
        "        #self._model.add(tf.keras.layers.LSTM(hidden_size_l2,return_sequences=True))\n",
        "\n",
        "\n",
        "        ####################################################################################################\n",
        "        # Instantiating a Dense layer that connects the output to the vocab_size  and adding layer to model#\n",
        "        ####################################################################################################\n",
        "        self._dense = tf.keras.layers.Dense(self.vocab_size)\n",
        "        self._model.add(self._dense)\n",
        "\n",
        "\n",
        "        ####################################################################################################\n",
        "        # Adding softmax activation layer and deriving probability to each class and adding layer to model #\n",
        "        ####################################################################################################\n",
        "        self._activation = tf.keras.layers.Activation('softmax')\n",
        "        self._model.add(self._activation)\n",
        "\n",
        "        ##########################################################\n",
        "        # Instantiating the stochastic gradient decent optimizer #\n",
        "        ##########################################################\n",
        "        self._optimizer = tf.keras.optimizers.SGD(lr=self._lr, clipnorm=max_grad_norm)\n",
        "\n",
        "\n",
        "        ##############################################################################\n",
        "        # Compiling and summarizing the model stacked using the keras sequential API #\n",
        "        ##############################################################################\n",
        "        self._model.compile(loss=self.crossentropy, optimizer=self._optimizer)\n",
        "        self._model.summary()\n",
        "\n",
        "\n",
        "    def crossentropy(self,y_true, y_pred):\n",
        "        return tf.keras.losses.sparse_categorical_crossentropy(y_true, y_pred)\n",
        "\n",
        "    def train_batch(self,_input_data,_targets):\n",
        "        #################################################\n",
        "        # Creating the Training Operation for our Model #\n",
        "        #################################################\n",
        "        # Create a variable for the learning rate\n",
        "        self._lr = tf.Variable(0.0, trainable=False)\n",
        "        # Get all TensorFlow variables marked as \"trainable\" (i.e. all of them except _lr, which we just created)\n",
        "        tvars = self._model.trainable_variables\n",
        "        # Define the gradient clipping threshold\n",
        "        with tf.GradientTape() as tape:\n",
        "            # Forward pass.\n",
        "            output_words_prob = self._model(_input_data)\n",
        "            # Loss value for this batch.\n",
        "            loss  = self.crossentropy(_targets, output_words_prob)\n",
        "            # average across batch and reduce sum\n",
        "            cost = tf.reduce_sum(loss/ self.batch_size)\n",
        "        # Get gradients of loss wrt the trainable variables.\n",
        "        grad_t_list = tape.gradient(cost, tvars)\n",
        "        # Define the gradient clipping threshold\n",
        "        grads, _ = tf.clip_by_global_norm(grad_t_list, max_grad_norm)\n",
        "        # Create the training TensorFlow Operation through our optimizer\n",
        "        train_op = self._optimizer.apply_gradients(zip(grads, tvars))\n",
        "        return cost\n",
        "\n",
        "    def test_batch(self,_input_data,_targets):\n",
        "        #################################################\n",
        "        # Creating the Testing Operation for our Model #\n",
        "        #################################################\n",
        "        output_words_prob = self._model(_input_data)\n",
        "        loss  = self.crossentropy(_targets, output_words_prob)\n",
        "        # average across batch and reduce sum\n",
        "        cost = tf.reduce_sum(loss/ self.batch_size)\n",
        "\n",
        "        return cost\n",
        "    @classmethod\n",
        "    def instance(cls) :\n",
        "        return PTBModel()"
      ]
    },
    {
      "cell_type": "markdown",
      "metadata": {
        "id": "390635f8-2c08-419e-ba2a-5399e705bf72"
      },
      "source": [
        "With that, the actual structure of our Recurrent Neural Network with Long Short-Term Memory is finished. What remains for us to do is to actually create the methods to run through time -- that is, the <code>run_epoch</code> method to be run at each epoch and a <code>main</code> script which ties all of this together.\n",
        "\n",
        "What our <code>run_epoch</code> method should do is take our input data and feed it to the relevant operations. This will return at the very least the current result for the cost function.\n"
      ]
    },
    {
      "cell_type": "code",
      "execution_count": 51,
      "metadata": {
        "id": "d3940030-b235-4070-b1d1-6705497d9cdf"
      },
      "outputs": [],
      "source": [
        "\n",
        "########################################################################################################################\n",
        "# run_one_epoch takes as parameters  the model instance, the data to be fed, training or testing mode and verbose info #\n",
        "########################################################################################################################\n",
        "def run_one_epoch(m, data,is_training=True,verbose=False):\n",
        "\n",
        "    #Define the epoch size based on the length of the data, batch size and the number of steps\n",
        "    epoch_size = ((len(data) // m.batch_size) - 1) // m.num_steps\n",
        "    start_time = time.time()\n",
        "    costs = 0.\n",
        "    iters = 0\n",
        "\n",
        "    m._model.reset_states()\n",
        "\n",
        "    #For each step and data point\n",
        "    for step, (x, y) in enumerate(ptb_iterator(data, m.batch_size, m.num_steps)):\n",
        "\n",
        "        #Evaluate and return cost, state by running cost, final_state and the function passed as parameter\n",
        "        #y = tf.keras.utils.to_categorical(y, num_classes=vocab_size)\n",
        "        if is_training :\n",
        "            loss=  m.train_batch(x, y)\n",
        "        else :\n",
        "            loss = m.test_batch(x, y)\n",
        "\n",
        "\n",
        "        #Add returned cost to costs (which keeps track of the total costs for this epoch)\n",
        "        costs += loss\n",
        "\n",
        "        #Add number of steps to iteration counter\n",
        "        iters += m.num_steps\n",
        "\n",
        "        if verbose and step % (epoch_size // 10) == 10:\n",
        "            print(\"Itr %d of %d, perplexity: %.3f speed: %.0f wps\" % (step , epoch_size, np.exp(costs / iters), iters * m.batch_size / (time.time() - start_time)))\n",
        "\n",
        "\n",
        "\n",
        "    # Returns the Perplexity rating for us to keep track of how the model is evolving\n",
        "    return np.exp(costs / iters)\n"
      ]
    },
    {
      "cell_type": "markdown",
      "metadata": {
        "id": "223ade44-2816-4980-8d0b-8e0d9603b194"
      },
      "source": [
        "Now, we create the <code>main</code> method to tie everything together. The code here reads the data from the directory, using the <code>reader</code> helper module, and then trains and evaluates the model on both a testing and a validating subset of data.\n"
      ]
    },
    {
      "cell_type": "code",
      "execution_count": 52,
      "metadata": {
        "id": "6f28dd40-100a-45a0-b0d0-47854ed8ba28"
      },
      "outputs": [],
      "source": [
        "# Reads the data and separates it into training data, validation data and testing data\n",
        "raw_data = ptb_raw_data(data_dir)\n",
        "train_data, valid_data, test_data, _, _ = raw_data"
      ]
    },
    {
      "cell_type": "code",
      "execution_count": null,
      "metadata": {
        "colab": {
          "base_uri": "https://localhost:8080/"
        },
        "id": "6b30cebd-6d2a-4e85-8e82-9b7232ad2351",
        "outputId": "a9c8127e-7fc9-466d-9a87-694121afd8be"
      },
      "outputs": [
        {
          "metadata": {
            "tags": null
          },
          "name": "stderr",
          "output_type": "stream",
          "text": [
            "WARNING:absl:`lr` is deprecated in Keras optimizer, please use `learning_rate` or use the legacy optimizer, e.g.,tf.keras.optimizers.legacy.SGD.\n"
          ]
        },
        {
          "output_type": "stream",
          "name": "stdout",
          "text": [
            "Model: \"sequential_1\"\n",
            "_________________________________________________________________\n",
            " Layer (type)                Output Shape              Param #   \n",
            "=================================================================\n",
            " embedding_vocab (Embedding  (30, 20, 200)             2000000   \n",
            " )                                                               \n",
            "                                                                 \n",
            " rnn_1 (RNN)                 (30, 20, 128)             671088    \n",
            "                                                                 \n",
            " dense_1 (Dense)             (30, 20, 10000)           1290000   \n",
            "                                                                 \n",
            " activation_1 (Activation)   (30, 20, 10000)           0         \n",
            "                                                                 \n",
            "=================================================================\n",
            "Total params: 3961088 (15.11 MB)\n",
            "Trainable params: 3955088 (15.09 MB)\n",
            "Non-trainable params: 6000 (23.44 KB)\n",
            "_________________________________________________________________\n",
            "Epoch 1 : Learning rate: 1.000\n",
            "Itr 10 of 1549, perplexity: 4978.045 speed: 888 wps\n",
            "Itr 164 of 1549, perplexity: 1090.076 speed: 941 wps\n",
            "Itr 318 of 1549, perplexity: 846.692 speed: 937 wps\n",
            "Itr 472 of 1549, perplexity: 700.269 speed: 946 wps\n",
            "Itr 626 of 1549, perplexity: 596.091 speed: 948 wps\n",
            "Itr 780 of 1549, perplexity: 530.956 speed: 944 wps\n",
            "Itr 934 of 1549, perplexity: 479.596 speed: 944 wps\n",
            "Itr 1088 of 1549, perplexity: 440.886 speed: 944 wps\n",
            "Itr 1242 of 1549, perplexity: 410.867 speed: 943 wps\n",
            "Itr 1396 of 1549, perplexity: 382.668 speed: 942 wps\n",
            "Epoch 1 : Train Perplexity: 360.484\n",
            "Epoch 1 : Valid Perplexity: 213.574\n",
            "Epoch 2 : Learning rate: 1.000\n",
            "Itr 10 of 1549, perplexity: 240.242 speed: 1034 wps\n",
            "Itr 164 of 1549, perplexity: 212.852 speed: 953 wps\n",
            "Itr 318 of 1549, perplexity: 204.431 speed: 944 wps\n",
            "Itr 472 of 1549, perplexity: 196.047 speed: 940 wps\n",
            "Itr 626 of 1549, perplexity: 187.158 speed: 938 wps\n",
            "Itr 780 of 1549, perplexity: 183.406 speed: 936 wps\n",
            "Itr 934 of 1549, perplexity: 179.298 speed: 937 wps\n",
            "Itr 1088 of 1549, perplexity: 175.841 speed: 937 wps\n",
            "Itr 1242 of 1549, perplexity: 173.411 speed: 939 wps\n",
            "Itr 1396 of 1549, perplexity: 169.266 speed: 939 wps\n",
            "Epoch 2 : Train Perplexity: 166.360\n",
            "Epoch 2 : Valid Perplexity: 162.954\n",
            "Epoch 3 : Learning rate: 1.000\n",
            "Itr 10 of 1549, perplexity: 166.882 speed: 925 wps\n",
            "Itr 164 of 1549, perplexity: 148.897 speed: 926 wps\n",
            "Itr 318 of 1549, perplexity: 145.573 speed: 932 wps\n",
            "Itr 472 of 1549, perplexity: 140.983 speed: 935 wps\n",
            "Itr 626 of 1549, perplexity: 135.752 speed: 938 wps\n",
            "Itr 780 of 1549, perplexity: 134.546 speed: 938 wps\n",
            "Itr 934 of 1549, perplexity: 132.726 speed: 937 wps\n",
            "Itr 1088 of 1549, perplexity: 131.221 speed: 938 wps\n",
            "Itr 1242 of 1549, perplexity: 130.351 speed: 938 wps\n",
            "Itr 1396 of 1549, perplexity: 128.024 speed: 938 wps\n",
            "Epoch 3 : Train Perplexity: 126.675\n",
            "Epoch 3 : Valid Perplexity: 145.336\n",
            "Epoch 4 : Learning rate: 1.000\n",
            "Itr 10 of 1549, perplexity: 133.772 speed: 899 wps\n",
            "Itr 164 of 1549, perplexity: 121.707 speed: 936 wps\n",
            "Itr 318 of 1549, perplexity: 119.773 speed: 935 wps\n",
            "Itr 472 of 1549, perplexity: 116.252 speed: 939 wps\n",
            "Itr 626 of 1549, perplexity: 112.227 speed: 939 wps\n",
            "Itr 780 of 1549, perplexity: 111.634 speed: 938 wps\n",
            "Itr 934 of 1549, perplexity: 110.579 speed: 939 wps\n",
            "Itr 1088 of 1549, perplexity: 109.691 speed: 939 wps\n",
            "Itr 1242 of 1549, perplexity: 109.301 speed: 940 wps\n",
            "Itr 1396 of 1549, perplexity: 107.626 speed: 940 wps\n",
            "Epoch 4 : Train Perplexity: 106.838\n"
          ]
        }
      ],
      "source": [
        "# Instantiates the PTBModel class\n",
        "m=PTBModel.instance()\n",
        "K = tf.keras.backend\n",
        "for i in range(max_epoch):\n",
        "    # Define the decay for this epoch\n",
        "    lr_decay = decay ** max(i - max_epoch_decay_lr, 0.0)\n",
        "    dcr = learning_rate * lr_decay\n",
        "    m._lr = dcr\n",
        "    K.set_value(m._model.optimizer.learning_rate,m._lr)\n",
        "    print(\"Epoch %d : Learning rate: %.3f\" % (i + 1, m._model.optimizer.learning_rate))\n",
        "    # Run the loop for this epoch in the training mode\n",
        "    train_perplexity = run_one_epoch(m, train_data,is_training=True,verbose=True)\n",
        "    print(\"Epoch %d : Train Perplexity: %.3f\" % (i + 1, train_perplexity))\n",
        "\n",
        "    # Run the loop for this epoch in the validation mode\n",
        "    valid_perplexity = run_one_epoch(m, valid_data,is_training=False,verbose=False)\n",
        "    print(\"Epoch %d : Valid Perplexity: %.3f\" % (i + 1, valid_perplexity))\n",
        "\n",
        "# Run the loop in the testing mode to see how effective was our training\n",
        "test_perplexity = run_one_epoch(m, test_data,is_training=False,verbose=False)\n",
        "print(\"Test Perplexity: %.3f\" % test_perplexity)\n",
        "\n"
      ]
    },
    {
      "cell_type": "markdown",
      "metadata": {
        "id": "d0ffa21d-fb29-473b-aa47-172f2a6c48e7"
      },
      "source": [
        "As you can see, the model's perplexity rating drops very quickly after a few iterations. As was elaborated before, <b>lower Perplexity means that the model is more certain about its prediction</b>. As such, we can be sure that this model is performing well!\n"
      ]
    },
    {
      "cell_type": "markdown",
      "metadata": {
        "id": "75aa4c6f-0e60-4228-a036-ef701ed25a99"
      },
      "source": [
        "-------\n"
      ]
    },
    {
      "cell_type": "markdown",
      "metadata": {
        "id": "3d868d76-16b0-4a81-9078-5db192736a5f"
      },
      "source": [
        "This is the end of the <b>Applying Recurrent Neural Networks to Text Processing</b> notebook. Hopefully you now have a better understanding of Recurrent Neural Networks and how to implement one utilizing TensorFlow. Thank you for reading this notebook, and good luck on your studies.\n"
      ]
    },
    {
      "cell_type": "markdown",
      "metadata": {
        "id": "bc1e2eb3-712c-4906-b6f3-9a9c638d565a"
      },
      "source": [
        "## Want to learn more?\n",
        "\n",
        "Also, you can use __Watson Studio__ to run these notebooks faster with bigger datasets.__Watson Studio__ is IBM’s leading cloud solution for data scientists, built by data scientists. With Jupyter notebooks, RStudio, Apache Spark and popular libraries pre-packaged in the cloud, __Watson Studio__ enables data scientists to collaborate on their projects without having to install anything. Join the fast-growing community of __Watson Studio__ users today with a free account at [Watson Studio](https://cocl.us/ML0120EN_DSX).This is the end of this lesson. Thank you for reading this notebook, and good luck on your studies.\n"
      ]
    },
    {
      "cell_type": "markdown",
      "metadata": {
        "id": "68a58147-f074-49e2-a1c0-f691629de7a0"
      },
      "source": [
        "### Thanks for completing this lesson!\n",
        "\n",
        "Notebook created by <a href=\"https://br.linkedin.com/in/walter-gomes-de-amorim-junior-624726121?utm_medium=Exinfluencer&utm_source=Exinfluencer&utm_content=000026UJ&utm_term=10006555&utm_id=NA-SkillsNetwork-Channel-SkillsNetworkCoursesIBMDeveloperSkillsNetworkDL0120ENSkillsNetwork954-2023-01-01\">Walter Gomes de Amorim Junior</a>, <a href = \"https://linkedin.com/in/saeedaghabozorgi\"> Saeed Aghabozorgi </a></h4>\n",
        "\n",
        "\n",
        "Updated to TF 2.X by  <a href=\"https://www.linkedin.com/in/samaya-madhavan?utm_medium=Exinfluencer&utm_source=Exinfluencer&utm_content=000026UJ&utm_term=10006555&utm_id=NA-SkillsNetwork-Channel-SkillsNetworkCoursesIBMDeveloperSkillsNetworkDL0120ENSkillsNetwork954-2023-01-01\"> Samaya Madhavan </a>\n"
      ]
    },
    {
      "cell_type": "markdown",
      "metadata": {
        "id": "292dbe61-8c8c-4421-a445-1f05665a5340"
      },
      "source": [
        "<hr>\n",
        "\n",
        "Copyright &copy; 2018 [Cognitive Class](https://cocl.us/DX0108EN_CC). This notebook and its source code are released under the terms of the [MIT License](https://bigdatauniversity.com/mit-license/?utm_medium=Exinfluencer&utm_source=Exinfluencer&utm_content=000026UJ&utm_term=10006555&utm_id=NA-SkillsNetwork-Channel-SkillsNetworkCoursesIBMDeveloperSkillsNetworkDL0120ENSkillsNetwork954-2023-01-01).\n"
      ]
    }
  ],
  "metadata": {
    "colab": {
      "provenance": []
    },
    "kernelspec": {
      "display_name": "Python",
      "language": "python",
      "name": "conda-env-python-py"
    },
    "language_info": {
      "name": ""
    }
  },
  "nbformat": 4,
  "nbformat_minor": 0
}